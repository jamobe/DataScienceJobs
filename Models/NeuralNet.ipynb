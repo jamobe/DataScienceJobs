{
 "cells": [
  {
   "cell_type": "code",
   "execution_count": 1,
   "metadata": {},
   "outputs": [],
   "source": [
    "import pickle\n",
    "import os.path\n",
    "import pandas as pd\n",
    "import numpy as np\n",
    "from sqlalchemy import create_engine\n",
    "import torch\n",
    "from torch import nn\n",
    "from torch.optim import SGD\n",
    "from torch.nn import functional as F\n",
    "from matplotlib import pyplot as plt\n",
    "from torchvision import transforms\n",
    "from torch.utils.data import DataLoader, Dataset, TensorDataset\n",
    "import pdb\n",
    "DEVICE = 'cuda' if torch.cuda.is_available() else 'cpu'\n",
    "#DEVICE = 'cpu'"
   ]
  },
  {
   "cell_type": "code",
   "execution_count": 7,
   "metadata": {},
   "outputs": [
    {
     "data": {
      "text/plain": [
       "'C:\\\\Users\\\\lundr\\\\DSJ'"
      ]
     },
     "execution_count": 7,
     "metadata": {},
     "output_type": "execute_result"
    }
   ],
   "source": [
    "os.getcwd()"
   ]
  },
  {
   "cell_type": "code",
   "execution_count": 33,
   "metadata": {},
   "outputs": [],
   "source": [
    "#os.chdir('DataScienceJobs')\n",
    "path =os.getcwd()\n",
    "with open(path + '/Pickles/word2vec.pkl', 'rb') as file:\n",
    "    w2v_model = pickle.load(file)\n",
    "    \n",
    "with open( path + '/data/W2V.pkl', 'rb') as file:\n",
    "    X_train, X_val, X_test = pickle.load(file)\n",
    "\n",
    "with open(path + '/data/yTrainValTest.pkl', 'rb') as file:\n",
    "    y_train, y_val, y_test = pickle.load(file)"
   ]
  },
  {
   "cell_type": "code",
   "execution_count": 34,
   "metadata": {},
   "outputs": [],
   "source": [
    "# standardize the data \n",
    "X_train = np.array(X_train)\n",
    "X_val = np.array(X_val)\n",
    "X_test= np.array(X_test)\n",
    "\n",
    "y_train = np.array(y_train)\n",
    "y_val = np.array(y_val)\n",
    "y_test = np.array(y_test)"
   ]
  },
  {
   "cell_type": "code",
   "execution_count": 35,
   "metadata": {},
   "outputs": [
    {
     "data": {
      "text/plain": [
       "torch.Size([7141, 83, 300])"
      ]
     },
     "execution_count": 35,
     "metadata": {},
     "output_type": "execute_result"
    }
   ],
   "source": [
    "torch.Tensor(X_train).shape\n",
    "#torch.Tensor(y_train).size(0)"
   ]
  },
  {
   "cell_type": "code",
   "execution_count": 27,
   "metadata": {},
   "outputs": [
    {
     "ename": "AssertionError",
     "evalue": "",
     "output_type": "error",
     "traceback": [
      "\u001b[1;31m---------------------------------------------------------------------------\u001b[0m",
      "\u001b[1;31mAssertionError\u001b[0m                            Traceback (most recent call last)",
      "\u001b[1;32m<ipython-input-27-9c570fe4be42>\u001b[0m in \u001b[0;36m<module>\u001b[1;34m\u001b[0m\n\u001b[1;32m----> 1\u001b[1;33m \u001b[0mdataset\u001b[0m \u001b[1;33m=\u001b[0m \u001b[0mTensorDataset\u001b[0m\u001b[1;33m(\u001b[0m\u001b[0mtorch\u001b[0m\u001b[1;33m.\u001b[0m\u001b[0mTensor\u001b[0m\u001b[1;33m(\u001b[0m\u001b[0mX_train\u001b[0m\u001b[1;33m)\u001b[0m\u001b[1;33m,\u001b[0m \u001b[0mtorch\u001b[0m\u001b[1;33m.\u001b[0m\u001b[0mTensor\u001b[0m\u001b[1;33m(\u001b[0m\u001b[0my_train\u001b[0m\u001b[1;33m)\u001b[0m\u001b[1;33m)\u001b[0m\u001b[1;33m\u001b[0m\u001b[0m\n\u001b[0m",
      "\u001b[1;32m~\\AppData\\Local\\Continuum\\anaconda3\\envs\\dsj3\\lib\\site-packages\\torch\\utils\\data\\dataset.py\u001b[0m in \u001b[0;36m__init__\u001b[1;34m(self, *tensors)\u001b[0m\n\u001b[0;32m    156\u001b[0m \u001b[1;33m\u001b[0m\u001b[0m\n\u001b[0;32m    157\u001b[0m     \u001b[1;32mdef\u001b[0m \u001b[0m__init__\u001b[0m\u001b[1;33m(\u001b[0m\u001b[0mself\u001b[0m\u001b[1;33m,\u001b[0m \u001b[1;33m*\u001b[0m\u001b[0mtensors\u001b[0m\u001b[1;33m)\u001b[0m\u001b[1;33m:\u001b[0m\u001b[1;33m\u001b[0m\u001b[0m\n\u001b[1;32m--> 158\u001b[1;33m         \u001b[1;32massert\u001b[0m \u001b[0mall\u001b[0m\u001b[1;33m(\u001b[0m\u001b[0mtensors\u001b[0m\u001b[1;33m[\u001b[0m\u001b[1;36m0\u001b[0m\u001b[1;33m]\u001b[0m\u001b[1;33m.\u001b[0m\u001b[0msize\u001b[0m\u001b[1;33m(\u001b[0m\u001b[1;36m0\u001b[0m\u001b[1;33m)\u001b[0m \u001b[1;33m==\u001b[0m \u001b[0mtensor\u001b[0m\u001b[1;33m.\u001b[0m\u001b[0msize\u001b[0m\u001b[1;33m(\u001b[0m\u001b[1;36m0\u001b[0m\u001b[1;33m)\u001b[0m \u001b[1;32mfor\u001b[0m \u001b[0mtensor\u001b[0m \u001b[1;32min\u001b[0m \u001b[0mtensors\u001b[0m\u001b[1;33m)\u001b[0m\u001b[1;33m\u001b[0m\u001b[0m\n\u001b[0m\u001b[0;32m    159\u001b[0m         \u001b[0mself\u001b[0m\u001b[1;33m.\u001b[0m\u001b[0mtensors\u001b[0m \u001b[1;33m=\u001b[0m \u001b[0mtensors\u001b[0m\u001b[1;33m\u001b[0m\u001b[0m\n\u001b[0;32m    160\u001b[0m \u001b[1;33m\u001b[0m\u001b[0m\n",
      "\u001b[1;31mAssertionError\u001b[0m: "
     ]
    }
   ],
   "source": [
    "dataset = TensorDataset(torch.Tensor(X_train), torch.Tensor(y_train))"
   ]
  },
  {
   "cell_type": "code",
   "execution_count": 9,
   "metadata": {},
   "outputs": [],
   "source": [
    "\n",
    "class Perceptron(nn.Module):\n",
    "    def __init__(self, n_in, n_hi):\n",
    "        super(Perceptron, self).__init__()\n",
    "        self.fc1 = nn.Linear(n_in, n_hi, bias=True) #n_in: number of input, n_hi(100): number of output\n",
    "        self.fc2 = nn.Linear(n_hi, 1, bias=True)   # add hidden layer, n_hi(100): number of input, 1\n",
    "        \n",
    "    'perceptron() == perceptron.forward()'                 \n",
    "    def forward(self, x):      # \n",
    "        x = self.fc1(x)        # apply first layer to X\n",
    "        x = F.relu(x)          # apply an activation function\n",
    "        x = self.fc2(x)        # apply second layer to X\n",
    "        return x"
   ]
  },
  {
   "cell_type": "code",
   "execution_count": 10,
   "metadata": {},
   "outputs": [],
   "source": [
    "#perceptron = Perceptron(X_train.shape, 1000)\n",
    "#optimizer = SGD(perceptron.parameters(), lr=0.01)"
   ]
  },
  {
   "cell_type": "code",
   "execution_count": 18,
   "metadata": {},
   "outputs": [],
   "source": [
    "mean=np.mean(y_train)\n",
    "std = np.std(y_train)"
   ]
  },
  {
   "cell_type": "code",
   "execution_count": 163,
   "metadata": {},
   "outputs": [],
   "source": [
    "\n",
    "\n",
    "# for batch in fmnist_dl:\n",
    "#     break\n",
    "# for batch in fmnist_dl:\n",
    "#     break\n",
    "\n",
    "# print(\"y:\", batch[1].shape)\n",
    "# print(\"X: \", batch[0].shape)"
   ]
  },
  {
   "cell_type": "code",
   "execution_count": 12,
   "metadata": {},
   "outputs": [
    {
     "ename": "NameError",
     "evalue": "name 'y' is not defined",
     "output_type": "error",
     "traceback": [
      "\u001b[1;31m---------------------------------------------------------------------------\u001b[0m",
      "\u001b[1;31mNameError\u001b[0m                                 Traceback (most recent call last)",
      "\u001b[1;32m<ipython-input-12-3d861059fa55>\u001b[0m in \u001b[0;36m<module>\u001b[1;34m\u001b[0m\n\u001b[1;32m----> 1\u001b[1;33m \u001b[0my\u001b[0m\u001b[1;33m.\u001b[0m\u001b[0mshape\u001b[0m\u001b[1;33m\u001b[0m\u001b[0m\n\u001b[0m",
      "\u001b[1;31mNameError\u001b[0m: name 'y' is not defined"
     ]
    }
   ],
   "source": [
    "y.shape"
   ]
  },
  {
   "cell_type": "code",
   "execution_count": 159,
   "metadata": {},
   "outputs": [
    {
     "ename": "ValueError",
     "evalue": "could not broadcast input array from shape (3783,93,300) into shape (3783)",
     "output_type": "error",
     "traceback": [
      "\u001b[1;31m---------------------------------------------------------------------------\u001b[0m",
      "\u001b[1;31mValueError\u001b[0m                                Traceback (most recent call last)",
      "\u001b[1;32m<ipython-input-159-6c6977154570>\u001b[0m in \u001b[0;36m<module>\u001b[1;34m\u001b[0m\n\u001b[1;32m----> 1\u001b[1;33m \u001b[0mcomb\u001b[0m \u001b[1;33m=\u001b[0m \u001b[0mnp\u001b[0m\u001b[1;33m.\u001b[0m\u001b[0marray\u001b[0m\u001b[1;33m(\u001b[0m\u001b[1;33m(\u001b[0m\u001b[0mlist\u001b[0m\u001b[1;33m(\u001b[0m\u001b[1;33m[\u001b[0m\u001b[0mX_train\u001b[0m\u001b[1;33m,\u001b[0m\u001b[0my_train\u001b[0m\u001b[1;33m]\u001b[0m\u001b[1;33m)\u001b[0m\u001b[1;33m)\u001b[0m\u001b[1;33m)\u001b[0m\u001b[1;33m\u001b[0m\u001b[1;33m\u001b[0m\u001b[0m\n\u001b[0m",
      "\u001b[1;31mValueError\u001b[0m: could not broadcast input array from shape (3783,93,300) into shape (3783)"
     ]
    }
   ],
   "source": [
    "comb = np.array((list([X_train,y_train])))"
   ]
  },
  {
   "cell_type": "code",
   "execution_count": 36,
   "metadata": {},
   "outputs": [
    {
     "name": "stdout",
     "output_type": "stream",
     "text": [
      "training epoch 0\n",
      "training epoch 1\n",
      "training epoch 2\n",
      "training epoch 3\n",
      "training epoch 4\n",
      "input shape (BS, n_classes): torch.Size([1, 24900])\n",
      "target shape (BS, 1): torch.Size([1, 1])\n",
      "output shape torch.Size([1, 1])\n"
     ]
    }
   ],
   "source": [
    "N_EPOCHS = 5\n",
    "# init the model, loss and optimizer\n",
    "net = Perceptron(X_train.shape[1]*X_train.shape[2], 300)\n",
    "#net.apply(custom_weights)  # applies the custom_weights function: setting weights to zero\n",
    "optimizer = SGD(net.parameters(), lr=0.05)\n",
    "#optimizer = torch.optim.Adam(net.parameters(), lr=0.005)\n",
    "criterion = nn.SmoothL1Loss()\n",
    "net = net.to(DEVICE)\n",
    "BATCH_SIZE = 32\n",
    "\n",
    "mean=np.mean(y_train)\n",
    "std = np.std(y_train)\n",
    "\n",
    "dataset = TensorDataset(torch.Tensor(X_train), torch.Tensor(y_train))\n",
    "data = DataLoader(dataset, batch_size=BATCH_SIZE)\n",
    "batch_iterator = iter(data)\n",
    "\n",
    "loss_history = []\n",
    "#%timeit\n",
    "for epoch in range(N_EPOCHS):\n",
    "    print(\"training epoch {}\".format(epoch))\n",
    "   \n",
    "    for batch in data:\n",
    "        X_batch,y_batch=batch\n",
    "    \n",
    "        for xsample, ysample in zip(X_batch, y_batch):\n",
    "            optimizer.zero_grad() \n",
    "            # zero the gradients\n",
    "            # batch preparation\n",
    "\n",
    "            xsample = xsample.reshape(-1)\n",
    "            ysample = (ysample-mean)/std\n",
    "            x = torch.Tensor(xsample).unsqueeze(0) # tensor([[0.8745, 0.5205]]) torch.Size([1, 2])\n",
    "            y = torch.Tensor([ysample]).unsqueeze(0) # tensor([[1.]]) torch.Size([1, 1])\n",
    "            x = x.to(DEVICE)    # transfers the x to GPU(if available, otherwise CPU -> see Code above)\n",
    "            y = y.to(DEVICE)\n",
    "\n",
    "            # forward pass\n",
    "            out = net(x) # prediction, y_hat, \n",
    "\n",
    "            # loss calculation\n",
    "            loss = criterion(out, y)\n",
    "\n",
    "            # calculating gradients\n",
    "            loss.backward()\n",
    "\n",
    "        # changing the weights by specified(in the optimizer init) learning rate\n",
    "        optimizer.step()\n",
    "\n",
    "        #append calculated loss to the history\n",
    "        loss  = loss.detach().cpu().numpy()\n",
    "        loss_history.append(loss)\n",
    "\n",
    "\n",
    "print(\"input shape (BS, n_classes):\", x.shape)\n",
    "print(\"target shape (BS, 1):\", y.shape)\n",
    "print(\"output shape\", out.shape)"
   ]
  },
  {
   "cell_type": "code",
   "execution_count": 37,
   "metadata": {},
   "outputs": [
    {
     "data": {
      "text/plain": [
       "Text(0, 0.5, 'loss (CE)')"
      ]
     },
     "execution_count": 37,
     "metadata": {},
     "output_type": "execute_result"
    },
    {
     "data": {
      "image/png": "[encoded data removed]",
      "text/plain": [
       "<Figure size 432x288 with 1 Axes>"
      ]
     },
     "metadata": {
      "needs_background": "light"
     },
     "output_type": "display_data"
    }
   ],
   "source": [
    "history = pd.DataFrame(loss_history, columns=['loss'])\n",
    "history.loss[:2500].rolling(50).mean().plot()\n",
    "plt.title(\"loss\")\n",
    "plt.xlabel(\"batch number\")\n",
    "plt.ylabel(\"loss (CE)\")"
   ]
  },
  {
   "cell_type": "code",
   "execution_count": 38,
   "metadata": {},
   "outputs": [],
   "source": [
    "preds=[]\n",
    "actual=[]\n",
    "net.eval()\n",
    "for instance, label in zip(X_val, y_val):   \n",
    "    value = torch.Tensor(instance.reshape(-1)).cuda()\n",
    "    # pass it through the model\n",
    "    raw_prediction = net(value)\n",
    "    prediction = raw_prediction*std+mean\n",
    "    preds.append(prediction)\n",
    "    actual.append(label)"
   ]
  },
  {
   "cell_type": "code",
   "execution_count": 39,
   "metadata": {},
   "outputs": [],
   "source": [
    "preds_cpu = [preds[i].cpu() for i in range(len(preds))]"
   ]
  },
  {
   "cell_type": "code",
   "execution_count": 40,
   "metadata": {},
   "outputs": [],
   "source": [
    "y_pred = np.array([preds_cpu[i].item() for i in range(len(preds_cpu))])\n",
    "y_true = np.array(actual)"
   ]
  },
  {
   "cell_type": "code",
   "execution_count": 41,
   "metadata": {},
   "outputs": [
    {
     "data": {
      "image/png": "[encoded data removed]",
      "text/plain": [
       "<Figure size 576x396 with 1 Axes>"
      ]
     },
     "metadata": {},
     "output_type": "display_data"
    }
   ],
   "source": [
    "import matplotlib.pyplot as plt\n",
    "with plt.style.context('seaborn'):\n",
    "    ax = plt.scatter(y_true,y_pred)\n",
    "    plt.plot(y_pred, y_pred, color='black')\n",
    "    plt.plot(y_pred, y_pred-15000, color='mediumspringgreen')\n",
    "    plt.plot(y_pred, y_pred+15000, color='mediumspringgreen')\n",
    "    plt.xlabel('y_true')\n",
    "    plt.ylabel('y_pred')"
   ]
  },
  {
   "cell_type": "code",
   "execution_count": 42,
   "metadata": {},
   "outputs": [],
   "source": [
    "def mean_absolute_percentage_error(y_true, y_pred): \n",
    "\n",
    "    return np.mean(np.abs((y_true - y_pred) / y_true)) * 100\n",
    "\n",
    "def mean_absolute_range_percentage_error(y_true, y_pred): \n",
    "    error = np.abs(y_true- y_pred)-10000\n",
    "    error[error < 0] = 0\n",
    "    return np.mean(error/y_true)*100\n",
    "\n",
    "from sklearn import metrics"
   ]
  },
  {
   "cell_type": "code",
   "execution_count": 43,
   "metadata": {},
   "outputs": [
    {
     "name": "stdout",
     "output_type": "stream",
     "text": [
      "Mean Absolute Error: 23232\n",
      "Mean Absolute Percentage Error: 44.1\n",
      "Mean Absolute Range Percentage Error: 25.6\n",
      "Mean Squared Error: 1050630043\n",
      "Root Mean Squared Error:32413\n",
      "R2 Score:0.60\n"
     ]
    }
   ],
   "source": [
    "print('Mean Absolute Error: {0:.0f}'.format( metrics.mean_absolute_error(y_true, y_pred)))\n",
    "print('Mean Absolute Percentage Error: {0:.1f}'.format(mean_absolute_percentage_error(y_true, y_pred)))\n",
    "print('Mean Absolute Range Percentage Error: {0:.1f}'.format(mean_absolute_range_percentage_error(y_true, y_pred)))\n",
    "\n",
    "print('Mean Squared Error: {0:.0f}'.format(metrics.mean_squared_error(y_true, y_pred)))\n",
    "print('Root Mean Squared Error:{0:.0f}'.format(np.sqrt(metrics.mean_squared_error(y_true, y_pred))))\n",
    "print('R2 Score:{0:.2f}'.format(np.sqrt(metrics.r2_score(y_true, y_pred))))\n",
    "\n",
    "\n",
    "# print('Mean Absolute Error Train: {0:.0f}'.format( metrics.mean_absolute_error(y_train, y_pred_train)))\n",
    "# print('Mean Absolute Percentage Error Train: {0:.1f}'.format(mean_absolute_percentage_error(y_train, y_pred_train)))\n",
    "# print('Mean Absolute Range Percentage Error Train: {0:.1f}'.format(mean_absolute_range_percentage_error(y_train, y_pred_train)))\n",
    "# print('R2 Score Train :{0:.2f}'.format(np.sqrt(metrics.r2_score(y_train, y_pred_train))))\n",
    "\n"
   ]
  },
  {
   "cell_type": "code",
   "execution_count": null,
   "metadata": {},
   "outputs": [],
   "source": []
  }
 ],
 "metadata": {
  "kernelspec": {
   "display_name": "Python 3",
   "language": "python",
   "name": "python3"
  },
  "language_info": {
   "codemirror_mode": {
    "name": "ipython",
    "version": 3
   },
   "file_extension": ".py",
   "mimetype": "text/x-python",
   "name": "python",
   "nbconvert_exporter": "python",
   "pygments_lexer": "ipython3",
   "version": "3.7.0"
  }
 },
 "nbformat": 4,
 "nbformat_minor": 4
}
