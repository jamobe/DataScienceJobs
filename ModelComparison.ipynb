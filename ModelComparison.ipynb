{
 "cells": [
  {
   "cell_type": "code",
   "execution_count": 1,
   "metadata": {},
   "outputs": [],
   "source": [
    "import os.path\n",
    "import numpy as np\n",
    "import pickle\n",
    "from sklearn import metrics\n",
    "import pandas as pd"
   ]
  },
  {
   "cell_type": "code",
   "execution_count": 21,
   "metadata": {},
   "outputs": [],
   "source": [
    "path = os.getcwd()\n",
    "with open(path + '/data/RFpredval.pkl', 'rb') as file:\n",
    "    RF_val = pickle.load(file)\n",
    "with open(path + '/data/SVRpredval.pkl', 'rb') as file:\n",
    "    SVR_val = pickle.load(file)\n",
    "with open(path + '/data/REGpredval.pkl', 'rb') as file:\n",
    "    REG_val = pickle.load(file)\n",
    "with open(path + '/data/XGBpredval.pkl', 'rb') as file:\n",
    "    XGB_val = pickle.load(file)\n",
    "    \n",
    "with open(path + '/data/RFpredtrain.pkl', 'rb') as file:\n",
    "    RF_train = pickle.load(file)\n",
    "with open(path + '/data/SVRpredtrain.pkl', 'rb') as file:\n",
    "    SVR_train= pickle.load(file)\n",
    "with open(path + '/data/REGpredtrain.pkl', 'rb') as file:\n",
    "    REG_train = pickle.load(file)\n",
    "with open(path + '/data/XGBpredtrain.pkl', 'rb') as file:\n",
    "    XGB_train = pickle.load(file)\n",
    "    \n",
    "    \n",
    "with open(path + '/data/yTrainValTest.pkl', 'rb') as file:\n",
    "    y_train,y_val,y_test= pickle.load(file) \n"
   ]
  },
  {
   "cell_type": "code",
   "execution_count": 10,
   "metadata": {},
   "outputs": [
    {
     "data": {
      "text/plain": [
       "365     49751.563433\n",
       "5538    36432.100842\n",
       "5169    36923.643101\n",
       "5777    69794.626942\n",
       "4937    93070.478081\n",
       "            ...     \n",
       "4497    75734.384725\n",
       "974     58573.467430\n",
       "738     99736.730107\n",
       "3898    48545.202570\n",
       "1772    96885.130406\n",
       "Name: y_pred_svr, Length: 946, dtype: float64"
      ]
     },
     "execution_count": 10,
     "metadata": {},
     "output_type": "execute_result"
    }
   ],
   "source": [
    "SVR_val[0]['y_pred_svr']"
   ]
  },
  {
   "cell_type": "code",
   "execution_count": 42,
   "metadata": {},
   "outputs": [],
   "source": [
    "def mean_absolute_percentage_error(y_true, y_pred): \n",
    "\n",
    "    return np.mean(np.abs((y_true - y_pred) / y_true)) * 100\n",
    "\n",
    "def mean_absolute_range_percentage_error(y_true, y_pred): \n",
    "    error = np.abs((y_true- y_pred))-10000\n",
    "    error[error < 0] = 0\n",
    "    return np.mean(error/y_true)*100"
   ]
  },
  {
   "cell_type": "code",
   "execution_count": 23,
   "metadata": {},
   "outputs": [
    {
     "name": "stdout",
     "output_type": "stream",
     "text": [
      " SVR Mean Absolute Error: 19547\n",
      " Linear Reg Mean Absolute Error: 13371\n",
      " rf Mean Absolute Error: 13873\n",
      " XGB Mean Absolute Error: 13102\n",
      " \n",
      " SVR Mean Absolute Error (train) : 19031\n",
      " Linear Reg Mean Absolute Error (train): 9125\n",
      " rf Mean Absolute Error (train): 7224\n",
      " XGB Mean Absolute Error (train): 7485\n"
     ]
    }
   ],
   "source": [
    "print(' SVR Mean Absolute Error: {0:.0f}'.format( metrics.mean_absolute_error(y_val, SVR_val[0]['y_pred_svr'])))\n",
    "print(' Linear Reg Mean Absolute Error: {0:.0f}'.format( metrics.mean_absolute_error(y_val, REG_val[0]['y_pred_reg'])))\n",
    "print(' rf Mean Absolute Error: {0:.0f}'.format( metrics.mean_absolute_error(y_val, RF_val[0]['y_pred_rf'])))\n",
    "print(' XGB Mean Absolute Error: {0:.0f}'.format( metrics.mean_absolute_error(y_val, XGB_val[0]['y_pred_xgb'])))\n",
    "print(' ')\n",
    "print(' SVR Mean Absolute Error (train) : {0:.0f}'.format( metrics.mean_absolute_error(y_train, SVR_train[0]['y_pred_svr'])))\n",
    "print(' Linear Reg Mean Absolute Error (train): {0:.0f}'.format( metrics.mean_absolute_error(y_train, REG_train[0]['y_pred_reg'])))\n",
    "print(' rf Mean Absolute Error (train): {0:.0f}'.format( metrics.mean_absolute_error(y_train, RF_train[0]['y_pred_rf'])))\n",
    "print(' XGB Mean Absolute Error (train): {0:.0f}'.format( metrics.mean_absolute_error(y_train, XGB_train[0]['y_pred_xgb'])))\n",
    "\n",
    "# print('Mean Absolute Percentage Error: {0:.1f}'.format(mean_absolute_percentage_error(y_val, y_pred)))\n",
    "# print('Mean Absolute Range Percentage Error: {0:.1f}'.format(mean_absolute_range_percentage_error(y_val, y_pred)))"
   ]
  },
  {
   "cell_type": "code",
   "execution_count": 29,
   "metadata": {},
   "outputs": [],
   "source": [
    "train_pred = pd.DataFrame([y_train,SVR_train[0]['y_pred_svr'],REG_train[0]['y_pred_reg'],RF_train[0]['y_pred_rf'],XGB_train[0]['y_pred_xgb']]).T\n",
    "val_pred = pd.DataFrame([y_val,SVR_val[0]['y_pred_svr'],REG_val[0]['y_pred_reg'],RF_val[0]['y_pred_rf'],XGB_val[0]['y_pred_xgb']]).T"
   ]
  },
  {
   "cell_type": "code",
   "execution_count": 30,
   "metadata": {},
   "outputs": [
    {
     "data": {
      "text/plain": [
       "Index(['salary_average_euros', 'y_pred_svr', 'y_pred_reg', 'y_pred_rf',\n",
       "       'y_pred_xgb'],\n",
       "      dtype='object')"
      ]
     },
     "execution_count": 30,
     "metadata": {},
     "output_type": "execute_result"
    }
   ],
   "source": [
    "train_pred .columns"
   ]
  },
  {
   "cell_type": "code",
   "execution_count": 35,
   "metadata": {},
   "outputs": [
    {
     "data": {
      "text/plain": [
       "LinearRegression(copy_X=True, fit_intercept=True, n_jobs=None, normalize=False)"
      ]
     },
     "execution_count": 35,
     "metadata": {},
     "output_type": "execute_result"
    }
   ],
   "source": [
    "from sklearn.linear_model import LinearRegression\n",
    "X = train_pred[[ 'y_pred_reg',\n",
    "       'y_pred_xgb']]\n",
    "y = train_pred ['salary_average_euros']\n",
    "\n",
    "model = LinearRegression()\n",
    "model.fit(X,y)"
   ]
  },
  {
   "cell_type": "code",
   "execution_count": 36,
   "metadata": {},
   "outputs": [],
   "source": [
    "y_all_pred_train = model.predict(X)\n",
    "y_all_pred_val = model.predict(val_pred[[ 'y_pred_reg',\n",
    "       'y_pred_xgb']])"
   ]
  },
  {
   "cell_type": "code",
   "execution_count": 47,
   "metadata": {},
   "outputs": [
    {
     "name": "stdout",
     "output_type": "stream",
     "text": [
      "Ensemble Mean Absolute Error (train): 7174\n",
      "Ensemble Mean Absolute Error (val): 12718\n",
      "Ensemble Mean Absolute range % Error (train): 2.5\n",
      "Ensemble Mean Absolute range % Error (val): 8.5\n",
      "R2 (train): 0.94\n",
      "R2 (val): 0.78\n"
     ]
    }
   ],
   "source": [
    "print('Ensemble Mean Absolute Error (train): {0:.0f}'.format( metrics.mean_absolute_error(y_train, y_all_pred_train)))\n",
    "print('Ensemble Mean Absolute Error (val): {0:.0f}'.format( metrics.mean_absolute_error(y_val, y_all_pred_val)))\n",
    "\n",
    "\n",
    "print('Ensemble Mean Absolute range % Error (train): {0:.1f}'.format( mean_absolute_range_percentage_error(y_train, y_all_pred_train)))\n",
    "print('Ensemble Mean Absolute range % Error (val): {0:.1f}'.format( mean_absolute_range_percentage_error(y_val, y_all_pred_val)))\n",
    "\n",
    "\n",
    "print('R2 (train): {0:.2f}'.format( metrics.r2_score(y_train, y_all_pred_train)))\n",
    "print('R2 (val): {0:.2f}'.format( metrics.r2_score(y_val, y_all_pred_val)))"
   ]
  },
  {
   "cell_type": "code",
   "execution_count": 50,
   "metadata": {},
   "outputs": [
    {
     "data": {
      "image/png": "[encoded data removed]",
      "text/plain": [
       "<Figure size 576x396 with 1 Axes>"
      ]
     },
     "metadata": {},
     "output_type": "display_data"
    }
   ],
   "source": [
    "import matplotlib.pyplot as plt\n",
    "import seaborn as sns\n",
    "with plt.style.context('seaborn'):\n",
    "    ax = plt.scatter(y_all_pred_val,y_val)\n",
    "    plt.plot(y_all_pred_val,y_all_pred_val, color='black')\n",
    "    plt.plot(y_all_pred_val, y_all_pred_val-15000, color='mediumspringgreen')\n",
    "    plt.plot(y_all_pred_val, y_all_pred_val+15000, color='mediumspringgreen')\n",
    "    plt.xlabel('y_pred')\n",
    "    plt.ylabel('y_true')"
   ]
  },
  {
   "cell_type": "code",
   "execution_count": 51,
   "metadata": {},
   "outputs": [
    {
     "data": {
      "text/plain": [
       "array([0.1640677 , 0.91169408])"
      ]
     },
     "execution_count": 51,
     "metadata": {},
     "output_type": "execute_result"
    }
   ],
   "source": [
    "model.coef_"
   ]
  },
  {
   "cell_type": "code",
   "execution_count": null,
   "metadata": {},
   "outputs": [],
   "source": []
  }
 ],
 "metadata": {
  "kernelspec": {
   "display_name": "Python 3",
   "language": "python",
   "name": "python3"
  },
  "language_info": {
   "codemirror_mode": {
    "name": "ipython",
    "version": 3
   },
   "file_extension": ".py",
   "mimetype": "text/x-python",
   "name": "python",
   "nbconvert_exporter": "python",
   "pygments_lexer": "ipython3",
   "version": "3.7.5"
  }
 },
 "nbformat": 4,
 "nbformat_minor": 4
}
