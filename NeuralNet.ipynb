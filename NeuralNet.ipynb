{
 "cells": [
  {
   "cell_type": "code",
   "execution_count": 1,
   "metadata": {},
   "outputs": [],
   "source": [
    "import pickle\n",
    "import os.path\n",
    "import pandas as pd\n",
    "import numpy as np\n",
    "from sqlalchemy import create_engine\n",
    "import torch\n",
    "from torch import nn\n",
    "from torch.optim import SGD\n",
    "from torch.nn import functional as F\n",
    "from matplotlib import pyplot as plt\n",
    "DEVICE = 'cuda' if torch.cuda.is_available() else 'cpu'"
   ]
  },
  {
   "cell_type": "code",
   "execution_count": 2,
   "metadata": {},
   "outputs": [],
   "source": [
    "with open('/Users/jamoth/DSR/DataScienceJobs/Pickles/word2vec.pkl', 'rb') as file:\n",
    "    w2v_model = pickle.load(file)\n",
    "    \n",
    "with open('/Users/jamoth/DSR/DataScienceJobs/data/W2V.pkl', 'rb') as file:\n",
    "    X_train, X_val, X_test = pickle.load(file)\n",
    "\n",
    "with open('/Users/jamoth/DSR/DataScienceJobs/data/yTrainValTest.pkl', 'rb') as file:\n",
    "    y_train, y_val, y_test = pickle.load(file) "
   ]
  },
  {
   "cell_type": "code",
   "execution_count": 3,
   "metadata": {},
   "outputs": [],
   "source": [
    "train_label = torch.Tensor(y_train)\n",
    "train_data = torch.Tensor(X_train)"
   ]
  },
  {
   "cell_type": "code",
   "execution_count": 17,
   "metadata": {},
   "outputs": [
    {
     "data": {
      "text/plain": [
       "array([[ 0.03215016, -0.02438095, -0.04037474, ..., -0.07282206,\n",
       "        -0.00495473,  0.01345142],\n",
       "       [ 0.0583657 ,  0.00238091, -0.03787627, ..., -0.03866876,\n",
       "         0.03635242, -0.02382568],\n",
       "       [-0.03486216,  0.01813217, -0.00027153, ...,  0.01979053,\n",
       "         0.00540992, -0.04960964],\n",
       "       ...,\n",
       "       [-0.00379949, -0.05085203, -0.01457347, ...,  0.03863429,\n",
       "        -0.05376931, -0.01451856],\n",
       "       [ 0.02922212, -0.06386179,  0.0518636 , ..., -0.02635334,\n",
       "         0.06598441,  0.0387895 ],\n",
       "       [ 0.05430917,  0.00225234, -0.00578877, ..., -0.14030145,\n",
       "         0.00345045,  0.07174925]])"
      ]
     },
     "execution_count": 17,
     "metadata": {},
     "output_type": "execute_result"
    }
   ],
   "source": [
    "X_train[0].reshape(-1)"
   ]
  },
  {
   "cell_type": "code",
   "execution_count": null,
   "metadata": {},
   "outputs": [],
   "source": []
  },
  {
   "cell_type": "code",
   "execution_count": 3,
   "metadata": {},
   "outputs": [],
   "source": [
    "\n",
    "class Perceptron(nn.Module):\n",
    "    def __init__(self, n_in, n_hi):\n",
    "        super(Perceptron, self).__init__()\n",
    "        self.fc1 = nn.Linear(n_in, n_hi, bias=True) #n_in: number of input, n_hi(100): number of output\n",
    "        self.fc2 = nn.Linear(n_hi, 1, bias=True)   # add hidden layer, n_hi(100): number of input, 1\n",
    "        \n",
    "    'perceptron() == perceptron.forward()'                 \n",
    "    def forward(self, x):      # \n",
    "        x = self.fc1(x)        # apply first layer to X\n",
    "        x = F.relu(x)          # apply an activation function\n",
    "        x = self.fc2(x)        # apply second layer to X\n",
    "        return x"
   ]
  },
  {
   "cell_type": "code",
   "execution_count": 4,
   "metadata": {},
   "outputs": [],
   "source": [
    "#perceptron = Perceptron(X_train.shape, 1000)\n",
    "#optimizer = SGD(perceptron.parameters(), lr=0.01)"
   ]
  },
  {
   "cell_type": "code",
   "execution_count": 15,
   "metadata": {},
   "outputs": [
    {
     "name": "stdout",
     "output_type": "stream",
     "text": [
      "training epoch 0\n",
      "training epoch 1\n",
      "training epoch 2\n",
      "training epoch 3\n",
      "training epoch 4\n",
      "input shape (BS, n_classes): torch.Size([1, 27600])\n",
      "target shape (BS, 1): torch.Size([1, 1])\n",
      "output shape torch.Size([1, 1])\n"
     ]
    }
   ],
   "source": [
    "N_EPOCHS = 5\n",
    "# init the model, loss and optimizer\n",
    "net = Perceptron(X_train.shape[1]*X_train.shape[2], 300)\n",
    "#net.apply(custom_weights)  # applies the custom_weights function: setting weights to zero\n",
    "optimizer = SGD(net.parameters(), lr=0.05)\n",
    "criterion = nn.SmoothL1Loss()\n",
    "net = net.to(DEVICE)\n",
    "\n",
    "\n",
    "loss_history = []\n",
    "for epoch in range(N_EPOCHS):\n",
    "    print(\"training epoch {}\".format(epoch))\n",
    "    for xsample, ysample in zip(X_train, y_train):\n",
    "        optimizer.zero_grad() \n",
    "        # zero the gradients\n",
    "        # batch preparation\n",
    "\n",
    "        xsample = xsample.reshape(-1)\n",
    "        x = torch.Tensor(xsample).unsqueeze(0) # tensor([[0.8745, 0.5205]]) torch.Size([1, 2])\n",
    "        y = torch.Tensor([ysample]).unsqueeze(0) # tensor([[1.]]) torch.Size([1, 1])\n",
    "        x = x.to(DEVICE)    # transfers the x to GPU(if available, otherwise CPU -> see Code above)\n",
    "        y = y.to(DEVICE)\n",
    "\n",
    "        # forward pass\n",
    "        out = net(x) # prediction, y_hat, \n",
    "\n",
    "        # loss calculation\n",
    "        loss = criterion(out, y)\n",
    "\n",
    "        # calculating gradients\n",
    "        loss.backward()\n",
    "\n",
    "        # changing the weights by specified(in the optimizer init) learning rate\n",
    "        optimizer.step()\n",
    "\n",
    "        #append calculated loss to the history\n",
    "        loss  = loss.detach().cpu().numpy()\n",
    "        loss_history.append(loss)\n",
    "\n",
    "\n",
    "print(\"input shape (BS, n_classes):\", x.shape)\n",
    "print(\"target shape (BS, 1):\", y.shape)\n",
    "print(\"output shape\", out.shape)"
   ]
  },
  {
   "cell_type": "code",
   "execution_count": 16,
   "metadata": {},
   "outputs": [
    {
     "data": {
      "text/plain": [
       "Text(0, 0.5, 'loss (CE)')"
      ]
     },
     "execution_count": 16,
     "metadata": {},
     "output_type": "execute_result"
    },
    {
     "data": {
      "image/png": "[encoded data removed]",
      "text/plain": [
       "<Figure size 432x288 with 1 Axes>"
      ]
     },
     "metadata": {
      "needs_background": "light"
     },
     "output_type": "display_data"
    }
   ],
   "source": [
    "history = pd.DataFrame(loss_history, columns=['loss'])\n",
    "history.loss[:2500].rolling(50).mean().plot()\n",
    "plt.title(\"loss\")\n",
    "plt.xlabel(\"batch number\")\n",
    "plt.ylabel(\"loss (CE)\")"
   ]
  },
  {
   "cell_type": "code",
   "execution_count": 17,
   "metadata": {},
   "outputs": [
    {
     "data": {
      "text/plain": [
       "0         67499.484375\n",
       "1        124999.382812\n",
       "2         37499.277344\n",
       "3         33059.289062\n",
       "4         36010.683594\n",
       "             ...      \n",
       "18910     39559.570312\n",
       "18911     27386.294922\n",
       "18912      6060.531250\n",
       "18913       285.085938\n",
       "18914     12391.749023\n",
       "Name: loss, Length: 18915, dtype: float32"
      ]
     },
     "execution_count": 17,
     "metadata": {},
     "output_type": "execute_result"
    }
   ],
   "source": [
    "history.loss"
   ]
  },
  {
   "cell_type": "code",
   "execution_count": null,
   "metadata": {},
   "outputs": [],
   "source": []
  }
 ],
 "metadata": {
  "kernelspec": {
   "display_name": "Python 3",
   "language": "python",
   "name": "python3"
  },
  "language_info": {
   "codemirror_mode": {
    "name": "ipython",
    "version": 3
   },
   "file_extension": ".py",
   "mimetype": "text/x-python",
   "name": "python",
   "nbconvert_exporter": "python",
   "pygments_lexer": "ipython3",
   "version": "3.7.4"
  }
 },
 "nbformat": 4,
 "nbformat_minor": 4
}
