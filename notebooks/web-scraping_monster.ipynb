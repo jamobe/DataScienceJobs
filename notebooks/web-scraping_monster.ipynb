{
 "cells": [
  {
   "cell_type": "code",
   "execution_count": 1,
   "metadata": {},
   "outputs": [],
   "source": [
    "import requests, bs4, time\n",
    "import pandas as pd\n",
    "import os.path"
   ]
  },
  {
   "cell_type": "code",
   "execution_count": 2,
   "metadata": {},
   "outputs": [],
   "source": [
    "path = os.getcwd()\n",
    "parent_folder, current_folder = os.path.split(path)"
   ]
  },
  {
   "cell_type": "markdown",
   "metadata": {},
   "source": [
    "First searching for all job postings using the word 'Data' on www.monster.co.uk"
   ]
  },
  {
   "cell_type": "code",
   "execution_count": null,
   "metadata": {},
   "outputs": [],
   "source": [
    "url = 'https://www.monster.co.uk/jobs/search/?q=data&cy=uk&client=power&stpage=1&page=10'"
   ]
  },
  {
   "cell_type": "code",
   "execution_count": null,
   "metadata": {},
   "outputs": [],
   "source": [
    "#  GET request\n",
    "res = requests.get(url)\n",
    "soup = bs4.BeautifulSoup(res.content)"
   ]
  },
  {
   "cell_type": "markdown",
   "metadata": {},
   "source": [
    "Extracting all the links to the individual job postings. The links that contain 'job-openings' are only working, so select only those links:"
   ]
  },
  {
   "cell_type": "code",
   "execution_count": null,
   "metadata": {},
   "outputs": [],
   "source": [
    "def extract_links(soup):\n",
    "    links =[]\n",
    "    for div in soup.find_all(name='a', attrs={'data-bypass':'true'}):\n",
    "        links.append(div['href'])\n",
    "    return links\n",
    "\n",
    "all_links = extract_links(soup)\n",
    "links = [s for s in all_links if \"job-openings\" in s]"
   ]
  },
  {
   "cell_type": "markdown",
   "metadata": {},
   "source": [
    "Write extracted links into a txt-File."
   ]
  },
  {
   "cell_type": "code",
   "execution_count": null,
   "metadata": {},
   "outputs": [],
   "source": [
    "with open(parent_folder+'/data/monster_links_1.txt', 'w') as f:\n",
    "    for item in links:\n",
    "        f.write(\"%s\\n\" % item)"
   ]
  },
  {
   "cell_type": "markdown",
   "metadata": {},
   "source": [
    "# Scraping websites for each individual job posting link:\n",
    "First extracting the links from the text file."
   ]
  },
  {
   "cell_type": "code",
   "execution_count": 4,
   "metadata": {},
   "outputs": [],
   "source": [
    "links = [line.rstrip('\\n') for line in open(parent_folder+'/data/monster_links_1.txt','r')]"
   ]
  },
  {
   "cell_type": "markdown",
   "metadata": {},
   "source": [
    "Function for extracting the job title from the website:"
   ]
  },
  {
   "cell_type": "code",
   "execution_count": 5,
   "metadata": {},
   "outputs": [],
   "source": [
    "def extract_jobtitle(soup):\n",
    "    title = 'no_title'\n",
    "    for div in soup.find_all(name='h1', attrs={'class':'title'}):\n",
    "        title = div.text\n",
    "    return title"
   ]
  },
  {
   "cell_type": "markdown",
   "metadata": {},
   "source": [
    "Function for extracting the job description from the website:"
   ]
  },
  {
   "cell_type": "code",
   "execution_count": 6,
   "metadata": {},
   "outputs": [],
   "source": [
    "def extract_descr(soup):\n",
    "    jobdesc = []\n",
    "    for div in soup.find_all(name='span', attrs={'id':'TrackingJobBody'}):\n",
    "        jobdesc = div.text\n",
    "    return jobdesc"
   ]
  },
  {
   "cell_type": "markdown",
   "metadata": {},
   "source": [
    "Function for extracting salary from the website:"
   ]
  },
  {
   "cell_type": "code",
   "execution_count": 7,
   "metadata": {},
   "outputs": [],
   "source": [
    "def extract_salary(soup):\n",
    "    salary = []\n",
    "    for div in soup.find_all('div',{'class':'col-xs-12 cell'}):\n",
    "        salary = div.text\n",
    "        salary = salary.replace('Salary','').strip()\n",
    "    return salary"
   ]
  },
  {
   "cell_type": "markdown",
   "metadata": {},
   "source": [
    "Function for extracting meta-data from the website:"
   ]
  },
  {
   "cell_type": "code",
   "execution_count": 9,
   "metadata": {},
   "outputs": [],
   "source": [
    "def extract_summary(soup):\n",
    "    output = ['nan','nan','nan','nan','nan','nan','nan']\n",
    "    separation =['Location', 'Job type', 'Posted', 'Industries', 'Education level', 'Career level','Reference code']\n",
    "    for div in soup.find_all('dl',{'class':'header'}):\n",
    "        summary = div.text\n",
    "        summary = summary.replace('\\n','')\n",
    "        for idx, item in enumerate(separation):\n",
    "            if item in summary:\n",
    "                output[idx] = summary.replace(item,'')\n",
    "    return output"
   ]
  },
  {
   "cell_type": "code",
   "execution_count": 12,
   "metadata": {},
   "outputs": [],
   "source": [
    "job_title_company = []\n",
    "description = []\n",
    "salary = []\n",
    "location = []\n",
    "jobtype = []\n",
    "industry = []\n",
    "education = []\n",
    "career = []\n",
    "duration = []\n",
    "ref_code = []\n",
    "\n",
    "for i in range(0,len(links)):\n",
    "    url = links[i]\n",
    "    res = requests.get(url)\n",
    "    time.sleep(1)  #ensuring at least 1 second between page grabs\n",
    "    soup = bs4.BeautifulSoup(res.content)\n",
    "    job_title_company.append(extract_jobtitle(soup))\n",
    "    description.append(extract_descr(soup))\n",
    "    salary.append(extract_salary(soup))\n",
    "    location_new, jobtype_new, duration_new, industry_new, education_new, career_new, ref_code_new = extract_summary(soup)\n",
    "    location.append(location_new)\n",
    "    jobtype.append(jobtype_new)\n",
    "    duration.append(duration_new)\n",
    "    industry.append(industry_new)\n",
    "    education.append(education_new)\n",
    "    career.append(career_new)\n",
    "    ref_code.append(ref_code_new)\n",
    "    \n",
    "d = {'title':job_title_company,'description':description, 'salary':salary, 'location':location, 'jobtype':jobtype, 'duration':duration, 'industry':industry, 'education':education, 'career':career,'ref_code':ref_code}\n",
    "df = pd.DataFrame(d)\n",
    "df.to_csv(parent_folder+'/data/monster_links_1.csv', index=True, sep='\\t')"
   ]
  },
  {
   "cell_type": "code",
   "execution_count": 13,
   "metadata": {},
   "outputs": [
    {
     "data": {
      "text/html": [
       "<div>\n",
       "<style scoped>\n",
       "    .dataframe tbody tr th:only-of-type {\n",
       "        vertical-align: middle;\n",
       "    }\n",
       "\n",
       "    .dataframe tbody tr th {\n",
       "        vertical-align: top;\n",
       "    }\n",
       "\n",
       "    .dataframe thead th {\n",
       "        text-align: right;\n",
       "    }\n",
       "</style>\n",
       "<table border=\"1\" class=\"dataframe\">\n",
       "  <thead>\n",
       "    <tr style=\"text-align: right;\">\n",
       "      <th></th>\n",
       "      <th>title</th>\n",
       "      <th>description</th>\n",
       "      <th>salary</th>\n",
       "      <th>location</th>\n",
       "      <th>jobtype</th>\n",
       "      <th>duration</th>\n",
       "      <th>industry</th>\n",
       "      <th>education</th>\n",
       "      <th>career</th>\n",
       "      <th>ref_code</th>\n",
       "    </tr>\n",
       "  </thead>\n",
       "  <tbody>\n",
       "    <tr>\n",
       "      <th>0</th>\n",
       "      <td>Data Visualisation Developer - ADLIB</td>\n",
       "      <td>Create novel ways of visualising data.Develop ...</td>\n",
       "      <td>£30,000.00 - £60,000.00  per year   Benefits:</td>\n",
       "      <td>Bath, SW BA11SU</td>\n",
       "      <td>Full Time, Permanent</td>\n",
       "      <td>2 Days ago</td>\n",
       "      <td>Computer/IT Services</td>\n",
       "      <td>nan</td>\n",
       "      <td>Entry Level</td>\n",
       "      <td>11083</td>\n",
       "    </tr>\n",
       "    <tr>\n",
       "      <th>1</th>\n",
       "      <td>Graduate Sales Trainee - Data Communications -...</td>\n",
       "      <td>STEM graduates needed for an immediate start J...</td>\n",
       "      <td>£20,000.00 - £22,000.00  per year£10,000 Bonus...</td>\n",
       "      <td>Birmingham, MID B11AA</td>\n",
       "      <td>Full Time, Permanent</td>\n",
       "      <td>2 Days ago</td>\n",
       "      <td>Other/Not Classified</td>\n",
       "      <td>Unspecified</td>\n",
       "      <td>nan</td>\n",
       "      <td>jn -022019-148968_1570441099</td>\n",
       "    </tr>\n",
       "    <tr>\n",
       "      <th>2</th>\n",
       "      <td>Consulting Director, Data - TOMGANDHI CONSULTI...</td>\n",
       "      <td>Consulting Director, Data LondonTo Salary  plu...</td>\n",
       "      <td>[]</td>\n",
       "      <td>London, London</td>\n",
       "      <td>Full Time, Permanent</td>\n",
       "      <td>2 Days ago</td>\n",
       "      <td>Computer/IT Services</td>\n",
       "      <td>nan</td>\n",
       "      <td>nan</td>\n",
       "      <td>nan</td>\n",
       "    </tr>\n",
       "    <tr>\n",
       "      <th>3</th>\n",
       "      <td>Data Analyst - Verastar Ltd</td>\n",
       "      <td>Winner of Business of the Year at the Greater ...</td>\n",
       "      <td>£20,000.00 - £22,000.00  per year</td>\n",
       "      <td>Manchester, NW M224DJ</td>\n",
       "      <td>Full Time, Permanent</td>\n",
       "      <td>2 Days ago</td>\n",
       "      <td>Other/Not Classified</td>\n",
       "      <td>Professional</td>\n",
       "      <td>Entry Level</td>\n",
       "      <td>473847</td>\n",
       "    </tr>\n",
       "    <tr>\n",
       "      <th>4</th>\n",
       "      <td>Data Architect - Design/Analysis - Central Bir...</td>\n",
       "      <td>Data Architect - Design/Analysis - Central Bir...</td>\n",
       "      <td>£53,000.00 - £58,000.00  per yearExcellent Ben...</td>\n",
       "      <td>Birmingham, MID B46UD</td>\n",
       "      <td>Full Time, Permanent</td>\n",
       "      <td>2 Days ago</td>\n",
       "      <td>Computer/IT Services</td>\n",
       "      <td>Unspecified</td>\n",
       "      <td>nan</td>\n",
       "      <td>pr/cr/010044_1570463781</td>\n",
       "    </tr>\n",
       "    <tr>\n",
       "      <th>...</th>\n",
       "      <td>...</td>\n",
       "      <td>...</td>\n",
       "      <td>...</td>\n",
       "      <td>...</td>\n",
       "      <td>...</td>\n",
       "      <td>...</td>\n",
       "      <td>...</td>\n",
       "      <td>...</td>\n",
       "      <td>...</td>\n",
       "      <td>...</td>\n",
       "    </tr>\n",
       "    <tr>\n",
       "      <th>264</th>\n",
       "      <td>Data Processor / Finance Administrator / Data ...</td>\n",
       "      <td>Job Title: Data ProcessorLocation: BanburySala...</td>\n",
       "      <td>£17,550.00 - £17,550.00  per yearbenefits</td>\n",
       "      <td>Banbury, HC OX150YY</td>\n",
       "      <td>Full Time, Permanent</td>\n",
       "      <td>6 Days ago</td>\n",
       "      <td>Financial Services</td>\n",
       "      <td>nan</td>\n",
       "      <td>nan</td>\n",
       "      <td>bbyfs-60_1570119899</td>\n",
       "    </tr>\n",
       "    <tr>\n",
       "      <th>265</th>\n",
       "      <td>Business Analyst (Data Management) - Potters B...</td>\n",
       "      <td>Business Analyst (Business Data Management) - ...</td>\n",
       "      <td>£50,000.00 - £55,000.00  per year</td>\n",
       "      <td>Hertfordshire, London</td>\n",
       "      <td>Full Time, Permanent</td>\n",
       "      <td>6 Days ago</td>\n",
       "      <td>Computer Software; Computer/IT Services</td>\n",
       "      <td>Unspecified</td>\n",
       "      <td>nan</td>\n",
       "      <td>ash18080ch17_1570088424</td>\n",
       "    </tr>\n",
       "    <tr>\n",
       "      <th>266</th>\n",
       "      <td>Data Scientist - Ethero</td>\n",
       "      <td>Expert Level Data AnalystTelford£Excellent sal...</td>\n",
       "      <td>£41,000.00 - £47,000.00  per year   Benefits:</td>\n",
       "      <td>Telford, MID</td>\n",
       "      <td>Full Time, Permanent</td>\n",
       "      <td>1 Days ago</td>\n",
       "      <td>Computer Hardware; Computer Software; Business...</td>\n",
       "      <td>nan</td>\n",
       "      <td>nan</td>\n",
       "      <td>j13251</td>\n",
       "    </tr>\n",
       "    <tr>\n",
       "      <th>267</th>\n",
       "      <td>Data Incident Analysis Specialist - Nationwide</td>\n",
       "      <td>Job descriptionWe need:• Data Incident Analysi...</td>\n",
       "      <td>[]</td>\n",
       "      <td>Swindon Head Office, SW</td>\n",
       "      <td>Part Time, Permanent</td>\n",
       "      <td>Today</td>\n",
       "      <td>Other/Not Classified</td>\n",
       "      <td>nan</td>\n",
       "      <td>nan</td>\n",
       "      <td>mp25410ct1240-r002801427</td>\n",
       "    </tr>\n",
       "    <tr>\n",
       "      <th>268</th>\n",
       "      <td>IT Business Analyst - TOMGANDHI CONSULTING LIM...</td>\n",
       "      <td>No SponsorshipJob Title :- IT Business Analyst...</td>\n",
       "      <td>[]</td>\n",
       "      <td>Zurich</td>\n",
       "      <td>Per Day, Temporary/Contract/Project</td>\n",
       "      <td>5 Days ago</td>\n",
       "      <td>Computer/IT Services</td>\n",
       "      <td>nan</td>\n",
       "      <td>nan</td>\n",
       "      <td>nan</td>\n",
       "    </tr>\n",
       "  </tbody>\n",
       "</table>\n",
       "<p>269 rows × 10 columns</p>\n",
       "</div>"
      ],
      "text/plain": [
       "                                                 title  \\\n",
       "0                 Data Visualisation Developer - ADLIB   \n",
       "1    Graduate Sales Trainee - Data Communications -...   \n",
       "2    Consulting Director, Data - TOMGANDHI CONSULTI...   \n",
       "3                          Data Analyst - Verastar Ltd   \n",
       "4    Data Architect - Design/Analysis - Central Bir...   \n",
       "..                                                 ...   \n",
       "264  Data Processor / Finance Administrator / Data ...   \n",
       "265  Business Analyst (Data Management) - Potters B...   \n",
       "266                            Data Scientist - Ethero   \n",
       "267     Data Incident Analysis Specialist - Nationwide   \n",
       "268  IT Business Analyst - TOMGANDHI CONSULTING LIM...   \n",
       "\n",
       "                                           description  \\\n",
       "0    Create novel ways of visualising data.Develop ...   \n",
       "1    STEM graduates needed for an immediate start J...   \n",
       "2    Consulting Director, Data LondonTo Salary  plu...   \n",
       "3    Winner of Business of the Year at the Greater ...   \n",
       "4    Data Architect - Design/Analysis - Central Bir...   \n",
       "..                                                 ...   \n",
       "264  Job Title: Data ProcessorLocation: BanburySala...   \n",
       "265  Business Analyst (Business Data Management) - ...   \n",
       "266  Expert Level Data AnalystTelford£Excellent sal...   \n",
       "267  Job descriptionWe need:• Data Incident Analysi...   \n",
       "268  No SponsorshipJob Title :- IT Business Analyst...   \n",
       "\n",
       "                                                salary  \\\n",
       "0        £30,000.00 - £60,000.00  per year   Benefits:   \n",
       "1    £20,000.00 - £22,000.00  per year£10,000 Bonus...   \n",
       "2                                                   []   \n",
       "3                    £20,000.00 - £22,000.00  per year   \n",
       "4    £53,000.00 - £58,000.00  per yearExcellent Ben...   \n",
       "..                                                 ...   \n",
       "264          £17,550.00 - £17,550.00  per yearbenefits   \n",
       "265                  £50,000.00 - £55,000.00  per year   \n",
       "266      £41,000.00 - £47,000.00  per year   Benefits:   \n",
       "267                                                 []   \n",
       "268                                                 []   \n",
       "\n",
       "                    location                              jobtype    duration  \\\n",
       "0            Bath, SW BA11SU                 Full Time, Permanent  2 Days ago   \n",
       "1      Birmingham, MID B11AA                 Full Time, Permanent  2 Days ago   \n",
       "2             London, London                 Full Time, Permanent  2 Days ago   \n",
       "3      Manchester, NW M224DJ                 Full Time, Permanent  2 Days ago   \n",
       "4      Birmingham, MID B46UD                 Full Time, Permanent  2 Days ago   \n",
       "..                       ...                                  ...         ...   \n",
       "264      Banbury, HC OX150YY                 Full Time, Permanent  6 Days ago   \n",
       "265    Hertfordshire, London                 Full Time, Permanent  6 Days ago   \n",
       "266             Telford, MID                 Full Time, Permanent  1 Days ago   \n",
       "267  Swindon Head Office, SW                 Part Time, Permanent       Today   \n",
       "268                   Zurich  Per Day, Temporary/Contract/Project  5 Days ago   \n",
       "\n",
       "                                              industry     education  \\\n",
       "0                                 Computer/IT Services           nan   \n",
       "1                                 Other/Not Classified   Unspecified   \n",
       "2                                 Computer/IT Services           nan   \n",
       "3                                 Other/Not Classified  Professional   \n",
       "4                                 Computer/IT Services   Unspecified   \n",
       "..                                                 ...           ...   \n",
       "264                                 Financial Services           nan   \n",
       "265            Computer Software; Computer/IT Services   Unspecified   \n",
       "266  Computer Hardware; Computer Software; Business...           nan   \n",
       "267                               Other/Not Classified           nan   \n",
       "268                               Computer/IT Services           nan   \n",
       "\n",
       "          career                      ref_code  \n",
       "0    Entry Level                         11083  \n",
       "1            nan  jn -022019-148968_1570441099  \n",
       "2            nan                           nan  \n",
       "3    Entry Level                        473847  \n",
       "4            nan       pr/cr/010044_1570463781  \n",
       "..           ...                           ...  \n",
       "264          nan           bbyfs-60_1570119899  \n",
       "265          nan       ash18080ch17_1570088424  \n",
       "266          nan                        j13251  \n",
       "267          nan      mp25410ct1240-r002801427  \n",
       "268          nan                           nan  \n",
       "\n",
       "[269 rows x 10 columns]"
      ]
     },
     "execution_count": 13,
     "metadata": {},
     "output_type": "execute_result"
    }
   ],
   "source": [
    "df"
   ]
  },
  {
   "cell_type": "code",
   "execution_count": 17,
   "metadata": {},
   "outputs": [
    {
     "data": {
      "text/plain": [
       "<bound method IndexOpsMixin.value_counts of 0          £30,000.00 - £60,000.00  per year   Benefits:\n",
       "1      £20,000.00 - £22,000.00  per year£10,000 Bonus...\n",
       "2                                                     []\n",
       "3                      £20,000.00 - £22,000.00  per year\n",
       "4      £53,000.00 - £58,000.00  per yearExcellent Ben...\n",
       "                             ...                        \n",
       "264            £17,550.00 - £17,550.00  per yearbenefits\n",
       "265                    £50,000.00 - £55,000.00  per year\n",
       "266        £41,000.00 - £47,000.00  per year   Benefits:\n",
       "267                                                   []\n",
       "268                                                   []\n",
       "Name: salary, Length: 269, dtype: object>"
      ]
     },
     "execution_count": 17,
     "metadata": {},
     "output_type": "execute_result"
    }
   ],
   "source": []
  },
  {
   "cell_type": "code",
   "execution_count": 14,
   "metadata": {},
   "outputs": [
    {
     "ename": "KeyError",
     "evalue": "'job_title/company'",
     "output_type": "error",
     "traceback": [
      "\u001b[0;31m---------------------------------------------------------------------------\u001b[0m",
      "\u001b[0;31mKeyError\u001b[0m                                  Traceback (most recent call last)",
      "\u001b[0;32m/anaconda3/envs/dsj/lib/python3.7/site-packages/pandas/core/indexes/base.py\u001b[0m in \u001b[0;36mget_loc\u001b[0;34m(self, key, method, tolerance)\u001b[0m\n\u001b[1;32m   2896\u001b[0m             \u001b[0;32mtry\u001b[0m\u001b[0;34m:\u001b[0m\u001b[0;34m\u001b[0m\u001b[0;34m\u001b[0m\u001b[0m\n\u001b[0;32m-> 2897\u001b[0;31m                 \u001b[0;32mreturn\u001b[0m \u001b[0mself\u001b[0m\u001b[0;34m.\u001b[0m\u001b[0m_engine\u001b[0m\u001b[0;34m.\u001b[0m\u001b[0mget_loc\u001b[0m\u001b[0;34m(\u001b[0m\u001b[0mkey\u001b[0m\u001b[0;34m)\u001b[0m\u001b[0;34m\u001b[0m\u001b[0;34m\u001b[0m\u001b[0m\n\u001b[0m\u001b[1;32m   2898\u001b[0m             \u001b[0;32mexcept\u001b[0m \u001b[0mKeyError\u001b[0m\u001b[0;34m:\u001b[0m\u001b[0;34m\u001b[0m\u001b[0;34m\u001b[0m\u001b[0m\n",
      "\u001b[0;32mpandas/_libs/index.pyx\u001b[0m in \u001b[0;36mpandas._libs.index.IndexEngine.get_loc\u001b[0;34m()\u001b[0m\n",
      "\u001b[0;32mpandas/_libs/index.pyx\u001b[0m in \u001b[0;36mpandas._libs.index.IndexEngine.get_loc\u001b[0;34m()\u001b[0m\n",
      "\u001b[0;32mpandas/_libs/hashtable_class_helper.pxi\u001b[0m in \u001b[0;36mpandas._libs.hashtable.PyObjectHashTable.get_item\u001b[0;34m()\u001b[0m\n",
      "\u001b[0;32mpandas/_libs/hashtable_class_helper.pxi\u001b[0m in \u001b[0;36mpandas._libs.hashtable.PyObjectHashTable.get_item\u001b[0;34m()\u001b[0m\n",
      "\u001b[0;31mKeyError\u001b[0m: 'job_title/company'",
      "\nDuring handling of the above exception, another exception occurred:\n",
      "\u001b[0;31mKeyError\u001b[0m                                  Traceback (most recent call last)",
      "\u001b[0;32m<ipython-input-14-a81d07de3d41>\u001b[0m in \u001b[0;36m<module>\u001b[0;34m\u001b[0m\n\u001b[0;32m----> 1\u001b[0;31m \u001b[0mdf\u001b[0m\u001b[0;34m[\u001b[0m\u001b[0;34m'job_title/company'\u001b[0m\u001b[0;34m]\u001b[0m\u001b[0;34m.\u001b[0m\u001b[0mvalue_counts\u001b[0m\u001b[0;34m(\u001b[0m\u001b[0;34m)\u001b[0m\u001b[0;34m\u001b[0m\u001b[0;34m\u001b[0m\u001b[0m\n\u001b[0m",
      "\u001b[0;32m/anaconda3/envs/dsj/lib/python3.7/site-packages/pandas/core/frame.py\u001b[0m in \u001b[0;36m__getitem__\u001b[0;34m(self, key)\u001b[0m\n\u001b[1;32m   2993\u001b[0m             \u001b[0;32mif\u001b[0m \u001b[0mself\u001b[0m\u001b[0;34m.\u001b[0m\u001b[0mcolumns\u001b[0m\u001b[0;34m.\u001b[0m\u001b[0mnlevels\u001b[0m \u001b[0;34m>\u001b[0m \u001b[0;36m1\u001b[0m\u001b[0;34m:\u001b[0m\u001b[0;34m\u001b[0m\u001b[0;34m\u001b[0m\u001b[0m\n\u001b[1;32m   2994\u001b[0m                 \u001b[0;32mreturn\u001b[0m \u001b[0mself\u001b[0m\u001b[0;34m.\u001b[0m\u001b[0m_getitem_multilevel\u001b[0m\u001b[0;34m(\u001b[0m\u001b[0mkey\u001b[0m\u001b[0;34m)\u001b[0m\u001b[0;34m\u001b[0m\u001b[0;34m\u001b[0m\u001b[0m\n\u001b[0;32m-> 2995\u001b[0;31m             \u001b[0mindexer\u001b[0m \u001b[0;34m=\u001b[0m \u001b[0mself\u001b[0m\u001b[0;34m.\u001b[0m\u001b[0mcolumns\u001b[0m\u001b[0;34m.\u001b[0m\u001b[0mget_loc\u001b[0m\u001b[0;34m(\u001b[0m\u001b[0mkey\u001b[0m\u001b[0;34m)\u001b[0m\u001b[0;34m\u001b[0m\u001b[0;34m\u001b[0m\u001b[0m\n\u001b[0m\u001b[1;32m   2996\u001b[0m             \u001b[0;32mif\u001b[0m \u001b[0mis_integer\u001b[0m\u001b[0;34m(\u001b[0m\u001b[0mindexer\u001b[0m\u001b[0;34m)\u001b[0m\u001b[0;34m:\u001b[0m\u001b[0;34m\u001b[0m\u001b[0;34m\u001b[0m\u001b[0m\n\u001b[1;32m   2997\u001b[0m                 \u001b[0mindexer\u001b[0m \u001b[0;34m=\u001b[0m \u001b[0;34m[\u001b[0m\u001b[0mindexer\u001b[0m\u001b[0;34m]\u001b[0m\u001b[0;34m\u001b[0m\u001b[0;34m\u001b[0m\u001b[0m\n",
      "\u001b[0;32m/anaconda3/envs/dsj/lib/python3.7/site-packages/pandas/core/indexes/base.py\u001b[0m in \u001b[0;36mget_loc\u001b[0;34m(self, key, method, tolerance)\u001b[0m\n\u001b[1;32m   2897\u001b[0m                 \u001b[0;32mreturn\u001b[0m \u001b[0mself\u001b[0m\u001b[0;34m.\u001b[0m\u001b[0m_engine\u001b[0m\u001b[0;34m.\u001b[0m\u001b[0mget_loc\u001b[0m\u001b[0;34m(\u001b[0m\u001b[0mkey\u001b[0m\u001b[0;34m)\u001b[0m\u001b[0;34m\u001b[0m\u001b[0;34m\u001b[0m\u001b[0m\n\u001b[1;32m   2898\u001b[0m             \u001b[0;32mexcept\u001b[0m \u001b[0mKeyError\u001b[0m\u001b[0;34m:\u001b[0m\u001b[0;34m\u001b[0m\u001b[0;34m\u001b[0m\u001b[0m\n\u001b[0;32m-> 2899\u001b[0;31m                 \u001b[0;32mreturn\u001b[0m \u001b[0mself\u001b[0m\u001b[0;34m.\u001b[0m\u001b[0m_engine\u001b[0m\u001b[0;34m.\u001b[0m\u001b[0mget_loc\u001b[0m\u001b[0;34m(\u001b[0m\u001b[0mself\u001b[0m\u001b[0;34m.\u001b[0m\u001b[0m_maybe_cast_indexer\u001b[0m\u001b[0;34m(\u001b[0m\u001b[0mkey\u001b[0m\u001b[0;34m)\u001b[0m\u001b[0;34m)\u001b[0m\u001b[0;34m\u001b[0m\u001b[0;34m\u001b[0m\u001b[0m\n\u001b[0m\u001b[1;32m   2900\u001b[0m         \u001b[0mindexer\u001b[0m \u001b[0;34m=\u001b[0m \u001b[0mself\u001b[0m\u001b[0;34m.\u001b[0m\u001b[0mget_indexer\u001b[0m\u001b[0;34m(\u001b[0m\u001b[0;34m[\u001b[0m\u001b[0mkey\u001b[0m\u001b[0;34m]\u001b[0m\u001b[0;34m,\u001b[0m \u001b[0mmethod\u001b[0m\u001b[0;34m=\u001b[0m\u001b[0mmethod\u001b[0m\u001b[0;34m,\u001b[0m \u001b[0mtolerance\u001b[0m\u001b[0;34m=\u001b[0m\u001b[0mtolerance\u001b[0m\u001b[0;34m)\u001b[0m\u001b[0;34m\u001b[0m\u001b[0;34m\u001b[0m\u001b[0m\n\u001b[1;32m   2901\u001b[0m         \u001b[0;32mif\u001b[0m \u001b[0mindexer\u001b[0m\u001b[0;34m.\u001b[0m\u001b[0mndim\u001b[0m \u001b[0;34m>\u001b[0m \u001b[0;36m1\u001b[0m \u001b[0;32mor\u001b[0m \u001b[0mindexer\u001b[0m\u001b[0;34m.\u001b[0m\u001b[0msize\u001b[0m \u001b[0;34m>\u001b[0m \u001b[0;36m1\u001b[0m\u001b[0;34m:\u001b[0m\u001b[0;34m\u001b[0m\u001b[0;34m\u001b[0m\u001b[0m\n",
      "\u001b[0;32mpandas/_libs/index.pyx\u001b[0m in \u001b[0;36mpandas._libs.index.IndexEngine.get_loc\u001b[0;34m()\u001b[0m\n",
      "\u001b[0;32mpandas/_libs/index.pyx\u001b[0m in \u001b[0;36mpandas._libs.index.IndexEngine.get_loc\u001b[0;34m()\u001b[0m\n",
      "\u001b[0;32mpandas/_libs/hashtable_class_helper.pxi\u001b[0m in \u001b[0;36mpandas._libs.hashtable.PyObjectHashTable.get_item\u001b[0;34m()\u001b[0m\n",
      "\u001b[0;32mpandas/_libs/hashtable_class_helper.pxi\u001b[0m in \u001b[0;36mpandas._libs.hashtable.PyObjectHashTable.get_item\u001b[0;34m()\u001b[0m\n",
      "\u001b[0;31mKeyError\u001b[0m: 'job_title/company'"
     ]
    }
   ],
   "source": []
  },
  {
   "cell_type": "code",
   "execution_count": null,
   "metadata": {},
   "outputs": [],
   "source": []
  }
 ],
 "metadata": {
  "kernelspec": {
   "display_name": "Python 3",
   "language": "python",
   "name": "python3"
  },
  "language_info": {
   "codemirror_mode": {
    "name": "ipython",
    "version": 3
   },
   "file_extension": ".py",
   "mimetype": "text/x-python",
   "name": "python",
   "nbconvert_exporter": "python",
   "pygments_lexer": "ipython3",
   "version": "3.7.4"
  }
 },
 "nbformat": 4,
 "nbformat_minor": 4
}
