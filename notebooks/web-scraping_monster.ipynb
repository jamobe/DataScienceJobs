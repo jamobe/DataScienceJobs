{
 "cells": [
  {
   "cell_type": "code",
   "execution_count": 1,
   "metadata": {},
   "outputs": [],
   "source": [
    "import requests, bs4, time\n",
    "import pandas as pd"
   ]
  },
  {
   "cell_type": "markdown",
   "metadata": {},
   "source": [
    "First searching for all job postings using the word 'Data' on www.monster.co.uk"
   ]
  },
  {
   "cell_type": "code",
   "execution_count": null,
   "metadata": {},
   "outputs": [],
   "source": [
    "url = 'https://www.monster.co.uk/jobs/search/?q=data&cy=uk&client=power&stpage=1&page=10'"
   ]
  },
  {
   "cell_type": "code",
   "execution_count": null,
   "metadata": {},
   "outputs": [],
   "source": [
    "#  GET request\n",
    "res = requests.get(url)\n",
    "soup = bs4.BeautifulSoup(res.content)"
   ]
  },
  {
   "cell_type": "markdown",
   "metadata": {},
   "source": [
    "Extracting all the links to the individual job postings."
   ]
  },
  {
   "cell_type": "code",
   "execution_count": null,
   "metadata": {},
   "outputs": [],
   "source": [
    "def extract_links(soup):\n",
    "    links =[]\n",
    "    for div in soup.find_all(name='a', attrs={'data-bypass':'true'}):\n",
    "        links.append(div['href'])\n",
    "    return links\n",
    "\n",
    "links = extract_links(soup)"
   ]
  },
  {
   "cell_type": "markdown",
   "metadata": {},
   "source": [
    "Write extracted links into a txt-File."
   ]
  },
  {
   "cell_type": "code",
   "execution_count": null,
   "metadata": {},
   "outputs": [],
   "source": [
    "with open('monster_links.txt', 'w') as f:\n",
    "    for item in links:\n",
    "        f.write(\"%s\\n\" % item)"
   ]
  },
  {
   "cell_type": "markdown",
   "metadata": {},
   "source": [
    "# Scraping websites for each individual job posting link:\n",
    "First extracting the links from the text file."
   ]
  },
  {
   "cell_type": "code",
   "execution_count": null,
   "metadata": {},
   "outputs": [],
   "source": [
    "links = [line.rstrip('\\n') for line in open('monster_links.txt','r')]"
   ]
  },
  {
   "cell_type": "markdown",
   "metadata": {},
   "source": [
    "Function for extracting the job title from the website:"
   ]
  },
  {
   "cell_type": "code",
   "execution_count": null,
   "metadata": {},
   "outputs": [],
   "source": [
    "def extract_jobtitle(soup):\n",
    "    title = 'no title'\n",
    "    for div in soup.find_all(name='h1', attrs={'class':'title'}):\n",
    "        title = div.text\n",
    "    return(title)"
   ]
  },
  {
   "cell_type": "markdown",
   "metadata": {},
   "source": [
    "Function for extracting the job description from the website:"
   ]
  },
  {
   "cell_type": "code",
   "execution_count": null,
   "metadata": {},
   "outputs": [],
   "source": [
    "def extract_descr(soup):\n",
    "    jobdesc = []\n",
    "    for div in soup.find_all(name='span', attrs={'id':'TrackingJobBody'}):\n",
    "        jobdesc = div.text\n",
    "    return jobdesc"
   ]
  },
  {
   "cell_type": "markdown",
   "metadata": {},
   "source": [
    "Function for extracting salary from the website:"
   ]
  },
  {
   "cell_type": "code",
   "execution_count": null,
   "metadata": {},
   "outputs": [],
   "source": [
    "def extract_salary(soup):\n",
    "    salary = []\n",
    "    for div in soup.find_all('div',{'class':'col-xs-12 cell'}):\n",
    "        salary = div.text\n",
    "    return salary"
   ]
  },
  {
   "cell_type": "markdown",
   "metadata": {},
   "source": [
    "Function for extracting meta-data from the website:"
   ]
  },
  {
   "cell_type": "code",
   "execution_count": null,
   "metadata": {},
   "outputs": [],
   "source": [
    "def extract_summary(soup):\n",
    "    summary = []\n",
    "    for div in soup.find_all('div',{'class':'mux-job-summary'}):\n",
    "        summary = div.text \n",
    "    return summary"
   ]
  },
  {
   "cell_type": "code",
   "execution_count": 42,
   "metadata": {},
   "outputs": [],
   "source": [
    "ads = pd.DataFrame(columns=['job_title/company','salary','description','summary'])"
   ]
  },
  {
   "cell_type": "code",
   "execution_count": 47,
   "metadata": {},
   "outputs": [],
   "source": [
    "for i in range(0,len(links)):\n",
    "    url = links[i]\n",
    "    time.sleep(1)\n",
    "    res = requests.get(url)\n",
    "    time.sleep(1)  #ensuring at least 1 second between page grabs\n",
    "    soup = bs4.BeautifulSoup(res.content)\n",
    "    df = pd.DataFrame()\n",
    "    df['job_title/company'] = [extract_jobtitle(soup)]\n",
    "    df['description'] = [extract_descr(soup)]\n",
    "    df['salary'] = [extract_salary(soup)]\n",
    "    df['summary'] = [extract_summary(soup)]\n",
    "    \n",
    "    ads = ads.append(df, sort=False)\n",
    "\n",
    "ads.to_csv('monster.csv', index=True, sep='\\t')"
   ]
  },
  {
   "cell_type": "code",
   "execution_count": 48,
   "metadata": {},
   "outputs": [
    {
     "data": {
      "text/html": [
       "<div>\n",
       "<style scoped>\n",
       "    .dataframe tbody tr th:only-of-type {\n",
       "        vertical-align: middle;\n",
       "    }\n",
       "\n",
       "    .dataframe tbody tr th {\n",
       "        vertical-align: top;\n",
       "    }\n",
       "\n",
       "    .dataframe thead th {\n",
       "        text-align: right;\n",
       "    }\n",
       "</style>\n",
       "<table border=\"1\" class=\"dataframe\">\n",
       "  <thead>\n",
       "    <tr style=\"text-align: right;\">\n",
       "      <th></th>\n",
       "      <th>job_title/company</th>\n",
       "      <th>salary</th>\n",
       "      <th>description</th>\n",
       "      <th>summary</th>\n",
       "    </tr>\n",
       "  </thead>\n",
       "  <tbody>\n",
       "    <tr>\n",
       "      <th>0</th>\n",
       "      <td>Data Visualisation Developer - ADLIB</td>\n",
       "      <td>\\n\\nSalary\\n\\n\\r\\n                    £30,000....</td>\n",
       "      <td>Create novel ways of visualising data.Develop ...</td>\n",
       "      <td>\\n\\n\\nLocation\\nBath, SW BA11SU\\n\\n\\n\\n\\nJob t...</td>\n",
       "    </tr>\n",
       "    <tr>\n",
       "      <th>0</th>\n",
       "      <td>Data Visualisation Developer - ADLIB</td>\n",
       "      <td>\\n\\nSalary\\n\\n\\r\\n                    £30,000....</td>\n",
       "      <td>Create novel ways of visualising data.Develop ...</td>\n",
       "      <td>\\n\\n\\nLocation\\nBath, SW BA11SU\\n\\n\\n\\n\\nJob t...</td>\n",
       "    </tr>\n",
       "    <tr>\n",
       "      <th>0</th>\n",
       "      <td>Data Visualisation Developer - ADLIB</td>\n",
       "      <td>\\n\\nSalary\\n\\n\\r\\n                    £30,000....</td>\n",
       "      <td>Create novel ways of visualising data.Develop ...</td>\n",
       "      <td>\\n\\n\\nLocation\\nBath, SW BA11SU\\n\\n\\n\\n\\nJob t...</td>\n",
       "    </tr>\n",
       "    <tr>\n",
       "      <th>0</th>\n",
       "      <td>Data Visualisation Developer - ADLIB</td>\n",
       "      <td>\\n\\nSalary\\n\\n\\r\\n                    £30,000....</td>\n",
       "      <td>Create novel ways of visualising data.Develop ...</td>\n",
       "      <td>\\n\\n\\nLocation\\nBath, SW BA11SU\\n\\n\\n\\n\\nJob t...</td>\n",
       "    </tr>\n",
       "    <tr>\n",
       "      <th>0</th>\n",
       "      <td>no title</td>\n",
       "      <td>[]</td>\n",
       "      <td>[]</td>\n",
       "      <td>[]</td>\n",
       "    </tr>\n",
       "    <tr>\n",
       "      <th>...</th>\n",
       "      <td>...</td>\n",
       "      <td>...</td>\n",
       "      <td>...</td>\n",
       "      <td>...</td>\n",
       "    </tr>\n",
       "    <tr>\n",
       "      <th>0</th>\n",
       "      <td>Data Incident Analysis Specialist - Nationwide</td>\n",
       "      <td>[]</td>\n",
       "      <td>Job descriptionWe need:• Data Incident Analysi...</td>\n",
       "      <td>\\n\\n\\nLocation\\nSwindon Head Office, SW\\n\\n\\n\\...</td>\n",
       "    </tr>\n",
       "    <tr>\n",
       "      <th>0</th>\n",
       "      <td>no title</td>\n",
       "      <td>[]</td>\n",
       "      <td>[]</td>\n",
       "      <td>[]</td>\n",
       "    </tr>\n",
       "    <tr>\n",
       "      <th>0</th>\n",
       "      <td>no title</td>\n",
       "      <td>[]</td>\n",
       "      <td>[]</td>\n",
       "      <td>[]</td>\n",
       "    </tr>\n",
       "    <tr>\n",
       "      <th>0</th>\n",
       "      <td>IT Business Analyst - TOMGANDHI CONSULTING LIM...</td>\n",
       "      <td>[]</td>\n",
       "      <td>No SponsorshipJob Title :- IT Business Analyst...</td>\n",
       "      <td>\\n\\n\\nLocation\\nZurich\\n\\n\\n\\n\\nJob type\\nPer ...</td>\n",
       "    </tr>\n",
       "    <tr>\n",
       "      <th>0</th>\n",
       "      <td>no title</td>\n",
       "      <td>[]</td>\n",
       "      <td>[]</td>\n",
       "      <td>[]</td>\n",
       "    </tr>\n",
       "  </tbody>\n",
       "</table>\n",
       "<p>771 rows × 4 columns</p>\n",
       "</div>"
      ],
      "text/plain": [
       "                                    job_title/company  \\\n",
       "0                Data Visualisation Developer - ADLIB   \n",
       "0                Data Visualisation Developer - ADLIB   \n",
       "0                Data Visualisation Developer - ADLIB   \n",
       "0                Data Visualisation Developer - ADLIB   \n",
       "0                                            no title   \n",
       "..                                                ...   \n",
       "0      Data Incident Analysis Specialist - Nationwide   \n",
       "0                                            no title   \n",
       "0                                            no title   \n",
       "0   IT Business Analyst - TOMGANDHI CONSULTING LIM...   \n",
       "0                                            no title   \n",
       "\n",
       "                                               salary  \\\n",
       "0   \\n\\nSalary\\n\\n\\r\\n                    £30,000....   \n",
       "0   \\n\\nSalary\\n\\n\\r\\n                    £30,000....   \n",
       "0   \\n\\nSalary\\n\\n\\r\\n                    £30,000....   \n",
       "0   \\n\\nSalary\\n\\n\\r\\n                    £30,000....   \n",
       "0                                                  []   \n",
       "..                                                ...   \n",
       "0                                                  []   \n",
       "0                                                  []   \n",
       "0                                                  []   \n",
       "0                                                  []   \n",
       "0                                                  []   \n",
       "\n",
       "                                          description  \\\n",
       "0   Create novel ways of visualising data.Develop ...   \n",
       "0   Create novel ways of visualising data.Develop ...   \n",
       "0   Create novel ways of visualising data.Develop ...   \n",
       "0   Create novel ways of visualising data.Develop ...   \n",
       "0                                                  []   \n",
       "..                                                ...   \n",
       "0   Job descriptionWe need:• Data Incident Analysi...   \n",
       "0                                                  []   \n",
       "0                                                  []   \n",
       "0   No SponsorshipJob Title :- IT Business Analyst...   \n",
       "0                                                  []   \n",
       "\n",
       "                                              summary  \n",
       "0   \\n\\n\\nLocation\\nBath, SW BA11SU\\n\\n\\n\\n\\nJob t...  \n",
       "0   \\n\\n\\nLocation\\nBath, SW BA11SU\\n\\n\\n\\n\\nJob t...  \n",
       "0   \\n\\n\\nLocation\\nBath, SW BA11SU\\n\\n\\n\\n\\nJob t...  \n",
       "0   \\n\\n\\nLocation\\nBath, SW BA11SU\\n\\n\\n\\n\\nJob t...  \n",
       "0                                                  []  \n",
       "..                                                ...  \n",
       "0   \\n\\n\\nLocation\\nSwindon Head Office, SW\\n\\n\\n\\...  \n",
       "0                                                  []  \n",
       "0                                                  []  \n",
       "0   \\n\\n\\nLocation\\nZurich\\n\\n\\n\\n\\nJob type\\nPer ...  \n",
       "0                                                  []  \n",
       "\n",
       "[771 rows x 4 columns]"
      ]
     },
     "execution_count": 48,
     "metadata": {},
     "output_type": "execute_result"
    }
   ],
   "source": [
    "ads"
   ]
  },
  {
   "cell_type": "code",
   "execution_count": 57,
   "metadata": {},
   "outputs": [
    {
     "data": {
      "text/plain": [
       "no title                                                                                    499\n",
       "Business Analyst (Data Management) - Potters Bar - Ashdown Group                              5\n",
       "Data Visualisation Developer - ADLIB                                                          4\n",
       "Data Scientist - Basingstoke - Spectrum IT                                                    3\n",
       "Consulting Director, Data - TOMGANDHI CONSULTING LIMITED                                      3\n",
       "                                                                                           ... \n",
       "Sales Executive - Global Energy Research / Market Data Provider - ABR Associates Limited      1\n",
       "BI / Data Warehouse Developer - Colchester - Noir Consulting                                  1\n",
       "Data Insight Manager - Understanding Recruitment                                              1\n",
       "Exams and Data Manager HULL89280 - Hull College                                               1\n",
       "DevOps Engineer for Sports Data Product - Work in Lithuania                                   1\n",
       "Name: job_title/company, Length: 241, dtype: int64"
      ]
     },
     "execution_count": 57,
     "metadata": {},
     "output_type": "execute_result"
    }
   ],
   "source": [
    "ads['job_title/company'].value_counts()"
   ]
  },
  {
   "cell_type": "code",
   "execution_count": null,
   "metadata": {},
   "outputs": [],
   "source": []
  }
 ],
 "metadata": {
  "kernelspec": {
   "display_name": "Python 3",
   "language": "python",
   "name": "python3"
  },
  "language_info": {
   "codemirror_mode": {
    "name": "ipython",
    "version": 3
   },
   "file_extension": ".py",
   "mimetype": "text/x-python",
   "name": "python",
   "nbconvert_exporter": "python",
   "pygments_lexer": "ipython3",
   "version": "3.7.4"
  }
 },
 "nbformat": 4,
 "nbformat_minor": 4
}
