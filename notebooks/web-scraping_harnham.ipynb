{
 "cells": [
  {
   "cell_type": "markdown",
   "metadata": {},
   "source": [
    "Code for scraping Harham.com"
   ]
  },
  {
   "cell_type": "code",
   "execution_count": 218,
   "metadata": {},
   "outputs": [],
   "source": [
    "import requests, bs4, time\n",
    "import pandas as pd\n",
    "from urllib.request import Request, urlopen\n",
    "from bs4 import BeautifulSoup as soup\n",
    "from datetime import date"
   ]
  },
  {
   "cell_type": "code",
   "execution_count": 215,
   "metadata": {},
   "outputs": [],
   "source": [
    "def extract_links(soup):\n",
    "    links =[]\n",
    "    for div in soup.find_all(name='a', attrs={'class':'job-block__title-link'}):\n",
    "        links.append(div['href'])\n",
    "    return links\n",
    "\n",
    "def extract_salary(page_soup):\n",
    "    for div in page_soup.find_all(\"div\",{\"class\",\"cop-widget dynamic-widget salary-widget\"}):\n",
    "         a=[x.text for x in div.find_all(\"span\")]\n",
    "    return a[0].lstrip('Salary:\\n').rstrip(' \\n')\n",
    "\n",
    "\n",
    "def extract_location(page_soup):\n",
    "    a=[]\n",
    "    for div in page_soup.find_all(\"div\",{\"class\",\"cop-widget dynamic-widget text-widget\"}):\n",
    "         a.append([x.text for x in div.find_all(\"div\",{\"class\",\"\"})])\n",
    "    return a[0]\n",
    "\n",
    "def extract_jobref(page_soup):\n",
    "    a=[]\n",
    "    for div in page_soup.find_all(\"div\",{\"class\",\"cop-widget dynamic-widget text-widget\"}):\n",
    "         a.append([x.text for x in div.find_all(\"div\",{\"class\",\"\"})])\n",
    "    return a[1]\n",
    "\n",
    "def extract_type(page_soup):\n",
    "    a=[x.text for x in page_soup.find_all(\"li\",{\"class\",\"JobType-wrapper\"})]\n",
    "    type=a[0].lstrip('Job type\\n                    \\n').rstrip(' \\n')\n",
    "    return type\n",
    "\n",
    "def extract_description(page_soup):\n",
    "    b=page_soup.find_all(\"div\",{\"class\":\"cop-widget dynamic-widget description-widget\"})\n",
    "    for div  in b:\n",
    "        c=[x.text for x in div.find_all(\"p\")] + [x.text for x in div.find_all(\"li\")]\n",
    "        desc=''.join(c)\n",
    "    return desc\n",
    "\n",
    "def extract_job_title(page_soup):\n",
    "    return [x.text for x in page_soup.find_all(\"strong\")][0]\n",
    "    "
   ]
  },
  {
   "cell_type": "code",
   "execution_count": 216,
   "metadata": {},
   "outputs": [
    {
     "ename": "NameError",
     "evalue": "name 'date' is not defined",
     "output_type": "error",
     "traceback": [
      "\u001b[1;31m---------------------------------------------------------------------------\u001b[0m",
      "\u001b[1;31mNameError\u001b[0m                                 Traceback (most recent call last)",
      "\u001b[1;32m<ipython-input-216-dbb555af9387>\u001b[0m in \u001b[0;36m<module>\u001b[1;34m\u001b[0m\n\u001b[0;32m     26\u001b[0m \u001b[1;33m\u001b[0m\u001b[0m\n\u001b[0;32m     27\u001b[0m \u001b[1;33m\u001b[0m\u001b[0m\n\u001b[1;32m---> 28\u001b[1;33m \u001b[0minfo\u001b[0m\u001b[1;33m[\u001b[0m\u001b[1;34m\"extraction_date\"\u001b[0m\u001b[1;33m]\u001b[0m\u001b[1;33m=\u001b[0m \u001b[0mdate\u001b[0m\u001b[1;33m.\u001b[0m\u001b[0mtoday\u001b[0m\u001b[1;33m(\u001b[0m\u001b[1;33m)\u001b[0m\u001b[1;33m\u001b[0m\u001b[1;33m\u001b[0m\u001b[0m\n\u001b[0m",
      "\u001b[1;31mNameError\u001b[0m: name 'date' is not defined"
     ]
    }
   ],
   "source": [
    "#urls for UK jobs\n",
    "links=[]\n",
    "for i in range(1,4):\n",
    "    url=\"https://www.harnham.com/jobs?options=1111,652&page=\"+str(i)+\"&size=60\"\n",
    "    req=Request(url, headers={'User-Agent': 'Mozilla/5.0'})\n",
    "    webpage=urlopen(req).read()\n",
    "    page_soup = soup(webpage, \"html.parser\")\n",
    "    a=extract_links(page_soup)\n",
    "    for element in a:\n",
    "        links.append(element)\n",
    "    \n",
    "info=pd.DataFrame(columns=(\"job_ref\",\"job_title\",\"location\",\"salary\",\"description\",\"type\"))\n",
    "for urls in links:\n",
    "    url=\"https://www.harnham.com\"+urls\n",
    "    req=Request(url, headers={'User-Agent': 'Mozilla/5.0'})\n",
    "    webpage=urlopen(req).read()\n",
    "    page_soup = soup(webpage, \"html.parser\")\n",
    "    df=pd.DataFrame()\n",
    "    df['job_ref']=[extract_jobref(page_soup)]\n",
    "    df['job_title']=[extract_job_title(page_soup)]\n",
    "    df['location']=[extract_location(page_soup)]\n",
    "    df['salary']=[extract_salary(page_soup)]\n",
    "    df['description']=[extract_description(page_soup)]\n",
    "    df['type']=[extract_type(page_soup)]\n",
    "    info=info.append(df)\n",
    "\n",
    "        \n"
   ]
  },
  {
   "cell_type": "code",
   "execution_count": 219,
   "metadata": {},
   "outputs": [],
   "source": [
    "info['extraction_date']=date.today()"
   ]
  },
  {
   "cell_type": "code",
   "execution_count": 221,
   "metadata": {},
   "outputs": [
    {
     "data": {
      "text/plain": [
       "(171, 7)"
      ]
     },
     "execution_count": 221,
     "metadata": {},
     "output_type": "execute_result"
    }
   ],
   "source": [
    "info.shape"
   ]
  },
  {
   "cell_type": "code",
   "execution_count": 222,
   "metadata": {},
   "outputs": [],
   "source": [
    "#print data to csv\n",
    "#info.to_csv(r\"harnham_scrape_data.csv\")"
   ]
  },
  {
   "cell_type": "code",
   "execution_count": null,
   "metadata": {},
   "outputs": [],
   "source": []
  }
 ],
 "metadata": {
  "kernelspec": {
   "display_name": "Python 3",
   "language": "python",
   "name": "python3"
  },
  "language_info": {
   "codemirror_mode": {
    "name": "ipython",
    "version": 3
   },
   "file_extension": ".py",
   "mimetype": "text/x-python",
   "name": "python",
   "nbconvert_exporter": "python",
   "pygments_lexer": "ipython3",
   "version": "3.7.3"
  }
 },
 "nbformat": 4,
 "nbformat_minor": 4
}
