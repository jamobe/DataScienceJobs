{
 "cells": [
  {
   "cell_type": "markdown",
   "metadata": {},
   "source": [
    "Code for scraping Harham.com"
   ]
  },
  {
   "cell_type": "code",
   "execution_count": 2,
   "metadata": {},
   "outputs": [],
   "source": [
    "import requests, bs4, time\n",
    "import pandas as pd\n",
    "from urllib.request import Request, urlopen\n",
    "from bs4 import BeautifulSoup as soup\n",
    "from datetime import date\n",
    "import os\n",
    "import re\n",
    "import matplotlib.pyplot as plt\n"
   ]
  },
  {
   "cell_type": "code",
   "execution_count": 3,
   "metadata": {},
   "outputs": [],
   "source": [
    "def extract_links(soup):\n",
    "    links =[]\n",
    "    for div in soup.find_all(name='a', attrs={'class':'job-block__title-link'}):\n",
    "        links.append(div['href'])\n",
    "    return links\n",
    "\n",
    "def extract_salary(page_soup):\n",
    "    for div in page_soup.find_all(\"div\",{\"class\",\"cop-widget dynamic-widget salary-widget\"}):\n",
    "         a=[x.text for x in div.find_all(\"span\")]\n",
    "    return a[0].lstrip('Salary:\\n').rstrip(' \\n')\n",
    "\n",
    "\n",
    "def extract_location(page_soup):\n",
    "    a=[]\n",
    "    for div in page_soup.find_all(\"div\",{\"class\",\"cop-widget dynamic-widget text-widget\"}):\n",
    "         a.append([x.text for x in div.find_all(\"div\",{\"class\",\"\"})])\n",
    "    return a[0]\n",
    "\n",
    "def extract_jobref(page_soup):\n",
    "    a=[]\n",
    "    for div in page_soup.find_all(\"div\",{\"class\",\"cop-widget dynamic-widget text-widget\"}):\n",
    "         a.append([x.text for x in div.find_all(\"div\",{\"class\",\"\"})])\n",
    "    return a[1]\n",
    "\n",
    "def extract_type(page_soup):\n",
    "    a=[x.text for x in page_soup.find_all(\"li\",{\"class\",\"JobType-wrapper\"})]\n",
    "    type=a[0].lstrip('Job type\\n                    \\n').rstrip(' \\n')\n",
    "    return type\n",
    "\n",
    "def extract_description(page_soup):\n",
    "    b=page_soup.find_all(\"div\",{\"class\":\"cop-widget dynamic-widget description-widget\"})\n",
    "    for div  in b:\n",
    "        c=str([x.text for x in div.find_all(\"p\")]) +\" \"+ str([x.text for x in div.find_all(\"li\")])\n",
    "        desc=''.join(c)\n",
    "    return desc\n",
    "\n",
    "def extract_job_title(page_soup):\n",
    "    return [x.text for x in page_soup.find_all(\"strong\")][0]\n",
    "    "
   ]
  },
  {
   "cell_type": "code",
   "execution_count": 4,
   "metadata": {},
   "outputs": [
    {
     "data": {
      "text/plain": [
       "1166"
      ]
     },
     "execution_count": 4,
     "metadata": {},
     "output_type": "execute_result"
    }
   ],
   "source": [
    "#urls for UK data science jobs\n",
    "links=[]\n",
    "for i in range(1,4):\n",
    "    url=\"https://www.harnham.com/jobs?options=1111,652&page=\"+str(i)+\"&size=60\"\n",
    "    req=Request(url, headers={'User-Agent': 'Mozilla/5.0'})\n",
    "    webpage=urlopen(req).read()\n",
    "    page_soup = soup(webpage, \"html.parser\")\n",
    "    a=extract_links(page_soup)\n",
    "    for element in a:\n",
    "        links.append(element)\n",
    "\n",
    "#urls for UK marketing/insight jobs\n",
    "for i in range(1,8):\n",
    "    url=\"https://www.harnham.com/jobs?options=973,652&page=\"+str(i)+\"&size=60\"\n",
    "    req=Request(url, headers={'User-Agent': 'Mozilla/5.0'})\n",
    "    webpage=urlopen(req).read()\n",
    "    page_soup = soup(webpage, \"html.parser\")\n",
    "    a=extract_links(page_soup)\n",
    "    for element in a:\n",
    "        links.append(element)\n",
    "            \n",
    "#urls digital analytics\n",
    "for i in range(1,5):\n",
    "    url=\"https://www.harnham.com/jobs?options=1035,652&page=\"+str(i)+\"&size=60\"\n",
    "    req=Request(url, headers={'User-Agent': 'Mozilla/5.0'})\n",
    "    webpage=urlopen(req).read()\n",
    "    page_soup = soup(webpage, \"html.parser\")\n",
    "    a=extract_links(page_soup)\n",
    "    for element in a:\n",
    "        links.append(element)\n",
    "\n",
    "#urls for data and technology jobs\n",
    "for i in range(1,7):\n",
    "    url=\"https://www.harnham.com/jobs?options=972,652&page=\"+str(i)+\"&size=60\"\n",
    "    req=Request(url, headers={'User-Agent': 'Mozilla/5.0'})\n",
    "    webpage=urlopen(req).read()\n",
    "    page_soup = soup(webpage, \"html.parser\")\n",
    "    a=extract_links(page_soup)\n",
    "    for element in a:\n",
    "        links.append(element)\n",
    "    \n",
    "\n",
    "\n",
    "len(links)"
   ]
  },
  {
   "cell_type": "code",
   "execution_count": 5,
   "metadata": {},
   "outputs": [],
   "source": [
    "    \n",
    "info=pd.DataFrame(columns=(\"job_ref\",\"job_title\",\"location\",\"salary\",\"description\",\"type\"))\n",
    "for urls in links:\n",
    "    time.sleep(1) #ensuring at least 1 second between page grabs\n",
    "    url=\"https://www.harnham.com\"+urls\n",
    "    req=Request(url, headers={'User-Agent': 'Mozilla/5.0'})\n",
    "    webpage=urlopen(req).read()\n",
    "    page_soup = soup(webpage, \"html.parser\")\n",
    "    df=pd.DataFrame()\n",
    "    df['job_ref']=[extract_jobref(page_soup)]\n",
    "    df['job_title']=[extract_job_title(page_soup)]\n",
    "    df['location']=[extract_location(page_soup)]\n",
    "    df['salary']=[extract_salary(page_soup)]\n",
    "    df['description']=[extract_description(page_soup)]\n",
    "    df['type']=[extract_type(page_soup)]\n",
    "    info=info.append(df,ignore_index=True)\n"
   ]
  },
  {
   "cell_type": "code",
   "execution_count": 6,
   "metadata": {},
   "outputs": [],
   "source": [
    "info[\"extraction_date\"]= date.today()\n"
   ]
  },
  {
   "cell_type": "code",
   "execution_count": 7,
   "metadata": {},
   "outputs": [
    {
     "data": {
      "text/html": [
       "<div>\n",
       "<style scoped>\n",
       "    .dataframe tbody tr th:only-of-type {\n",
       "        vertical-align: middle;\n",
       "    }\n",
       "\n",
       "    .dataframe tbody tr th {\n",
       "        vertical-align: top;\n",
       "    }\n",
       "\n",
       "    .dataframe thead th {\n",
       "        text-align: right;\n",
       "    }\n",
       "</style>\n",
       "<table border=\"1\" class=\"dataframe\">\n",
       "  <thead>\n",
       "    <tr style=\"text-align: right;\">\n",
       "      <th></th>\n",
       "      <th>job_ref</th>\n",
       "      <th>job_title</th>\n",
       "      <th>location</th>\n",
       "      <th>salary</th>\n",
       "      <th>description</th>\n",
       "      <th>type</th>\n",
       "      <th>extraction_date</th>\n",
       "    </tr>\n",
       "  </thead>\n",
       "  <tbody>\n",
       "    <tr>\n",
       "      <th>0</th>\n",
       "      <td>[7245/KD]</td>\n",
       "      <td>Pricing Data Scientist</td>\n",
       "      <td>[London]</td>\n",
       "      <td>£40000 - £50000 per annum + benefits + bonus</td>\n",
       "      <td>['Pricing Data Scientist ', 'London ', '£40,00...</td>\n",
       "      <td>Permanent</td>\n",
       "      <td>2019-10-24</td>\n",
       "    </tr>\n",
       "    <tr>\n",
       "      <th>1</th>\n",
       "      <td>[VACNM23wks1-]</td>\n",
       "      <td>Lead Data Scientist</td>\n",
       "      <td>[London]</td>\n",
       "      <td>£100000 - £110000 per annum + Benefits</td>\n",
       "      <td>['Lead Data ScientistRetailLondon£95,000 + ben...</td>\n",
       "      <td>Permanent</td>\n",
       "      <td>2019-10-24</td>\n",
       "    </tr>\n",
       "    <tr>\n",
       "      <th>2</th>\n",
       "      <td>[VASNF348rjhf0-23484]</td>\n",
       "      <td>Lead Machine Learning Engineer</td>\n",
       "      <td>[London]</td>\n",
       "      <td>£85000 - £100000 per annum + Benefits</td>\n",
       "      <td>['Lead Machine Learning EngineerDeep Learning ...</td>\n",
       "      <td>Permanent</td>\n",
       "      <td>2019-10-24</td>\n",
       "    </tr>\n",
       "    <tr>\n",
       "      <th>3</th>\n",
       "      <td>[VACNW\"M1-we]</td>\n",
       "      <td>NLP Scientist</td>\n",
       "      <td>[London]</td>\n",
       "      <td>£90000 - £100000 per annum + Benefits</td>\n",
       "      <td>['NLP ScientistLondon£90,000 - £100,000', 'OVE...</td>\n",
       "      <td>Permanent</td>\n",
       "      <td>2019-10-24</td>\n",
       "    </tr>\n",
       "    <tr>\n",
       "      <th>4</th>\n",
       "      <td>[67222/KD]</td>\n",
       "      <td>Senior Data Scientist</td>\n",
       "      <td>[London]</td>\n",
       "      <td>£70000 - £80000 per annum + benefits + bonus</td>\n",
       "      <td>['Senior Data Scientist ', 'London', '£70,000-...</td>\n",
       "      <td>Permanent</td>\n",
       "      <td>2019-10-24</td>\n",
       "    </tr>\n",
       "  </tbody>\n",
       "</table>\n",
       "</div>"
      ],
      "text/plain": [
       "                 job_ref                       job_title  location  \\\n",
       "0              [7245/KD]         Pricing Data Scientist   [London]   \n",
       "1         [VACNM23wks1-]             Lead Data Scientist  [London]   \n",
       "2  [VASNF348rjhf0-23484]  Lead Machine Learning Engineer  [London]   \n",
       "3          [VACNW\"M1-we]                   NLP Scientist  [London]   \n",
       "4             [67222/KD]          Senior Data Scientist   [London]   \n",
       "\n",
       "                                         salary  \\\n",
       "0  £40000 - £50000 per annum + benefits + bonus   \n",
       "1        £100000 - £110000 per annum + Benefits   \n",
       "2         £85000 - £100000 per annum + Benefits   \n",
       "3         £90000 - £100000 per annum + Benefits   \n",
       "4  £70000 - £80000 per annum + benefits + bonus   \n",
       "\n",
       "                                         description       type  \\\n",
       "0  ['Pricing Data Scientist ', 'London ', '£40,00...  Permanent   \n",
       "1  ['Lead Data ScientistRetailLondon£95,000 + ben...  Permanent   \n",
       "2  ['Lead Machine Learning EngineerDeep Learning ...  Permanent   \n",
       "3  ['NLP ScientistLondon£90,000 - £100,000', 'OVE...  Permanent   \n",
       "4  ['Senior Data Scientist ', 'London', '£70,000-...  Permanent   \n",
       "\n",
       "  extraction_date  \n",
       "0      2019-10-24  \n",
       "1      2019-10-24  \n",
       "2      2019-10-24  \n",
       "3      2019-10-24  \n",
       "4      2019-10-24  "
      ]
     },
     "execution_count": 7,
     "metadata": {},
     "output_type": "execute_result"
    }
   ],
   "source": [
    "info.head()"
   ]
  },
  {
   "cell_type": "code",
   "execution_count": 14,
   "metadata": {},
   "outputs": [],
   "source": [
    "#print data to csv\n",
    "date=date.today()\n",
    "info.to_csv(r\"harnham_scrape_data_{}.csv\".format(date))\n",
    "#read data back in\n",
    "#data=pd.read_csv('C:/Users/lundr/DataScienceJobs/data/harnham_scrape_data.csv')"
   ]
  },
  {
   "cell_type": "markdown",
   "metadata": {},
   "source": [
    "Now to clean the data...\n",
    "First define cleaning functions"
   ]
  },
  {
   "cell_type": "code",
   "execution_count": 8,
   "metadata": {},
   "outputs": [],
   "source": [
    "def clean_location(df):\n",
    "    import re\n",
    "    for i in range(len(df['location'])):\n",
    "        rep = {\"[\": \"\",\n",
    "               \"]\": \"\",\n",
    "               \"''\": \"\",\n",
    "               \"'\": \"\"}\n",
    "        df['location'][i]=str(df['location'][i])\n",
    "        rep = dict((re.escape(k), v) for k, v in rep.items()) \n",
    "        pattern = re.compile(\"|\".join(rep.keys()))\n",
    "        df['location'][i]=(pattern.sub(lambda m: rep[re.escape(m.group(0))], df['location'][i]))\n",
    "\n",
    "    \n"
   ]
  },
  {
   "cell_type": "code",
   "execution_count": 9,
   "metadata": {},
   "outputs": [],
   "source": [
    "\n",
    "def remove_duped_info_from_description(df):\n",
    "        df['description']=[x.replace(y,\"\") for x,y in zip(df['description'],df['location'])]\n",
    "        df['description']=[x.replace(y,\"\") for x,y in zip(df['description'],df['job_title'])]\n",
    "        df['description']=[x.replace(y,\"\") for x,y in zip(df['description'],df['salary'])]\n",
    "\n",
    "def clean_description(df):\n",
    "    import re\n",
    "    series=[]\n",
    "    for i in range(len(df['description'])):\n",
    "        rep = {\"[\": \"\",\n",
    "               \"]\": \"\",\n",
    "               \"|\": \"\",\n",
    "               \"''\": \"\",\n",
    "               \"'\": \"\",\n",
    "               \",\": \"\",\n",
    "               \"+\": \"\",\n",
    "               \"/\": \"\",\n",
    "               \"benefits\":\"\",\n",
    "               \"THE COMPANY\": \"\",\n",
    "               \"THE ROLE\": \"\",\n",
    "               \"THE BENEFITS\": \"\",\n",
    "               \"HOW TO APPLY\": \"\",\n",
    "               \"KEYWORDS\": \"\",\n",
    "               \"YOUR SKILLS AND EXPERIENCE\": \"\",\n",
    "               \"YOUR SKILLS AND EXPERTISE\": \"\",\n",
    "               \"Please register your interest by sending your CV via the Apply link on this page\":\"\",\n",
    "               \"BENEFITS\":\"\",\n",
    "               \"CONTACT\":\"\",\n",
    "               \"OVERVIEW\":\"\",\n",
    "               \"SALARY\":\"\",\n",
    "               \"For further details\":\"\",\n",
    "               \"to enquire about other roles please contact\":\"\",\n",
    "               \"Nick Mandella\":\"\",\n",
    "               \"Harnham\":\"\",\n",
    "               \"On a daily basis\":\"\",\n",
    "               \"you will be:\":\"\",\n",
    "               \"you will join:\":\"\",\n",
    "               \"!\":\"\",\n",
    "               \".\": \"\"}\n",
    "        rep = dict((re.escape(k), v) for k, v in rep.items()) \n",
    "        pattern = re.compile(\"|\".join(rep.keys()))\n",
    "        df['description'][i]=(pattern.sub(lambda m: rep[re.escape(m.group(0))],df['description'][i]))\n",
    "        \n",
    "\n"
   ]
  },
  {
   "cell_type": "code",
   "execution_count": 10,
   "metadata": {},
   "outputs": [],
   "source": [
    "def create_split_salary_range(df):\n",
    "    \n",
    "    df['salary_low']=df['salary'].str.split(\" - \", n = 1, expand = True)[0]\n",
    "    df['salary_high']=df['salary'].str.split(\" - \", n = 1, expand = True)[1]\n",
    "\n",
    "    for x in range(len(df[\"salary_high\"])):\n",
    "        if pd.isnull(df.loc[x,\"salary_high\"]):\n",
    "            df.loc[x,\"salary_high\"]=df.loc[x,\"salary_low\"]\n",
    "\n",
    "def clean_salary(df):\n",
    "    df['salary_low']=[x.split(\"£\",1)[1] for x in df['salary_low']]\n",
    "    df['salary_low']=[x.split(\"per\",1)[0] for x in df['salary_low']]\n",
    "    df['salary_high']=[x.split('£', 1)[1]for x in df['salary_high']]\n",
    "    df['salary_high']=[x.split('per', 1)[0]for x in df['salary_high']]\n",
    "    df['salary_high']=pd.to_numeric(df['salary_high'])\n",
    "    df['salary_low']=pd.to_numeric(df['salary_low'])"
   ]
  },
  {
   "cell_type": "code",
   "execution_count": 11,
   "metadata": {},
   "outputs": [],
   "source": [
    "#run cleaning functions\n",
    "clean_location(info)\n",
    "remove_duped_info_from_description(info)\n",
    "clean_description(info)\n",
    "create_split_salary_range(info)\n",
    "clean_salary(info)"
   ]
  },
  {
   "cell_type": "code",
   "execution_count": 12,
   "metadata": {},
   "outputs": [
    {
     "data": {
      "text/html": [
       "<div>\n",
       "<style scoped>\n",
       "    .dataframe tbody tr th:only-of-type {\n",
       "        vertical-align: middle;\n",
       "    }\n",
       "\n",
       "    .dataframe tbody tr th {\n",
       "        vertical-align: top;\n",
       "    }\n",
       "\n",
       "    .dataframe thead th {\n",
       "        text-align: right;\n",
       "    }\n",
       "</style>\n",
       "<table border=\"1\" class=\"dataframe\">\n",
       "  <thead>\n",
       "    <tr style=\"text-align: right;\">\n",
       "      <th></th>\n",
       "      <th>job_ref</th>\n",
       "      <th>job_title</th>\n",
       "      <th>location</th>\n",
       "      <th>salary</th>\n",
       "      <th>description</th>\n",
       "      <th>type</th>\n",
       "      <th>extraction_date</th>\n",
       "      <th>salary_low</th>\n",
       "      <th>salary_high</th>\n",
       "    </tr>\n",
       "  </thead>\n",
       "  <tbody>\n",
       "    <tr>\n",
       "      <th>0</th>\n",
       "      <td>[7245/KD]</td>\n",
       "      <td>Pricing Data Scientist</td>\n",
       "      <td>London</td>\n",
       "      <td>£40000 - £50000 per annum + benefits + bonus</td>\n",
       "      <td>£40000-£50000  Applying exploratory advance...</td>\n",
       "      <td>Permanent</td>\n",
       "      <td>2019-10-24</td>\n",
       "      <td>40000</td>\n",
       "      <td>50000</td>\n",
       "    </tr>\n",
       "    <tr>\n",
       "      <th>1</th>\n",
       "      <td>[VACNM23wks1-]</td>\n",
       "      <td>Lead Data Scientist</td>\n",
       "      <td>London</td>\n",
       "      <td>£100000 - £110000 per annum + Benefits</td>\n",
       "      <td>Retail£95000     are working with one of the l...</td>\n",
       "      <td>Permanent</td>\n",
       "      <td>2019-10-24</td>\n",
       "      <td>100000</td>\n",
       "      <td>110000</td>\n",
       "    </tr>\n",
       "    <tr>\n",
       "      <th>2</th>\n",
       "      <td>[VASNF348rjhf0-23484]</td>\n",
       "      <td>Lead Machine Learning Engineer</td>\n",
       "      <td>London</td>\n",
       "      <td>£85000 - £100000 per annum + Benefits</td>\n",
       "      <td>Deep Learning  NLP£85000 - £100000   are curre...</td>\n",
       "      <td>Permanent</td>\n",
       "      <td>2019-10-24</td>\n",
       "      <td>85000</td>\n",
       "      <td>100000</td>\n",
       "    </tr>\n",
       "    <tr>\n",
       "      <th>3</th>\n",
       "      <td>[VACNW\"M1-we]</td>\n",
       "      <td>NLP Scientist</td>\n",
       "      <td>London</td>\n",
       "      <td>£90000 - £100000 per annum + Benefits</td>\n",
       "      <td>£90000 - £100000   are currently working exclu...</td>\n",
       "      <td>Permanent</td>\n",
       "      <td>2019-10-24</td>\n",
       "      <td>90000</td>\n",
       "      <td>100000</td>\n",
       "    </tr>\n",
       "    <tr>\n",
       "      <th>4</th>\n",
       "      <td>[67222/KD]</td>\n",
       "      <td>Senior Data Scientist</td>\n",
       "      <td>London</td>\n",
       "      <td>£70000 - £80000 per annum + benefits + bonus</td>\n",
       "      <td>£70000-£80000    bonus Do you want to be a b...</td>\n",
       "      <td>Permanent</td>\n",
       "      <td>2019-10-24</td>\n",
       "      <td>70000</td>\n",
       "      <td>80000</td>\n",
       "    </tr>\n",
       "  </tbody>\n",
       "</table>\n",
       "</div>"
      ],
      "text/plain": [
       "                 job_ref                       job_title location  \\\n",
       "0              [7245/KD]         Pricing Data Scientist    London   \n",
       "1         [VACNM23wks1-]             Lead Data Scientist   London   \n",
       "2  [VASNF348rjhf0-23484]  Lead Machine Learning Engineer   London   \n",
       "3          [VACNW\"M1-we]                   NLP Scientist   London   \n",
       "4             [67222/KD]          Senior Data Scientist    London   \n",
       "\n",
       "                                         salary  \\\n",
       "0  £40000 - £50000 per annum + benefits + bonus   \n",
       "1        £100000 - £110000 per annum + Benefits   \n",
       "2         £85000 - £100000 per annum + Benefits   \n",
       "3         £90000 - £100000 per annum + Benefits   \n",
       "4  £70000 - £80000 per annum + benefits + bonus   \n",
       "\n",
       "                                         description       type  \\\n",
       "0     £40000-£50000  Applying exploratory advance...  Permanent   \n",
       "1  Retail£95000     are working with one of the l...  Permanent   \n",
       "2  Deep Learning  NLP£85000 - £100000   are curre...  Permanent   \n",
       "3  £90000 - £100000   are currently working exclu...  Permanent   \n",
       "4    £70000-£80000    bonus Do you want to be a b...  Permanent   \n",
       "\n",
       "  extraction_date  salary_low  salary_high  \n",
       "0      2019-10-24       40000        50000  \n",
       "1      2019-10-24      100000       110000  \n",
       "2      2019-10-24       85000       100000  \n",
       "3      2019-10-24       90000       100000  \n",
       "4      2019-10-24       70000        80000  "
      ]
     },
     "execution_count": 12,
     "metadata": {},
     "output_type": "execute_result"
    }
   ],
   "source": [
    "info.head()"
   ]
  },
  {
   "cell_type": "code",
   "execution_count": 13,
   "metadata": {},
   "outputs": [
    {
     "ename": "NameError",
     "evalue": "name 'data' is not defined",
     "output_type": "error",
     "traceback": [
      "\u001b[1;31m---------------------------------------------------------------------------\u001b[0m",
      "\u001b[1;31mNameError\u001b[0m                                 Traceback (most recent call last)",
      "\u001b[1;32m<ipython-input-13-267cb666d2e3>\u001b[0m in \u001b[0;36m<module>\u001b[1;34m\u001b[0m\n\u001b[0;32m      1\u001b[0m \u001b[1;31m# check for salary anomalies\u001b[0m\u001b[1;33m\u001b[0m\u001b[1;33m\u001b[0m\u001b[1;33m\u001b[0m\u001b[0m\n\u001b[1;32m----> 2\u001b[1;33m \u001b[0mdata\u001b[0m\u001b[1;33m[\u001b[0m\u001b[0mdata\u001b[0m\u001b[1;33m[\u001b[0m\u001b[1;34m'salary_high'\u001b[0m\u001b[1;33m]\u001b[0m\u001b[1;33m/\u001b[0m\u001b[0mdata\u001b[0m\u001b[1;33m[\u001b[0m\u001b[1;34m'salary_low'\u001b[0m\u001b[1;33m]\u001b[0m\u001b[1;33m>\u001b[0m\u001b[1;36m3\u001b[0m\u001b[1;33m]\u001b[0m\u001b[1;33m\u001b[0m\u001b[1;33m\u001b[0m\u001b[0m\n\u001b[0m\u001b[0;32m      3\u001b[0m \u001b[1;31m#correct the mistake\u001b[0m\u001b[1;33m\u001b[0m\u001b[1;33m\u001b[0m\u001b[1;33m\u001b[0m\u001b[0m\n\u001b[0;32m      4\u001b[0m \u001b[0mdata\u001b[0m\u001b[1;33m.\u001b[0m\u001b[0mloc\u001b[0m\u001b[1;33m[\u001b[0m\u001b[0mdata\u001b[0m\u001b[1;33m[\u001b[0m\u001b[1;34m'salary_high'\u001b[0m\u001b[1;33m]\u001b[0m\u001b[1;33m==\u001b[0m\u001b[0mmax\u001b[0m\u001b[1;33m(\u001b[0m\u001b[0mdata\u001b[0m\u001b[1;33m[\u001b[0m\u001b[1;34m'salary_high'\u001b[0m\u001b[1;33m]\u001b[0m\u001b[1;33m)\u001b[0m\u001b[1;33m,\u001b[0m\u001b[1;34m'salary_high'\u001b[0m\u001b[1;33m]\u001b[0m\u001b[1;33m=\u001b[0m\u001b[1;36m65000\u001b[0m\u001b[1;33m\u001b[0m\u001b[1;33m\u001b[0m\u001b[0m\n",
      "\u001b[1;31mNameError\u001b[0m: name 'data' is not defined"
     ]
    }
   ],
   "source": [
    "# check for salary anomalies\n",
    "data[data['salary_high']/data['salary_low']>3]\n",
    "#correct the mistake\n",
    "data.loc[data['salary_high']==max(data['salary_high']),'salary_high']=65000"
   ]
  },
  {
   "cell_type": "code",
   "execution_count": 376,
   "metadata": {},
   "outputs": [],
   "source": [
    "series=info['description']\n"
   ]
  },
  {
   "cell_type": "code",
   "execution_count": 401,
   "metadata": {},
   "outputs": [],
   "source": [
    "def word_count_df(series):\n",
    "    counts = dict()\n",
    "    words=[]\n",
    "    for i in range(len(series)):  \n",
    "        string=series[i].split()\n",
    "        for j in range(len(string)):\n",
    "            words.append(string[j])\n",
    "\n",
    "    for word in words:\n",
    "        if word in counts:\n",
    "            counts[word] += 1\n",
    "        else:\n",
    "            counts[word] = 1\n",
    "\n",
    "    return words\n",
    "\n",
    "word_count=word_count_df(info['description'])\n",
    "#sorted_x = sorted(word_count.items(), key=lambda kv: kv[1])\n",
    "#sorted_df=pd.DataFrame(sorted_x)"
   ]
  },
  {
   "cell_type": "code",
   "execution_count": null,
   "metadata": {},
   "outputs": [],
   "source": []
  },
  {
   "cell_type": "code",
   "execution_count": 398,
   "metadata": {},
   "outputs": [
    {
     "name": "stderr",
     "output_type": "stream",
     "text": [
      "ERROR:root:Internal Python error in the inspect module.\n",
      "Below is the traceback from this internal error.\n",
      "\n"
     ]
    },
    {
     "name": "stdout",
     "output_type": "stream",
     "text": [
      "Traceback (most recent call last):\n",
      "  File \"C:\\Users\\lundr\\AppData\\Local\\Continuum\\anaconda3\\envs\\dsj\\lib\\site-packages\\IPython\\core\\interactiveshell.py\", line 3326, in run_code\n",
      "    exec(code_obj, self.user_global_ns, self.user_ns)\n",
      "  File \"<ipython-input-398-35c5357fc440>\", line 1, in <module>\n",
      "    word_counts=word_count_df(info['description'])\n",
      "  File \"<ipython-input-397-81f3c96e0177>\", line 14, in word_count_df\n",
      "    word_count=word_count_df(series)\n",
      "  File \"<ipython-input-397-81f3c96e0177>\", line 14, in word_count_df\n",
      "    word_count=word_count_df(series)\n",
      "  File \"<ipython-input-397-81f3c96e0177>\", line 14, in word_count_df\n",
      "    word_count=word_count_df(series)\n",
      "  [Previous line repeated 1193 more times]\n",
      "  File \"<ipython-input-397-81f3c96e0177>\", line 7, in word_count_df\n",
      "    words.append(string[j])\n",
      "MemoryError\n",
      "\n",
      "During handling of the above exception, another exception occurred:\n",
      "\n",
      "Traceback (most recent call last):\n",
      "  File \"C:\\Users\\lundr\\AppData\\Local\\Continuum\\anaconda3\\envs\\dsj\\lib\\site-packages\\IPython\\core\\interactiveshell.py\", line 2040, in showtraceback\n",
      "    stb = value._render_traceback_()\n",
      "AttributeError: 'MemoryError' object has no attribute '_render_traceback_'\n",
      "\n",
      "During handling of the above exception, another exception occurred:\n",
      "\n",
      "Traceback (most recent call last):\n",
      "  File \"C:\\Users\\lundr\\AppData\\Local\\Continuum\\anaconda3\\envs\\dsj\\lib\\site-packages\\IPython\\core\\ultratb.py\", line 1101, in get_records\n",
      "    return _fixed_getinnerframes(etb, number_of_lines_of_context, tb_offset)\n",
      "  File \"C:\\Users\\lundr\\AppData\\Local\\Continuum\\anaconda3\\envs\\dsj\\lib\\site-packages\\IPython\\core\\ultratb.py\", line 319, in wrapped\n",
      "    return f(*args, **kwargs)\n",
      "  File \"C:\\Users\\lundr\\AppData\\Local\\Continuum\\anaconda3\\envs\\dsj\\lib\\site-packages\\IPython\\core\\ultratb.py\", line 367, in _fixed_getinnerframes\n",
      "    for i, (file, lnum, _, _) in enumerate(aux):\n",
      "KeyboardInterrupt\n"
     ]
    },
    {
     "ename": "MemoryError",
     "evalue": "",
     "output_type": "error",
     "traceback": [
      "\u001b[1;31m---------------------------------------------------------------------------\u001b[0m"
     ]
    }
   ],
   "source": [
    "word_counts=word_count_df(info['description'])"
   ]
  },
  {
   "cell_type": "code",
   "execution_count": 392,
   "metadata": {},
   "outputs": [
    {
     "ename": "TypeError",
     "evalue": "'NoneType' object is not iterable",
     "output_type": "error",
     "traceback": [
      "\u001b[1;31m---------------------------------------------------------------------------\u001b[0m",
      "\u001b[1;31mTypeError\u001b[0m                                 Traceback (most recent call last)",
      "\u001b[1;32m<ipython-input-392-ad94a10a8db3>\u001b[0m in \u001b[0;36m<module>\u001b[1;34m\u001b[0m\n\u001b[0;32m      2\u001b[0m \u001b[0msorted_x\u001b[0m \u001b[1;33m=\u001b[0m \u001b[0msorted\u001b[0m\u001b[1;33m(\u001b[0m\u001b[0mword_count\u001b[0m\u001b[1;33m.\u001b[0m\u001b[0mitems\u001b[0m\u001b[1;33m(\u001b[0m\u001b[1;33m)\u001b[0m\u001b[1;33m,\u001b[0m \u001b[0mkey\u001b[0m\u001b[1;33m=\u001b[0m\u001b[1;32mlambda\u001b[0m \u001b[0mkv\u001b[0m\u001b[1;33m:\u001b[0m \u001b[0mkv\u001b[0m\u001b[1;33m[\u001b[0m\u001b[1;36m1\u001b[0m\u001b[1;33m]\u001b[0m\u001b[1;33m)\u001b[0m\u001b[1;33m\u001b[0m\u001b[1;33m\u001b[0m\u001b[0m\n\u001b[0;32m      3\u001b[0m \u001b[1;32mimport\u001b[0m \u001b[0mcollections\u001b[0m\u001b[1;33m\u001b[0m\u001b[1;33m\u001b[0m\u001b[0m\n\u001b[1;32m----> 4\u001b[1;33m \u001b[0msorted_dict\u001b[0m \u001b[1;33m=\u001b[0m \u001b[0mcollections\u001b[0m\u001b[1;33m.\u001b[0m\u001b[0mOrderedDict\u001b[0m\u001b[1;33m(\u001b[0m\u001b[0msorted_x\u001b[0m\u001b[1;33m.\u001b[0m\u001b[0mreverse\u001b[0m\u001b[1;33m(\u001b[0m\u001b[1;33m)\u001b[0m\u001b[1;33m)\u001b[0m\u001b[1;33m\u001b[0m\u001b[1;33m\u001b[0m\u001b[0m\n\u001b[0m",
      "\u001b[1;31mTypeError\u001b[0m: 'NoneType' object is not iterable"
     ]
    }
   ],
   "source": [
    "word_count=word_count_df(info['description'])\n",
    "sorted_x = sorted(word_count.items(), key=lambda kv: kv[1])\n",
    "import collections\n",
    "sorted_dict = collections.OrderedDict(sorted_x)"
   ]
  },
  {
   "cell_type": "code",
   "execution_count": 395,
   "metadata": {},
   "outputs": [],
   "source": []
  },
  {
   "cell_type": "code",
   "execution_count": 396,
   "metadata": {},
   "outputs": [
    {
     "data": {
      "text/html": [
       "<div>\n",
       "<style scoped>\n",
       "    .dataframe tbody tr th:only-of-type {\n",
       "        vertical-align: middle;\n",
       "    }\n",
       "\n",
       "    .dataframe tbody tr th {\n",
       "        vertical-align: top;\n",
       "    }\n",
       "\n",
       "    .dataframe thead th {\n",
       "        text-align: right;\n",
       "    }\n",
       "</style>\n",
       "<table border=\"1\" class=\"dataframe\">\n",
       "  <thead>\n",
       "    <tr style=\"text-align: right;\">\n",
       "      <th></th>\n",
       "      <th>0</th>\n",
       "      <th>1</th>\n",
       "    </tr>\n",
       "  </thead>\n",
       "  <tbody>\n",
       "    <tr>\n",
       "      <th>0</th>\n",
       "      <td>and</td>\n",
       "      <td>11249</td>\n",
       "    </tr>\n",
       "    <tr>\n",
       "      <th>1</th>\n",
       "      <td>to</td>\n",
       "      <td>10442</td>\n",
       "    </tr>\n",
       "    <tr>\n",
       "      <th>2</th>\n",
       "      <td>the</td>\n",
       "      <td>8850</td>\n",
       "    </tr>\n",
       "    <tr>\n",
       "      <th>3</th>\n",
       "      <td>a</td>\n",
       "      <td>7730</td>\n",
       "    </tr>\n",
       "    <tr>\n",
       "      <th>4</th>\n",
       "      <td>of</td>\n",
       "      <td>5409</td>\n",
       "    </tr>\n",
       "    <tr>\n",
       "      <th>...</th>\n",
       "      <td>...</td>\n",
       "      <td>...</td>\n",
       "    </tr>\n",
       "    <tr>\n",
       "      <th>9357</th>\n",
       "      <td>exlusviely</td>\n",
       "      <td>1</td>\n",
       "    </tr>\n",
       "    <tr>\n",
       "      <th>9358</th>\n",
       "      <td>NLP£85000</td>\n",
       "      <td>1</td>\n",
       "    </tr>\n",
       "    <tr>\n",
       "      <th>9359</th>\n",
       "      <td>management)</td>\n",
       "      <td>1</td>\n",
       "    </tr>\n",
       "    <tr>\n",
       "      <th>9360</th>\n",
       "      <td>Retail£95000</td>\n",
       "      <td>1</td>\n",
       "    </tr>\n",
       "    <tr>\n",
       "      <th>9361</th>\n",
       "      <td>Scientist£50000</td>\n",
       "      <td>1</td>\n",
       "    </tr>\n",
       "  </tbody>\n",
       "</table>\n",
       "<p>9362 rows × 2 columns</p>\n",
       "</div>"
      ],
      "text/plain": [
       "                    0      1\n",
       "0                 and  11249\n",
       "1                  to  10442\n",
       "2                 the   8850\n",
       "3                   a   7730\n",
       "4                  of   5409\n",
       "...               ...    ...\n",
       "9357       exlusviely      1\n",
       "9358        NLP£85000      1\n",
       "9359      management)      1\n",
       "9360     Retail£95000      1\n",
       "9361  Scientist£50000      1\n",
       "\n",
       "[9362 rows x 2 columns]"
      ]
     },
     "execution_count": 396,
     "metadata": {},
     "output_type": "execute_result"
    }
   ],
   "source": [
    "sorted_df\n",
    "#data.to_csv(r\"harnham_scrape_data_cleaned.csv\")"
   ]
  },
  {
   "cell_type": "markdown",
   "metadata": {},
   "source": [
    "Plot data"
   ]
  },
  {
   "cell_type": "code",
   "execution_count": 166,
   "metadata": {},
   "outputs": [
    {
     "data": {
      "text/plain": [
       "(array([11.,  0.,  0.,  7., 36., 40., 35., 20.,  9., 13.]),\n",
       " array([   550.,  13495.,  26440.,  39385.,  52330.,  65275.,  78220.,\n",
       "         91165., 104110., 117055., 130000.]),\n",
       " <a list of 10 Patch objects>)"
      ]
     },
     "execution_count": 166,
     "metadata": {},
     "output_type": "execute_result"
    },
    {
     "data": {
      "image/png": "[encoded data removed]",
      "text/plain": [
       "<Figure size 432x288 with 1 Axes>"
      ]
     },
     "metadata": {
      "needs_background": "light"
     },
     "output_type": "display_data"
    }
   ],
   "source": [
    "plt.hist(data['salary_high'])"
   ]
  },
  {
   "cell_type": "code",
   "execution_count": 163,
   "metadata": {},
   "outputs": [],
   "source": [
    "word =[x.count(\"data engineer\") for x in data['description']]"
   ]
  },
  {
   "cell_type": "code",
   "execution_count": 164,
   "metadata": {},
   "outputs": [],
   "source": [
    "X,y=word,data['salary_high']"
   ]
  },
  {
   "cell_type": "code",
   "execution_count": 165,
   "metadata": {},
   "outputs": [
    {
     "data": {
      "text/plain": [
       "<matplotlib.collections.PathCollection at 0x1cadc2c2748>"
      ]
     },
     "execution_count": 165,
     "metadata": {},
     "output_type": "execute_result"
    },
    {
     "data": {
      "image/png": "[encoded data removed]",
      "text/plain": [
       "<Figure size 432x288 with 1 Axes>"
      ]
     },
     "metadata": {
      "needs_background": "light"
     },
     "output_type": "display_data"
    }
   ],
   "source": [
    "plt.scatter(X,y)"
   ]
  },
  {
   "cell_type": "code",
   "execution_count": null,
   "metadata": {},
   "outputs": [],
   "source": [
    "## for testing formulae\n",
    "#url=\"https://www.harnham.com/job/data-scientist-in-london-jid-2435\"\n",
    "#req=Request(url, headers={'User-Agent': 'Mozilla/5.0'})\n",
    "#webpage=urlopen(req).read()\n",
    "#page_soup = soup(webpage, \"html.parser\")\n",
    "#a=extract_description(page_soup)"
   ]
  }
 ],
 "metadata": {
  "kernelspec": {
   "display_name": "Python 3",
   "language": "python",
   "name": "python3"
  },
  "language_info": {
   "codemirror_mode": {
    "name": "ipython",
    "version": 3
   },
   "file_extension": ".py",
   "mimetype": "text/x-python",
   "name": "python",
   "nbconvert_exporter": "python",
   "pygments_lexer": "ipython3",
   "version": "3.7.3"
  }
 },
 "nbformat": 4,
 "nbformat_minor": 4
}
