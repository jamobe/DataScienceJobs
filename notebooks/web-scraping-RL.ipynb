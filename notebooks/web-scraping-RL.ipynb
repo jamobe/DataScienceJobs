{
 "cells": [
  {
   "cell_type": "code",
   "execution_count": 229,
   "metadata": {},
   "outputs": [],
   "source": [
    "import requests, bs4, time\n",
    "#import selenium"
   ]
  },
  {
   "cell_type": "code",
   "execution_count": 193,
   "metadata": {
    "collapsed": true,
    "jupyter": {
     "outputs_hidden": true
    }
   },
   "outputs": [
    {
     "data": {
      "text/plain": [
       "['Junior Data Researcher',\n",
       " 'Open Source Intelligence Analyst',\n",
       " 'Data Scientist - Data Intelligence',\n",
       " 'Lead Data Scientist',\n",
       " 'Data Migration Analyst',\n",
       " 'Trainee Data Engineer',\n",
       " 'Project Officer (National Data Resource)',\n",
       " 'Freelance\\xa0Copywriters',\n",
       " 'Intelligence Officer',\n",
       " 'Graduate Programme 2020',\n",
       " 'Data Forensic Investigator (number of positions to be confirmed)',\n",
       " 'Graduate Accelerated Career Programme, Insights',\n",
       " 'Research, Evaluation and Learning Intern',\n",
       " 'General Operative - Lincoln (Permanent)',\n",
       " 'Analyst',\n",
       " 'Graduate Data Architect Scheme',\n",
       " 'Data Processor',\n",
       " 'Data entry and presentation technician',\n",
       " 'Business Intelligence Data Engineer']"
      ]
     },
     "execution_count": 193,
     "metadata": {},
     "output_type": "execute_result"
    }
   ],
   "source": [
    "def extract_job_title_from_result(soup): \n",
    "    jobs = []\n",
    "    for div in soup.find_all(name=\"div\", attrs={\"class\":\"row\"}):\n",
    "        for a in div.find_all(name=\"a\", attrs={\"data-tn-element\":\"jobTitle\"}):\n",
    "            jobs.append(a[\"title\"])\n",
    "    return(jobs)\n",
    "extract_job_title_from_result(soup)"
   ]
  },
  {
   "cell_type": "code",
   "execution_count": 201,
   "metadata": {
    "collapsed": true,
    "jupyter": {
     "outputs_hidden": true
    }
   },
   "outputs": [
    {
     "data": {
      "text/plain": [
       "['\\n                            £18,000 - £20,000 a year',\n",
       " '\\n                            £34,053 a year',\n",
       " 'Nothing_found',\n",
       " '\\n                            £80,000 - £95,000 a year',\n",
       " '\\n                            £20,000 - £25,000 a year',\n",
       " 'Nothing_found',\n",
       " '\\n                            £24,214 - £30,112 a year',\n",
       " 'Nothing_found',\n",
       " '\\n                            £33,800 - £42,700 a year',\n",
       " '\\n                            £28,000 a year',\n",
       " 'Nothing_found',\n",
       " '\\n                            £30,000 a year',\n",
       " 'Nothing_found',\n",
       " '\\n                            £11.56 an hour',\n",
       " '\\n                            £350 a day',\n",
       " '\\n                            £25,000 - £30,000 a year',\n",
       " '\\n                            £21,600 - £22,800 a year',\n",
       " '\\n                            £18,500 - £20,000 a year',\n",
       " '\\n                            £40,000 - £50,000 a year']"
      ]
     },
     "execution_count": 201,
     "metadata": {},
     "output_type": "execute_result"
    }
   ],
   "source": [
    "def extract_salary_from_result(soup): \n",
    "    salaries = []\n",
    "    for div in soup.find_all(name=\"div\", attrs={\"class\":\"row\"}):\n",
    "        try:\n",
    "            salaries.append(div.find(name=\"span\",attrs={\"class\":\"salaryText\"}).text)\n",
    "        except:\n",
    "            salaries.append(\"Nothing_found\")\n",
    "    return(salaries)\n",
    "extract_salary_from_result(soup)"
   ]
  },
  {
   "cell_type": "code",
   "execution_count": 209,
   "metadata": {
    "collapsed": true,
    "jupyter": {
     "outputs_hidden": true
    }
   },
   "outputs": [
    {
     "data": {
      "text/plain": [
       "['Nothing_found',\n",
       " 'Nothing_found',\n",
       " 'Nothing_found',\n",
       " 'Nothing_found',\n",
       " 'Nothing_found',\n",
       " 'Hertfordshire',\n",
       " 'Glamorgan',\n",
       " 'Remote',\n",
       " 'London',\n",
       " 'United Kingdom',\n",
       " 'Bristol',\n",
       " 'Reading',\n",
       " 'United Kingdom',\n",
       " 'Lincoln',\n",
       " 'East London',\n",
       " 'Nothing_found',\n",
       " 'Nothing_found',\n",
       " 'Nothing_found',\n",
       " 'Nothing_found']"
      ]
     },
     "execution_count": 209,
     "metadata": {},
     "output_type": "execute_result"
    }
   ],
   "source": [
    "def extract_location_from_result(soup): \n",
    "    locations = []\n",
    "    for div in soup.find_all(name=\"div\", attrs={\"class\":\"row\"}):\n",
    "        try:\n",
    "            locations.append(div.find(\"span\", attrs={\"class\": \"location accessible-contrast-color-location\"}).text)\n",
    "        except:\n",
    "            locations.append(\"Nothing_found\")\n",
    "   \n",
    "    return(locations)\n",
    "extract_location_from_result(soup)"
   ]
  },
  {
   "cell_type": "code",
   "execution_count": 210,
   "metadata": {
    "collapsed": true,
    "jupyter": {
     "outputs_hidden": true
    }
   },
   "outputs": [
    {
     "data": {
      "text/plain": [
       "['\\n            As a Junior Data Researcher, you will be expected to generate lead research information in specified regions and industry verticals using your own initiative…',\n",
       " '\\n            By the time you leave us, you will have an enhanced understanding of open source techniques, data science-led approaches and behavioural science methodologies.',\n",
       " '\\n            Demonstrable proficiency in statistical data analysis and data visualisation. The successful candidate will be comfortable working within a multi-disciplinary…',\n",
       " '\\nData Scientist/ NoSQL/ R/ python/ Machine Learning/ London/ Consultancy. Working with Relational databases, NoSQL and Data visualisation technology.',\n",
       " '\\n            Communicating with clients about requirements for data import – flagging any issues in data to customers, making sure accuracy throughout work.',\n",
       " '\\n            We also have vacancies for junior engineers, no previous experience required, only a keenness to learn new skills and an opportunity to become a data…',\n",
       " '\\n            The NDR will provide improved analytics capability and will enable better decision making for clinicians, operational managers, data scientists and other…',\n",
       " '\\n            By filling out and sending this form, you acknowledge that your data will be recorded on Re: Are you a wicked wordsmith? Do you love to write?',\n",
       " '\\n            A sharp intellect with an ability to link disparate data in order to draw conclusions. Intelligence is at the heart of what MI6 does.',\n",
       " '\\n            Our two-year programme makes sure you experience many parts of the Society, so you can see how it all works together, as well as gaining in depth knowledge of…',\n",
       " '\\n            For further details or an informal discussion please contact Jay Driscoll or Nick BRIGDEN, Data Forensic Team Leaders, on 01364 625973 or email at Jay.DRISCOLL…',\n",
       " '\\n            See the connections in data, trends, events, and able to bring to life in a compelling, action focussed way. There’s No One Else Quite Like You.',\n",
       " '\\n            The intern will support with the delivery of specific pieces of research and evaluation work by collecting and analysing data, supporting design of studies …',\n",
       " '\\n            Understanding and interpreting numerical data and confidently communicating verbally and in written form machine performance and any gaps in standards using…',\n",
       " '\\n            They may be a specialist in a particular industry such as finance or education, or they may have a specific skill set such as coding or data analysis or…',\n",
       " '\\n            An interest in Data Architecture and Modelling. Data is being put at the heart of this company and you will be involved in a number of architecture solutions.',\n",
       " '\\n            Have a clear understanding of data quality, data sources, data definitions and data flows. Understanding of Data protection principles;',\n",
       " '\\n            Using reporting functions to present data. Data entry from engineers notes to our specialist database. We are currently recruiting for a technician to join our…',\n",
       " '\\n            Proven experience in business intelligence, data warehousing, data management and data delivery, database and ETL technologies. What will you be doing?']"
      ]
     },
     "execution_count": 210,
     "metadata": {},
     "output_type": "execute_result"
    }
   ],
   "source": [
    "def extract_description_from_result(soup): \n",
    "    description = []\n",
    "    for div in soup.find_all(name=\"div\", attrs={\"class\":\"row\"}):\n",
    "        try:\n",
    "            description.append(div.find(\"div\", attrs={\"class\": \"summary\"}).text)\n",
    "        except:\n",
    "            description.append(\"Nothing_found\")\n",
    "   \n",
    "    return(description)\n",
    "extract_description_from_result(soup)"
   ]
  },
  {
   "cell_type": "code",
   "execution_count": 216,
   "metadata": {
    "collapsed": true,
    "jupyter": {
     "outputs_hidden": true
    }
   },
   "outputs": [
    {
     "data": {
      "text/plain": [
       "['3 days ago',\n",
       " 'Nothing_found',\n",
       " 'Nothing_found',\n",
       " 'Nothing_found',\n",
       " 'Nothing_found',\n",
       " '30+ days ago',\n",
       " '5 days ago',\n",
       " '4 months ago',\n",
       " '4 months ago',\n",
       " '19 days ago',\n",
       " '45 minutes ago',\n",
       " '30+ days ago',\n",
       " '12 days ago',\n",
       " '17 days ago',\n",
       " '3 hours ago',\n",
       " 'Nothing_found',\n",
       " 'Nothing_found',\n",
       " 'Nothing_found',\n",
       " 'Nothing_found']"
      ]
     },
     "execution_count": 216,
     "metadata": {},
     "output_type": "execute_result"
    }
   ],
   "source": [
    "def extract_date_from_result(soup): \n",
    "    date = []\n",
    "    for div in soup.find_all(name=\"div\", attrs={\"class\":\"row\"}):\n",
    "        try:\n",
    "            date.append(div.find(\"span\", attrs={\"class\": \"date\"}).text)\n",
    "        except:\n",
    "            date.append(\"Nothing_found\")\n",
    "   \n",
    "    return(date)\n",
    "extract_date_from_result(soup)"
   ]
  },
  {
   "cell_type": "code",
   "execution_count": 217,
   "metadata": {},
   "outputs": [
    {
     "data": {
      "text/plain": [
       "['\\n        Project 11',\n",
       " '\\n\\n        Foreign & Commonwealth Office',\n",
       " '\\n\\n        G-Research',\n",
       " '\\n\\n        Opus Recruitment Solutions',\n",
       " '\\n        Equinox by Work AnyWare',\n",
       " '\\n        EpiQuestLive',\n",
       " '\\n\\n        NHS Wales Informatics Service',\n",
       " '\\n        Re:signal',\n",
       " '\\n        Secret Intelligence Service',\n",
       " '\\n\\n        Nationwide Building Society',\n",
       " '\\n\\n        Dorset Police',\n",
       " '\\n\\n        PepsiCo',\n",
       " '\\n\\n        Action Against Hunger UK',\n",
       " '\\n\\n        PepsiCo',\n",
       " '\\n        BP Bagley',\n",
       " '\\n        Veea Group',\n",
       " \"\\n\\n        Claire House Children's Hospice\",\n",
       " '\\n        Soiltechnics Ltd.',\n",
       " '\\n\\n        4Com']"
      ]
     },
     "execution_count": 217,
     "metadata": {},
     "output_type": "execute_result"
    }
   ],
   "source": [
    "def extract_company_from_result(soup): \n",
    "    company = []\n",
    "    for div in soup.find_all(name=\"div\", attrs={\"class\":\"row\"}):\n",
    "        try:\n",
    "            company.append(div.find(\"span\", attrs={\"class\": \"company\"}).text)\n",
    "        except:\n",
    "            company.append(\"Nothing_found\")\n",
    "   \n",
    "    return(company)\n",
    "extract_company_from_result(soup)"
   ]
  },
  {
   "cell_type": "code",
   "execution_count": 231,
   "metadata": {},
   "outputs": [
    {
     "data": {
      "text/html": [
       "<div>\n",
       "<style scoped>\n",
       "    .dataframe tbody tr th:only-of-type {\n",
       "        vertical-align: middle;\n",
       "    }\n",
       "\n",
       "    .dataframe tbody tr th {\n",
       "        vertical-align: top;\n",
       "    }\n",
       "\n",
       "    .dataframe thead th {\n",
       "        text-align: right;\n",
       "    }\n",
       "</style>\n",
       "<table border=\"1\" class=\"dataframe\">\n",
       "  <thead>\n",
       "    <tr style=\"text-align: right;\">\n",
       "      <th></th>\n",
       "      <th>company</th>\n",
       "      <th>job_title</th>\n",
       "      <th>salary</th>\n",
       "      <th>location</th>\n",
       "      <th>description</th>\n",
       "      <th>date</th>\n",
       "    </tr>\n",
       "  </thead>\n",
       "  <tbody>\n",
       "  </tbody>\n",
       "</table>\n",
       "</div>"
      ],
      "text/plain": [
       "Empty DataFrame\n",
       "Columns: [company, job_title, salary, location, description, date]\n",
       "Index: []"
      ]
     },
     "execution_count": 231,
     "metadata": {},
     "output_type": "execute_result"
    }
   ],
   "source": [
    "ads=pd.DataFrame(columns=['company','job_title','salary','location','description','date'])\n",
    "ads"
   ]
  },
  {
   "cell_type": "code",
   "execution_count": 235,
   "metadata": {},
   "outputs": [],
   "source": [
    "#scraping code:\n",
    "searchTerm=\"data\"\n",
    "ads=pd.DataFrame(columns=['company','job_title','salary','location','description','date'])\n",
    "\n",
    "for i in range(0,980,10):\n",
    "    time.sleep(1)\n",
    "    url = \"https://www.indeed.co.uk/jobs?q=\"+searchTerm+\"&l=\"+\"&start=\"+str(i)\n",
    "    time.sleep(1)  #ensuring at least 1 second between page grabs\n",
    "    res = requests.get(url)\n",
    "    #time.sleep(1)  #ensuring at least 1 second between page grabs\n",
    "    soup = bs4.BeautifulSoup(res.content)\n",
    "    df=pd.DataFrame()\n",
    "    df['company']=extract_company_from_result(soup)\n",
    "    df['job_title']=extract_job_title_from_result(soup)\n",
    "    df['salary']=extract_salary_from_result(soup)\n",
    "    df['location']=extract_location_from_result(soup)\n",
    "    df['description']=extract_description_from_result(soup)\n",
    "    df['date']=extract_date_from_result(soup)\n",
    "    \n",
    "    ads=ads.append(df)\n",
    "    "
   ]
  },
  {
   "cell_type": "code",
   "execution_count": 247,
   "metadata": {},
   "outputs": [
    {
     "data": {
      "text/plain": [
       "'C:\\\\Users\\\\lundr\\\\DataScienceJobs\\\\notebooks'"
      ]
     },
     "execution_count": 247,
     "metadata": {},
     "output_type": "execute_result"
    }
   ],
   "source": [
    "import os\n",
    "os.getcwd()"
   ]
  },
  {
   "cell_type": "code",
   "execution_count": 249,
   "metadata": {},
   "outputs": [],
   "source": [
    "#ads.to_csv(r\"data\\indeed_scrape_data.csv\")"
   ]
  },
  {
   "cell_type": "code",
   "execution_count": 240,
   "metadata": {},
   "outputs": [
    {
     "data": {
      "text/plain": [
       "712"
      ]
     },
     "execution_count": 240,
     "metadata": {},
     "output_type": "execute_result"
    }
   ],
   "source": [
    "#currently just over 1000 have salary information\n",
    "ads[ads['salary']=='Nothing_found'].shape[0]"
   ]
  },
  {
   "cell_type": "code",
   "execution_count": 221,
   "metadata": {},
   "outputs": [
    {
     "data": {
      "text/html": [
       "<div>\n",
       "<style scoped>\n",
       "    .dataframe tbody tr th:only-of-type {\n",
       "        vertical-align: middle;\n",
       "    }\n",
       "\n",
       "    .dataframe tbody tr th {\n",
       "        vertical-align: top;\n",
       "    }\n",
       "\n",
       "    .dataframe thead th {\n",
       "        text-align: right;\n",
       "    }\n",
       "</style>\n",
       "<table border=\"1\" class=\"dataframe\">\n",
       "  <thead>\n",
       "    <tr style=\"text-align: right;\">\n",
       "      <th></th>\n",
       "      <th>company</th>\n",
       "      <th>job_title</th>\n",
       "      <th>salary</th>\n",
       "      <th>location</th>\n",
       "      <th>description</th>\n",
       "      <th>date</th>\n",
       "    </tr>\n",
       "  </thead>\n",
       "  <tbody>\n",
       "    <tr>\n",
       "      <th>0</th>\n",
       "      <td>\\n        Project 11</td>\n",
       "      <td>Junior Data Researcher</td>\n",
       "      <td>\\n                            £18,000 - £20,00...</td>\n",
       "      <td>Nothing_found</td>\n",
       "      <td>\\n            As a Junior Data Researcher, you...</td>\n",
       "      <td>3 days ago</td>\n",
       "    </tr>\n",
       "    <tr>\n",
       "      <th>1</th>\n",
       "      <td>\\n\\n        Foreign &amp; Commonwealth Office</td>\n",
       "      <td>Open Source Intelligence Analyst</td>\n",
       "      <td>\\n                            £34,053 a year</td>\n",
       "      <td>Nothing_found</td>\n",
       "      <td>\\n            By the time you leave us, you wi...</td>\n",
       "      <td>Nothing_found</td>\n",
       "    </tr>\n",
       "    <tr>\n",
       "      <th>2</th>\n",
       "      <td>\\n\\n        G-Research</td>\n",
       "      <td>Data Scientist - Data Intelligence</td>\n",
       "      <td>Nothing_found</td>\n",
       "      <td>Nothing_found</td>\n",
       "      <td>\\n            Demonstrable proficiency in stat...</td>\n",
       "      <td>Nothing_found</td>\n",
       "    </tr>\n",
       "    <tr>\n",
       "      <th>3</th>\n",
       "      <td>\\n\\n        Opus Recruitment Solutions</td>\n",
       "      <td>Lead Data Scientist</td>\n",
       "      <td>\\n                            £80,000 - £95,00...</td>\n",
       "      <td>Nothing_found</td>\n",
       "      <td>\\nData Scientist/ NoSQL/ R/ python/ Machine Le...</td>\n",
       "      <td>Nothing_found</td>\n",
       "    </tr>\n",
       "    <tr>\n",
       "      <th>4</th>\n",
       "      <td>\\n        Equinox by Work AnyWare</td>\n",
       "      <td>Data Migration Analyst</td>\n",
       "      <td>\\n                            £20,000 - £25,00...</td>\n",
       "      <td>Nothing_found</td>\n",
       "      <td>\\n            Communicating with clients about...</td>\n",
       "      <td>Nothing_found</td>\n",
       "    </tr>\n",
       "    <tr>\n",
       "      <th>5</th>\n",
       "      <td>\\n        EpiQuestLive</td>\n",
       "      <td>Trainee Data Engineer</td>\n",
       "      <td>Nothing_found</td>\n",
       "      <td>Hertfordshire</td>\n",
       "      <td>\\n            We also have vacancies for junio...</td>\n",
       "      <td>30+ days ago</td>\n",
       "    </tr>\n",
       "    <tr>\n",
       "      <th>6</th>\n",
       "      <td>\\n\\n        NHS Wales Informatics Service</td>\n",
       "      <td>Project Officer (National Data Resource)</td>\n",
       "      <td>\\n                            £24,214 - £30,11...</td>\n",
       "      <td>Glamorgan</td>\n",
       "      <td>\\n            The NDR will provide improved an...</td>\n",
       "      <td>5 days ago</td>\n",
       "    </tr>\n",
       "    <tr>\n",
       "      <th>7</th>\n",
       "      <td>\\n        Re:signal</td>\n",
       "      <td>Freelance Copywriters</td>\n",
       "      <td>Nothing_found</td>\n",
       "      <td>Remote</td>\n",
       "      <td>\\n            By filling out and sending this ...</td>\n",
       "      <td>4 months ago</td>\n",
       "    </tr>\n",
       "    <tr>\n",
       "      <th>8</th>\n",
       "      <td>\\n        Secret Intelligence Service</td>\n",
       "      <td>Intelligence Officer</td>\n",
       "      <td>\\n                            £33,800 - £42,70...</td>\n",
       "      <td>London</td>\n",
       "      <td>\\n            A sharp intellect with an abilit...</td>\n",
       "      <td>4 months ago</td>\n",
       "    </tr>\n",
       "    <tr>\n",
       "      <th>9</th>\n",
       "      <td>\\n\\n        Nationwide Building Society</td>\n",
       "      <td>Graduate Programme 2020</td>\n",
       "      <td>\\n                            £28,000 a year</td>\n",
       "      <td>United Kingdom</td>\n",
       "      <td>\\n            Our two-year programme makes sur...</td>\n",
       "      <td>19 days ago</td>\n",
       "    </tr>\n",
       "    <tr>\n",
       "      <th>10</th>\n",
       "      <td>\\n\\n        Dorset Police</td>\n",
       "      <td>Data Forensic Investigator (number of position...</td>\n",
       "      <td>Nothing_found</td>\n",
       "      <td>Bristol</td>\n",
       "      <td>\\n            For further details or an inform...</td>\n",
       "      <td>45 minutes ago</td>\n",
       "    </tr>\n",
       "    <tr>\n",
       "      <th>11</th>\n",
       "      <td>\\n\\n        PepsiCo</td>\n",
       "      <td>Graduate Accelerated Career Programme, Insights</td>\n",
       "      <td>\\n                            £30,000 a year</td>\n",
       "      <td>Reading</td>\n",
       "      <td>\\n            See the connections in data, tre...</td>\n",
       "      <td>30+ days ago</td>\n",
       "    </tr>\n",
       "    <tr>\n",
       "      <th>12</th>\n",
       "      <td>\\n\\n        Action Against Hunger UK</td>\n",
       "      <td>Research, Evaluation and Learning Intern</td>\n",
       "      <td>Nothing_found</td>\n",
       "      <td>United Kingdom</td>\n",
       "      <td>\\n            The intern will support with the...</td>\n",
       "      <td>12 days ago</td>\n",
       "    </tr>\n",
       "    <tr>\n",
       "      <th>13</th>\n",
       "      <td>\\n\\n        PepsiCo</td>\n",
       "      <td>General Operative - Lincoln (Permanent)</td>\n",
       "      <td>\\n                            £11.56 an hour</td>\n",
       "      <td>Lincoln</td>\n",
       "      <td>\\n            Understanding and interpreting n...</td>\n",
       "      <td>17 days ago</td>\n",
       "    </tr>\n",
       "    <tr>\n",
       "      <th>14</th>\n",
       "      <td>\\n        BP Bagley</td>\n",
       "      <td>Analyst</td>\n",
       "      <td>\\n                            £350 a day</td>\n",
       "      <td>East London</td>\n",
       "      <td>\\n            They may be a specialist in a pa...</td>\n",
       "      <td>3 hours ago</td>\n",
       "    </tr>\n",
       "    <tr>\n",
       "      <th>15</th>\n",
       "      <td>\\n        Veea Group</td>\n",
       "      <td>Graduate Data Architect Scheme</td>\n",
       "      <td>\\n                            £25,000 - £30,00...</td>\n",
       "      <td>Nothing_found</td>\n",
       "      <td>\\n            An interest in Data Architecture...</td>\n",
       "      <td>Nothing_found</td>\n",
       "    </tr>\n",
       "    <tr>\n",
       "      <th>16</th>\n",
       "      <td>\\n\\n        Claire House Children's Hospice</td>\n",
       "      <td>Data Processor</td>\n",
       "      <td>\\n                            £21,600 - £22,80...</td>\n",
       "      <td>Nothing_found</td>\n",
       "      <td>\\n            Have a clear understanding of da...</td>\n",
       "      <td>Nothing_found</td>\n",
       "    </tr>\n",
       "    <tr>\n",
       "      <th>17</th>\n",
       "      <td>\\n        Soiltechnics Ltd.</td>\n",
       "      <td>Data entry and presentation technician</td>\n",
       "      <td>\\n                            £18,500 - £20,00...</td>\n",
       "      <td>Nothing_found</td>\n",
       "      <td>\\n            Using reporting functions to pre...</td>\n",
       "      <td>Nothing_found</td>\n",
       "    </tr>\n",
       "    <tr>\n",
       "      <th>18</th>\n",
       "      <td>\\n\\n        4Com</td>\n",
       "      <td>Business Intelligence Data Engineer</td>\n",
       "      <td>\\n                            £40,000 - £50,00...</td>\n",
       "      <td>Nothing_found</td>\n",
       "      <td>\\n            Proven experience in business in...</td>\n",
       "      <td>Nothing_found</td>\n",
       "    </tr>\n",
       "  </tbody>\n",
       "</table>\n",
       "</div>"
      ],
      "text/plain": [
       "                                        company  \\\n",
       "0                          \\n        Project 11   \n",
       "1     \\n\\n        Foreign & Commonwealth Office   \n",
       "2                        \\n\\n        G-Research   \n",
       "3        \\n\\n        Opus Recruitment Solutions   \n",
       "4             \\n        Equinox by Work AnyWare   \n",
       "5                        \\n        EpiQuestLive   \n",
       "6     \\n\\n        NHS Wales Informatics Service   \n",
       "7                           \\n        Re:signal   \n",
       "8         \\n        Secret Intelligence Service   \n",
       "9       \\n\\n        Nationwide Building Society   \n",
       "10                    \\n\\n        Dorset Police   \n",
       "11                          \\n\\n        PepsiCo   \n",
       "12         \\n\\n        Action Against Hunger UK   \n",
       "13                          \\n\\n        PepsiCo   \n",
       "14                          \\n        BP Bagley   \n",
       "15                         \\n        Veea Group   \n",
       "16  \\n\\n        Claire House Children's Hospice   \n",
       "17                  \\n        Soiltechnics Ltd.   \n",
       "18                             \\n\\n        4Com   \n",
       "\n",
       "                                            job_title  \\\n",
       "0                              Junior Data Researcher   \n",
       "1                    Open Source Intelligence Analyst   \n",
       "2                  Data Scientist - Data Intelligence   \n",
       "3                                 Lead Data Scientist   \n",
       "4                              Data Migration Analyst   \n",
       "5                               Trainee Data Engineer   \n",
       "6            Project Officer (National Data Resource)   \n",
       "7                               Freelance Copywriters   \n",
       "8                                Intelligence Officer   \n",
       "9                             Graduate Programme 2020   \n",
       "10  Data Forensic Investigator (number of position...   \n",
       "11    Graduate Accelerated Career Programme, Insights   \n",
       "12           Research, Evaluation and Learning Intern   \n",
       "13            General Operative - Lincoln (Permanent)   \n",
       "14                                            Analyst   \n",
       "15                     Graduate Data Architect Scheme   \n",
       "16                                     Data Processor   \n",
       "17             Data entry and presentation technician   \n",
       "18                Business Intelligence Data Engineer   \n",
       "\n",
       "                                               salary        location  \\\n",
       "0   \\n                            £18,000 - £20,00...   Nothing_found   \n",
       "1        \\n                            £34,053 a year   Nothing_found   \n",
       "2                                       Nothing_found   Nothing_found   \n",
       "3   \\n                            £80,000 - £95,00...   Nothing_found   \n",
       "4   \\n                            £20,000 - £25,00...   Nothing_found   \n",
       "5                                       Nothing_found   Hertfordshire   \n",
       "6   \\n                            £24,214 - £30,11...       Glamorgan   \n",
       "7                                       Nothing_found          Remote   \n",
       "8   \\n                            £33,800 - £42,70...          London   \n",
       "9        \\n                            £28,000 a year  United Kingdom   \n",
       "10                                      Nothing_found         Bristol   \n",
       "11       \\n                            £30,000 a year         Reading   \n",
       "12                                      Nothing_found  United Kingdom   \n",
       "13       \\n                            £11.56 an hour         Lincoln   \n",
       "14           \\n                            £350 a day     East London   \n",
       "15  \\n                            £25,000 - £30,00...   Nothing_found   \n",
       "16  \\n                            £21,600 - £22,80...   Nothing_found   \n",
       "17  \\n                            £18,500 - £20,00...   Nothing_found   \n",
       "18  \\n                            £40,000 - £50,00...   Nothing_found   \n",
       "\n",
       "                                          description            date  \n",
       "0   \\n            As a Junior Data Researcher, you...      3 days ago  \n",
       "1   \\n            By the time you leave us, you wi...   Nothing_found  \n",
       "2   \\n            Demonstrable proficiency in stat...   Nothing_found  \n",
       "3   \\nData Scientist/ NoSQL/ R/ python/ Machine Le...   Nothing_found  \n",
       "4   \\n            Communicating with clients about...   Nothing_found  \n",
       "5   \\n            We also have vacancies for junio...    30+ days ago  \n",
       "6   \\n            The NDR will provide improved an...      5 days ago  \n",
       "7   \\n            By filling out and sending this ...    4 months ago  \n",
       "8   \\n            A sharp intellect with an abilit...    4 months ago  \n",
       "9   \\n            Our two-year programme makes sur...     19 days ago  \n",
       "10  \\n            For further details or an inform...  45 minutes ago  \n",
       "11  \\n            See the connections in data, tre...    30+ days ago  \n",
       "12  \\n            The intern will support with the...     12 days ago  \n",
       "13  \\n            Understanding and interpreting n...     17 days ago  \n",
       "14  \\n            They may be a specialist in a pa...     3 hours ago  \n",
       "15  \\n            An interest in Data Architecture...   Nothing_found  \n",
       "16  \\n            Have a clear understanding of da...   Nothing_found  \n",
       "17  \\n            Using reporting functions to pre...   Nothing_found  \n",
       "18  \\n            Proven experience in business in...   Nothing_found  "
      ]
     },
     "execution_count": 221,
     "metadata": {},
     "output_type": "execute_result"
    }
   ],
   "source": [
    "df"
   ]
  },
  {
   "cell_type": "markdown",
   "metadata": {},
   "source": [
    "Trouble is that we need the full job descriptions, which are on child pages. Below I extract the HTML elements which can then be used to create the urls of the child pages. The problem is that at the moment is doesn't seem to work (scraping the child pages doesn't seem to give the correct elements)."
   ]
  },
  {
   "cell_type": "code",
   "execution_count": 101,
   "metadata": {},
   "outputs": [],
   "source": [
    "#extract ids and data-jk from all adverts on current page, so that new urls can be created\n",
    "import re\n",
    "\n",
    "info={}\n",
    "for tag in soup.findAll(\"div\", {'class':re.compile('jobsearch-SerpJobCard')}):\n",
    "    dataempn=str(tag.get('data-empn'))\n",
    "    datajk=str(tag.get('data-jk'))\n",
    "    info[dataemp]=datajk\n"
   ]
  },
  {
   "cell_type": "code",
   "execution_count": 104,
   "metadata": {},
   "outputs": [
    {
     "data": {
      "text/plain": [
       "['https://www.indeed.co.uk/jobs?q=data&l&advn=3747467909843217&vjk=56e7de374aab14d6',\n",
       " 'https://www.indeed.co.uk/jobs?q=data&l&advn=None&vjk=None',\n",
       " 'https://www.indeed.co.uk/jobs?q=data&l&advn=1979017449966012&vjk=f15c9b1a610e8e47',\n",
       " 'https://www.indeed.co.uk/jobs?q=data&l&advn=2969860231483394&vjk=629ab875487ca70a',\n",
       " 'https://www.indeed.co.uk/jobs?q=data&l&advn=8255357065937891&vjk=4581f4f2398d100d',\n",
       " 'https://www.indeed.co.uk/jobs?q=data&l&advn=9292069614274549&vjk=465eba9fc9e55a98',\n",
       " 'https://www.indeed.co.uk/jobs?q=data&l&advn=5069600902847717&vjk=17abfee2f05fd563',\n",
       " 'https://www.indeed.co.uk/jobs?q=data&l&advn=7459990143019053&vjk=768baed796fc13c6',\n",
       " 'https://www.indeed.co.uk/jobs?q=data&l&advn=9660210449134183&vjk=e9845c80cb1b2f08']"
      ]
     },
     "execution_count": 104,
     "metadata": {},
     "output_type": "execute_result"
    }
   ],
   "source": [
    "# create urls for scraping from info\n",
    "searchTerm=\"data\"\n",
    "\n",
    "urls=[]\n",
    "for keys in info:\n",
    "    sub_url=\"https://www.indeed.co.uk/jobs?q=\"+searchTerm+\"&\"+\"l&advn=\"+keys+\"&vjk=\"+info.get(keys)\n",
    "    urls.append(sub_url)\n",
    "urls"
   ]
  }
 ],
 "metadata": {
  "kernelspec": {
   "display_name": "Python 3",
   "language": "python",
   "name": "python3"
  },
  "language_info": {
   "codemirror_mode": {
    "name": "ipython",
    "version": 3
   },
   "file_extension": ".py",
   "mimetype": "text/x-python",
   "name": "python",
   "nbconvert_exporter": "python",
   "pygments_lexer": "ipython3",
   "version": "3.7.3"
  }
 },
 "nbformat": 4,
 "nbformat_minor": 4
}
