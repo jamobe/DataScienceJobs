{
 "cells": [
  {
   "cell_type": "markdown",
   "metadata": {},
   "source": [
    "Code for scraping from indeed.co.uk"
   ]
  },
  {
   "cell_type": "code",
   "execution_count": 7,
   "metadata": {},
   "outputs": [],
   "source": [
    "#import packages\n",
    "\n",
    "import requests, bs4, time\n",
    "import pandas as pd\n",
    "import os\n",
    "import scraping_funcs_indeeduk as sf\n"
   ]
  },
  {
   "cell_type": "code",
   "execution_count": 13,
   "metadata": {},
   "outputs": [],
   "source": [
    "#scraping code:\n",
    "\n",
    "#decide what search term to use for finding jobs\n",
    "searchTerm=\"data\"\n",
    "\n",
    "#create empty data frame with column headers\n",
    "ads=pd.DataFrame(columns=['company','job_title','salary','location','description','date','full_description','other_deets'])\n",
    "\n",
    "# loop for scraping\n",
    "\n",
    "for i in range(0,1000,10):\n",
    "    time.sleep(1) #ensuring at least 1 second between page grabs\n",
    "    url = \"https://www.indeed.co.uk/jobs?q=\"+searchTerm+\"&filter=0&l=\"+\"&start=\"+str(i)\n",
    "    res = requests.get(url)\n",
    "    soup = bs4.BeautifulSoup(res.content)\n",
    "    df=pd.DataFrame()\n",
    "    df['company'] = sf.extract_company_from_result(soup)\n",
    "    df['job_title'] = sf.extract_job_title_from_result(soup)\n",
    "    df['salary'] = sf.extract_salary_from_result(soup)\n",
    "    df['location'] = sf.extract_location_from_result(soup)\n",
    "    df['description'] = sf.extract_description_from_result(soup)\n",
    "    df['date'] = sf.extract_date_from_result(soup)\n",
    "    \n",
    "    sub_urls=extract_links(soup)\n",
    "    text_list=[]\n",
    "    deets_list=[]\n",
    "    for j in sub_urls:\n",
    "        res_sub = requests.get(j)\n",
    "        soup_sub = bs4.BeautifulSoup(res_sub.content)\n",
    "        desc=sf.extract_full_desc(soup_sub)\n",
    "        text_list.append(desc)\n",
    "        other_deets=sf.extract_headlines_from_result(soup_sub)\n",
    "        deets_list.append(other_deets)\n",
    "    df['full_description']=text_list\n",
    "    df['other_deets']=deets_list\n",
    "    ads=ads.append(df)\n",
    "    "
   ]
  },
  {
   "cell_type": "code",
   "execution_count": 14,
   "metadata": {},
   "outputs": [
    {
     "data": {
      "text/plain": [
       "(655, 8)"
      ]
     },
     "execution_count": 14,
     "metadata": {},
     "output_type": "execute_result"
    }
   ],
   "source": [
    "#establish how many ads had no salary\n",
    "ads[ads['salary']==\"Nothing_found\"].shape"
   ]
  },
  {
   "cell_type": "code",
   "execution_count": 27,
   "metadata": {},
   "outputs": [
    {
     "data": {
      "text/html": [
       "<div>\n",
       "<style scoped>\n",
       "    .dataframe tbody tr th:only-of-type {\n",
       "        vertical-align: middle;\n",
       "    }\n",
       "\n",
       "    .dataframe tbody tr th {\n",
       "        vertical-align: top;\n",
       "    }\n",
       "\n",
       "    .dataframe thead th {\n",
       "        text-align: right;\n",
       "    }\n",
       "</style>\n",
       "<table border=\"1\" class=\"dataframe\">\n",
       "  <thead>\n",
       "    <tr style=\"text-align: right;\">\n",
       "      <th></th>\n",
       "      <th>company</th>\n",
       "      <th>job_title</th>\n",
       "      <th>salary</th>\n",
       "      <th>location</th>\n",
       "      <th>description</th>\n",
       "      <th>date</th>\n",
       "      <th>full_description</th>\n",
       "      <th>other_deets</th>\n",
       "    </tr>\n",
       "  </thead>\n",
       "  <tbody>\n",
       "    <tr>\n",
       "      <th>0</th>\n",
       "      <td>Civil Service Fast Stream</td>\n",
       "      <td>Fast Stream - Government Social Research Scheme</td>\n",
       "      <td>£27,000 a year</td>\n",
       "      <td>Nothing_found</td>\n",
       "      <td>Your work might involve developing surveys, a...</td>\n",
       "      <td>Nothing_found</td>\n",
       "      <td>The award-winning Fast Stream is the leadershi...</td>\n",
       "      <td>United Kingdom_Full-time, Permanent_£27,000 a ...</td>\n",
       "    </tr>\n",
       "    <tr>\n",
       "      <th>1</th>\n",
       "      <td>BP</td>\n",
       "      <td>Quantitative Trader Programme</td>\n",
       "      <td>Nothing_found</td>\n",
       "      <td>Nothing_found</td>\n",
       "      <td>If your knowledge stretches even further to m...</td>\n",
       "      <td>Nothing_found</td>\n",
       "      <td>\"Job profile summary:\\nResponsible for support...</td>\n",
       "      <td>London</td>\n",
       "    </tr>\n",
       "    <tr>\n",
       "      <th>2</th>\n",
       "      <td>Micro Focus</td>\n",
       "      <td>Data Solutions Architect</td>\n",
       "      <td>Nothing_found</td>\n",
       "      <td>Nothing_found</td>\n",
       "      <td>Directs, manages, leads, and coordinates the ...</td>\n",
       "      <td>Nothing_found</td>\n",
       "      <td>Data Solutions Architect\\n\\nJob Description:\\n...</td>\n",
       "      <td>Newbury RG14</td>\n",
       "    </tr>\n",
       "    <tr>\n",
       "      <th>3</th>\n",
       "      <td>Tangoe Inc.</td>\n",
       "      <td>Client Data Analyst</td>\n",
       "      <td>Nothing_found</td>\n",
       "      <td>Nothing_found</td>\n",
       "      <td>You’ll be responsible for monitoring volumes ...</td>\n",
       "      <td>Nothing_found</td>\n",
       "      <td>Client Data Analyst What you’ll do: This role ...</td>\n",
       "      <td>Abingdon</td>\n",
       "    </tr>\n",
       "    <tr>\n",
       "      <th>4</th>\n",
       "      <td>Foreign &amp; Commonwealth Office</td>\n",
       "      <td>Open Source Intelligence Analyst</td>\n",
       "      <td>£34,053 a year</td>\n",
       "      <td>Nothing_found</td>\n",
       "      <td>By the time you leave us, you will have an en...</td>\n",
       "      <td>Nothing_found</td>\n",
       "      <td>The Foreign &amp; Commonwealth Office (FCO) is at ...</td>\n",
       "      <td>London_Full-time, Contract_£34,053 a year</td>\n",
       "    </tr>\n",
       "  </tbody>\n",
       "</table>\n",
       "</div>"
      ],
      "text/plain": [
       "                         company  \\\n",
       "0      Civil Service Fast Stream   \n",
       "1                             BP   \n",
       "2                    Micro Focus   \n",
       "3                    Tangoe Inc.   \n",
       "4  Foreign & Commonwealth Office   \n",
       "\n",
       "                                         job_title          salary  \\\n",
       "0  Fast Stream - Government Social Research Scheme  £27,000 a year   \n",
       "1                    Quantitative Trader Programme   Nothing_found   \n",
       "2                         Data Solutions Architect   Nothing_found   \n",
       "3                              Client Data Analyst   Nothing_found   \n",
       "4                 Open Source Intelligence Analyst  £34,053 a year   \n",
       "\n",
       "        location                                        description  \\\n",
       "0  Nothing_found   Your work might involve developing surveys, a...   \n",
       "1  Nothing_found   If your knowledge stretches even further to m...   \n",
       "2  Nothing_found   Directs, manages, leads, and coordinates the ...   \n",
       "3  Nothing_found   You’ll be responsible for monitoring volumes ...   \n",
       "4  Nothing_found   By the time you leave us, you will have an en...   \n",
       "\n",
       "            date                                   full_description  \\\n",
       "0  Nothing_found  The award-winning Fast Stream is the leadershi...   \n",
       "1  Nothing_found  \"Job profile summary:\\nResponsible for support...   \n",
       "2  Nothing_found  Data Solutions Architect\\n\\nJob Description:\\n...   \n",
       "3  Nothing_found  Client Data Analyst What you’ll do: This role ...   \n",
       "4  Nothing_found  The Foreign & Commonwealth Office (FCO) is at ...   \n",
       "\n",
       "                                         other_deets  \n",
       "0  United Kingdom_Full-time, Permanent_£27,000 a ...  \n",
       "1                                             London  \n",
       "2                                       Newbury RG14  \n",
       "3                                           Abingdon  \n",
       "4          London_Full-time, Contract_£34,053 a year  "
      ]
     },
     "execution_count": 27,
     "metadata": {},
     "output_type": "execute_result"
    }
   ],
   "source": [
    "ads['description']=[x.lstrip('\\n').rstrip('\\n') for x in ads['description']]\n",
    "ads['company']=[x.lstrip('\\n\\n')for x in ads['company']]\n",
    "ads['full_description']=[str(x).lstrip(\"['\").rstrip(\"]'\") for x in ads['full_description']]\n",
    "ads['other_deets']=[str(x).lstrip(\"['\").rstrip(\"]'\") for x in ads['other_deets']]\n",
    "ads['salary']=[x.lstrip('\\n\\n')for x in ads['salary']]\n",
    "ads.head()"
   ]
  },
  {
   "cell_type": "code",
   "execution_count": 16,
   "metadata": {},
   "outputs": [],
   "source": [
    "#print data to csv\n",
    "#ads.to_csv(r\"indeed_scrape_data.csv\")"
   ]
  },
  {
   "cell_type": "code",
   "execution_count": 20,
   "metadata": {},
   "outputs": [
    {
     "data": {
      "text/plain": [
       "0                 \\n\\nCivil Service Fast Stream\n",
       "1                                        \\n\\nBP\n",
       "2                               \\n\\nMicro Focus\n",
       "3                                 \\nTangoe Inc.\n",
       "4             \\n\\nForeign & Commonwealth Office\n",
       "                        ...                    \n",
       "14                                  \\n\\nFoodbuy\n",
       "15    \\n\\nUK Government - National Crime Agency\n",
       "16               \\n\\nOpus Recruitment Solutions\n",
       "17              \\n\\nClearanswer Call Centre LTD\n",
       "18                     \\nGP Health Partners Ltd\n",
       "Name: company, Length: 1895, dtype: object"
      ]
     },
     "execution_count": 20,
     "metadata": {},
     "output_type": "execute_result"
    }
   ],
   "source": [
    "ads.company"
   ]
  },
  {
   "cell_type": "code",
   "execution_count": null,
   "metadata": {},
   "outputs": [],
   "source": []
  }
 ],
 "metadata": {
  "kernelspec": {
   "display_name": "Python 3",
   "language": "python",
   "name": "python3"
  },
  "language_info": {
   "codemirror_mode": {
    "name": "ipython",
    "version": 3
   },
   "file_extension": ".py",
   "mimetype": "text/x-python",
   "name": "python",
   "nbconvert_exporter": "python",
   "pygments_lexer": "ipython3",
   "version": "3.7.3"
  }
 },
 "nbformat": 4,
 "nbformat_minor": 4
}
