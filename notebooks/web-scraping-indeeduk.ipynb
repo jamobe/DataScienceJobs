{
 "cells": [
  {
   "cell_type": "markdown",
   "metadata": {},
   "source": [
    "Code for scraping from indeed.co.uk"
   ]
  },
  {
   "cell_type": "code",
   "execution_count": 1,
   "metadata": {},
   "outputs": [],
   "source": [
    "#import packages\n",
    "import requests, bs4, time\n",
    "import pandas as pd\n",
    "import os\n",
    "import scraping_funcs_indeeduk as sf\n",
    "from itertools import cycle\n",
    "import traceback\n",
    "from datetime import date\n",
    "import pickle\n"
   ]
  },
  {
   "cell_type": "code",
   "execution_count": 2,
   "metadata": {},
   "outputs": [],
   "source": [
    "ads= pd.DataFrame(columns = ['company', 'job_title', 'salary', 'location', 'description', 'date',\n",
    "       'full_description', 'other_deets', 'jobtype', 'salary_low',\n",
    "       'salary_high','extraction_date'])\n",
    "\n",
    "import os\n",
    "\n",
    "for i in os.listdir('C:/Users/lundr/DataScienceJobs/data/indeed_raw_pickles/'):\n",
    "    \n",
    "    read_in = pd.read_pickle(\"C:/Users/lundr/DataScienceJobs/data/indeed_raw_pickles/\"+i)\n",
    "    ads = pd.concat([ads,read_in],ignore_index = True, axis = 0, sort=True)\n"
   ]
  },
  {
   "cell_type": "code",
   "execution_count": 9,
   "metadata": {},
   "outputs": [
    {
     "name": "stderr",
     "output_type": "stream",
     "text": [
      "C:\\Users\\lundr\\AppData\\Local\\Continuum\\anaconda3\\envs\\dsj\\lib\\site-packages\\ipykernel_launcher.py:9: SettingWithCopyWarning: \n",
      "A value is trying to be set on a copy of a slice from a DataFrame\n",
      "\n",
      "See the caveats in the documentation: http://pandas.pydata.org/pandas-docs/stable/user_guide/indexing.html#returning-a-view-versus-a-copy\n",
      "  if __name__ == '__main__':\n",
      "C:\\Users\\lundr\\AppData\\Local\\Continuum\\anaconda3\\envs\\dsj\\lib\\site-packages\\ipykernel_launcher.py:10: SettingWithCopyWarning: \n",
      "A value is trying to be set on a copy of a slice from a DataFrame\n",
      "\n",
      "See the caveats in the documentation: http://pandas.pydata.org/pandas-docs/stable/user_guide/indexing.html#returning-a-view-versus-a-copy\n",
      "  # Remove the CWD from sys.path while we load stuff.\n",
      "C:\\Users\\lundr\\AppData\\Local\\Continuum\\anaconda3\\envs\\dsj\\lib\\site-packages\\pandas\\core\\indexing.py:205: SettingWithCopyWarning: \n",
      "A value is trying to be set on a copy of a slice from a DataFrame\n",
      "\n",
      "See the caveats in the documentation: http://pandas.pydata.org/pandas-docs/stable/user_guide/indexing.html#returning-a-view-versus-a-copy\n",
      "  self._setitem_with_indexer(indexer, value)\n"
     ]
    }
   ],
   "source": [
    "ads['days_from_post']  = 'None'\n",
    "\n",
    "for i in range(ads.shape[0]):\n",
    "    if (ads['date'][i] == 'Today')|(ads['date'][i] == 'Just posted') :\n",
    "        ads['days_from_post'] = 0\n",
    "    elif ads['date'][i] == 'Nothing_found':\n",
    "        pass\n",
    "    else:\n",
    "        a = ads['days_from_post'][i] = ads['date'][i].split(\"d\",1)[0]\n",
    "        ads['days_from_post'][i] = a.split(\"+\",1)[0]\n"
   ]
  },
  {
   "cell_type": "code",
   "execution_count": 6,
   "metadata": {},
   "outputs": [
    {
     "name": "stderr",
     "output_type": "stream",
     "text": [
      "C:\\Users\\lundr\\AppData\\Local\\Continuum\\anaconda3\\envs\\dsj\\lib\\site-packages\\ipykernel_launcher.py:6: SettingWithCopyWarning: \n",
      "A value is trying to be set on a copy of a slice from a DataFrame\n",
      "\n",
      "See the caveats in the documentation: http://pandas.pydata.org/pandas-docs/stable/user_guide/indexing.html#returning-a-view-versus-a-copy\n",
      "  \n"
     ]
    }
   ],
   "source": [
    "#ads['extraction_date'] = pd.to_datetime(ads['extraction_date'])\n",
    "import datetime\n",
    "ads['posted_date']='None'\n",
    "for x in range(len(ads['days_from_post'])):\n",
    "    if ads['days_from_post'][x] is not 'None':\n",
    "        ads['posted_date'][x] = pd.to_datetime(ads['extraction_date'][x])  - datetime.timedelta(days=int((ads['days_from_post'][x])))      \n",
    "\n",
    "\n"
   ]
  },
  {
   "cell_type": "code",
   "execution_count": 114,
   "metadata": {},
   "outputs": [
    {
     "data": {
      "text/plain": [
       "0       2019-06-11 00:00:00\n",
       "1       2019-06-11 00:00:00\n",
       "2       2019-06-11 00:00:00\n",
       "3       2019-06-11 00:00:00\n",
       "4       2019-06-11 00:00:00\n",
       "               ...         \n",
       "4510    2019-10-12 00:00:00\n",
       "4511    2019-11-06 00:00:00\n",
       "4512    2019-10-12 00:00:00\n",
       "4513    2019-10-27 00:00:00\n",
       "4514    2019-10-27 00:00:00\n",
       "Name: posted_date, Length: 4515, dtype: object"
      ]
     },
     "execution_count": 114,
     "metadata": {},
     "output_type": "execute_result"
    }
   ],
   "source": [
    " ads['posted_date']"
   ]
  },
  {
   "cell_type": "code",
   "execution_count": 10,
   "metadata": {},
   "outputs": [
    {
     "data": {
      "text/html": [
       "<div>\n",
       "<style scoped>\n",
       "    .dataframe tbody tr th:only-of-type {\n",
       "        vertical-align: middle;\n",
       "    }\n",
       "\n",
       "    .dataframe tbody tr th {\n",
       "        vertical-align: top;\n",
       "    }\n",
       "\n",
       "    .dataframe thead th {\n",
       "        text-align: right;\n",
       "    }\n",
       "</style>\n",
       "<table border=\"1\" class=\"dataframe\">\n",
       "  <thead>\n",
       "    <tr style=\"text-align: right;\">\n",
       "      <th></th>\n",
       "      <th>index</th>\n",
       "      <th>company</th>\n",
       "      <th>date</th>\n",
       "      <th>description</th>\n",
       "      <th>extraction_date</th>\n",
       "      <th>full_description</th>\n",
       "      <th>job_title</th>\n",
       "      <th>jobtype</th>\n",
       "      <th>location</th>\n",
       "      <th>other_deets</th>\n",
       "      <th>salary</th>\n",
       "      <th>salary_high</th>\n",
       "      <th>salary_low</th>\n",
       "      <th>days_from_post</th>\n",
       "      <th>posted_date</th>\n",
       "      <th>salary_type</th>\n",
       "    </tr>\n",
       "  </thead>\n",
       "  <tbody>\n",
       "    <tr>\n",
       "      <th>0</th>\n",
       "      <td>0</td>\n",
       "      <td>\\nSingle Homelessness Prevention Service</td>\n",
       "      <td>Today</td>\n",
       "      <td>\\n Data and Operations Analyst with an innovat...</td>\n",
       "      <td>6-11-2019</td>\n",
       "      <td>Role: Data and Operations Analyst with an inno...</td>\n",
       "      <td>Homelessness Data and Operations Analyst</td>\n",
       "      <td>NaN</td>\n",
       "      <td>Nothing_found</td>\n",
       "      <td>London_£33,000 a year</td>\n",
       "      <td>\\n£33,000 a year</td>\n",
       "      <td>\\n£33,000 a year</td>\n",
       "      <td>\\n£33,000 a year</td>\n",
       "      <td>0</td>\n",
       "      <td>None</td>\n",
       "      <td>year</td>\n",
       "    </tr>\n",
       "    <tr>\n",
       "      <th>1</th>\n",
       "      <td>1</td>\n",
       "      <td>\\n\\nHalfords</td>\n",
       "      <td>Nothing_found</td>\n",
       "      <td>\\n Previous experience of managing data and re...</td>\n",
       "      <td>6-11-2019</td>\n",
       "      <td>As Operations Analyst for Halfords you'll be r...</td>\n",
       "      <td>Data Analyst - Operations</td>\n",
       "      <td>NaN</td>\n",
       "      <td>Nothing_found</td>\n",
       "      <td>Worcestershire</td>\n",
       "      <td>Nothing_found</td>\n",
       "      <td>Nothing_found</td>\n",
       "      <td>Nothing_found</td>\n",
       "      <td>0</td>\n",
       "      <td>None</td>\n",
       "      <td>None</td>\n",
       "    </tr>\n",
       "    <tr>\n",
       "      <th>2</th>\n",
       "      <td>2</td>\n",
       "      <td>\\n\\nBank of America</td>\n",
       "      <td>Nothing_found</td>\n",
       "      <td>\\n Operations Analyst – OTC Clearing Settlemen...</td>\n",
       "      <td>6-11-2019</td>\n",
       "      <td>Operations Analyst – OTC Clearing Settlements\\...</td>\n",
       "      <td>Operations Analyst</td>\n",
       "      <td>NaN</td>\n",
       "      <td>Nothing_found</td>\n",
       "      <td>Chester</td>\n",
       "      <td>Nothing_found</td>\n",
       "      <td>Nothing_found</td>\n",
       "      <td>Nothing_found</td>\n",
       "      <td>0</td>\n",
       "      <td>None</td>\n",
       "      <td>None</td>\n",
       "    </tr>\n",
       "    <tr>\n",
       "      <th>3</th>\n",
       "      <td>3</td>\n",
       "      <td>\\n\\nMaritzCX</td>\n",
       "      <td>Today</td>\n",
       "      <td>\\n 0-2 years’ experience in data processing or...</td>\n",
       "      <td>6-11-2019</td>\n",
       "      <td>Description: Learn the root techniques, Survox...</td>\n",
       "      <td>Data Collection Analyst</td>\n",
       "      <td>NaN</td>\n",
       "      <td>Nothing_found</td>\n",
       "      <td>High Wycombe_Full-time, Permanent_£23,000 - £2...</td>\n",
       "      <td>\\n£23,000 - £27,000 a year</td>\n",
       "      <td>£27,000 a year</td>\n",
       "      <td>\\n£23,000</td>\n",
       "      <td>0</td>\n",
       "      <td>None</td>\n",
       "      <td>year</td>\n",
       "    </tr>\n",
       "    <tr>\n",
       "      <th>4</th>\n",
       "      <td>4</td>\n",
       "      <td>\\nValpak Ltd</td>\n",
       "      <td>Nothing_found</td>\n",
       "      <td>\\n Compile data as part of Consulting projects...</td>\n",
       "      <td>6-11-2019</td>\n",
       "      <td>As the EPIC Analyst you will primarily support...</td>\n",
       "      <td>Data Analyst (EPIC)</td>\n",
       "      <td>NaN</td>\n",
       "      <td>Nothing_found</td>\n",
       "      <td>Stratford-upon-Avon_Full-time, Permanent</td>\n",
       "      <td>Nothing_found</td>\n",
       "      <td>Nothing_found</td>\n",
       "      <td>Nothing_found</td>\n",
       "      <td>0</td>\n",
       "      <td>None</td>\n",
       "      <td>None</td>\n",
       "    </tr>\n",
       "  </tbody>\n",
       "</table>\n",
       "</div>"
      ],
      "text/plain": [
       "   index                                   company           date  \\\n",
       "0      0  \\nSingle Homelessness Prevention Service          Today   \n",
       "1      1                              \\n\\nHalfords  Nothing_found   \n",
       "2      2                       \\n\\nBank of America  Nothing_found   \n",
       "3      3                              \\n\\nMaritzCX          Today   \n",
       "4      4                              \\nValpak Ltd  Nothing_found   \n",
       "\n",
       "                                         description extraction_date  \\\n",
       "0  \\n Data and Operations Analyst with an innovat...       6-11-2019   \n",
       "1  \\n Previous experience of managing data and re...       6-11-2019   \n",
       "2  \\n Operations Analyst – OTC Clearing Settlemen...       6-11-2019   \n",
       "3  \\n 0-2 years’ experience in data processing or...       6-11-2019   \n",
       "4  \\n Compile data as part of Consulting projects...       6-11-2019   \n",
       "\n",
       "                                    full_description  \\\n",
       "0  Role: Data and Operations Analyst with an inno...   \n",
       "1  As Operations Analyst for Halfords you'll be r...   \n",
       "2  Operations Analyst – OTC Clearing Settlements\\...   \n",
       "3  Description: Learn the root techniques, Survox...   \n",
       "4  As the EPIC Analyst you will primarily support...   \n",
       "\n",
       "                                  job_title jobtype       location  \\\n",
       "0  Homelessness Data and Operations Analyst     NaN  Nothing_found   \n",
       "1                 Data Analyst - Operations     NaN  Nothing_found   \n",
       "2                        Operations Analyst     NaN  Nothing_found   \n",
       "3                   Data Collection Analyst     NaN  Nothing_found   \n",
       "4                       Data Analyst (EPIC)     NaN  Nothing_found   \n",
       "\n",
       "                                         other_deets  \\\n",
       "0                              London_£33,000 a year   \n",
       "1                                     Worcestershire   \n",
       "2                                            Chester   \n",
       "3  High Wycombe_Full-time, Permanent_£23,000 - £2...   \n",
       "4           Stratford-upon-Avon_Full-time, Permanent   \n",
       "\n",
       "                       salary       salary_high        salary_low  \\\n",
       "0            \\n£33,000 a year  \\n£33,000 a year  \\n£33,000 a year   \n",
       "1               Nothing_found     Nothing_found     Nothing_found   \n",
       "2               Nothing_found     Nothing_found     Nothing_found   \n",
       "3  \\n£23,000 - £27,000 a year    £27,000 a year         \\n£23,000   \n",
       "4               Nothing_found     Nothing_found     Nothing_found   \n",
       "\n",
       "  days_from_post posted_date salary_type  \n",
       "0              0        None        year  \n",
       "1              0        None        None  \n",
       "2              0        None        None  \n",
       "3              0        None        year  \n",
       "4              0        None        None  "
      ]
     },
     "execution_count": 10,
     "metadata": {},
     "output_type": "execute_result"
    }
   ],
   "source": [
    "ads.head()"
   ]
  },
  {
   "cell_type": "code",
   "execution_count": 44,
   "metadata": {},
   "outputs": [],
   "source": [
    "# clean data\n",
    "import cleaning_funcs_indeed_uk as cf\n",
    "ads['location'],ads['salary'],ads['jobtype'] = cf.clean_other_deets(ads['other_deets'])\n",
    "ads['full_description'] = cf.clean_column(ads['full_description'])\n",
    "ads['company'] = cf.clean_column(ads['company'])\n",
    "ads['salary_low'], ads['salary_high'],ads['salary_type'] = cf.create_split_salary_range(ads['salary'])\n",
    "\n",
    "########\n",
    "ads['salary_low']=cf.clean_salary(ads['salary_low'],\"£\")\n",
    "ads['salary_high']=cf.clean_salary(ads['salary_high'],\"£\")\n"
   ]
  },
  {
   "cell_type": "code",
   "execution_count": 7,
   "metadata": {},
   "outputs": [],
   "source": [
    "import cleaning_funcs_indeed_uk as cf\n",
    "ads['salary_low'], ads['salary_high'],ads['salary_type'] = cf.create_split_salary_range(ads['salary'])"
   ]
  },
  {
   "cell_type": "code",
   "execution_count": 45,
   "metadata": {},
   "outputs": [],
   "source": [
    "ads = ads.drop_duplicates(['description', 'other_deets'])"
   ]
  },
  {
   "cell_type": "code",
   "execution_count": 62,
   "metadata": {},
   "outputs": [],
   "source": [
    "companies = list(ads.company)"
   ]
  },
  {
   "cell_type": "code",
   "execution_count": 63,
   "metadata": {
    "collapsed": true,
    "jupyter": {
     "outputs_hidden": true
    }
   },
   "outputs": [
    {
     "name": "stdout",
     "output_type": "stream",
     "text": [
      "[' Single Homelessness Prevention Service', '  Halfords', '  Bank of America', '  MaritzCX', ' Valpak Ltd', '  MDSL', ' MI ', ' Caresoft', '  Sparta Global', '  Maidstone Borough Council', '  Screwfix', '  Sherwood Forest Hospitals NHS Foundation Trust', '  Thames Water Utilites', '  Morrisons', '  Sparta Global', '  NHS Scotland', ' Nuclear Decommissioning Authority', '  Centrica', ' DBS Datamarketing Ltd', '  GCHQ', ' Single Homelessness Prevention Service', '  MaritzCX', ' Ito World', ' Expleo Group', '  Sparta Global', ' Black Swan Data Ltd', '  University of Sheffield', '  Capital One - UK', '  Greater London Authority', ' Starcom', ' Attest', '  Wiltshire Health and Care', '  Amazon UK Services Ltd ', '  Away Resorts', ' DBS Datamarketing Ltd', ' Equinox by Work AnyWare', ' trueology', ' Single Homelessness Prevention Service', ' Eurofins UK BioPharma Services', ' Valpak Ltd', '  Halfords', '  Capita Plc', '  Lloyds Banking Group', '  Capita IT Resourcing', '  Citi', '  Amazon UK Services Ltd ', '  DHL', '  University of Birmingham', ' Station  ', ' Funds-Axis Limited', ' Circle Recruitment', '  Cameo', '  National Citizen Service Trust', ' Single Homelessness Prevention Service', ' DBS Datamarketing Ltd', ' William Hare Group', ' Gibson Jones', '  EDF Energy Limited', '  UNISON', '  UK Government - National Crime Agency', ' Park Log Ltd', '  Screwfix', '  DHL Supply Chain', ' Ito World', ' DBS Datamarketing Ltd', '  Halfords', '  Department for Transport', '  GCHQ', ' DBS Datamarketing Ltd', '  tombola', '  DHL Supply Chain', '  The National Archives', '  Cornwall Council', ' Curo Talent', ' Halian', '  Tesco', ' Connexus', '  Lloyds Banking Group', '  Plymouth Community Homes', ' Ito World', ' trueology', ' Expleo Group', ' Eurofins UK BioPharma Services', '  Landmark Information Group', '  Gallifordtry', '  JD', ' Clearpoint Recycling', '  HM Revenue and Customs', ' William Hare Group', '  Royal Cornwall Hospitals NHS Trust', '  Facebook', ' Funds-Axis Limited', '  Halfords', '  GCHQ', '  MaritzCX', '  Barclays', '  Specsavers', '  JLL', '  Next PLC', '  Ampersand Consulting', ' Punter Southall Analytics Limited', '  Tesco', '  Network Rail', '  Tim Hortons UK & Ireland LTD', '  University Hospital Southampton NHS Foundation Tru   ', ' trueology', '  B&Q', ' Valpak Ltd', '  GVC Holdings', '  Mitie', '  TalkTalk', '  BT', '  Network Rail', '  Illumina', '  The Open University UK', '  Sherwood Forest Hospitals NHS Foundation Trust', '  Kwalee', '  Away Resorts', '  National Citizen Service Trust', ' DBS Datamarketing Ltd', '  DHL', ' AJACO', '  BT', '  Venturi', '  IBM', ' Gibson Jones', '  XPO Logistics', '  UK Government - Department for International Trade', '  GVC Holdings', '  BBC', ' trueology', '  Badoo', '  Covance', '  Kwalee', '  Marks & Spencer', '  Sky', '  London Borough of Hillingdon', '  London Borough of Hillingdon', '  Newbury Building Society', ' Pontefract Academies Trust', '  BCD Travel Corporate', '  Tim Hortons UK & Ireland LTD', '  Transport for London', ' AJACO', ' Rocket Internet', '  Orbit Group', '  LSE Jobs', ' HealthyHealth', '  Newbury Building Society', '  Refinitiv', '  B&Q', '  Richmond and Wandsworth Councils', '  EY', ' Atnahs', ' Forward', '  South Yorkshire Police', '  NHS Digital', ' Picked ai', '  Microsoft', '  Barclays', '  Deliveroo', '  Gallifordtry', '  IBM', ' Gibson Jones', '  Argus Media', '  University of Wolverhampton', '  Care UK Healthcare', '  Ericsson', ' Cansr com', ' Yodlee', '  Wren Kitchens', '  Santander', '  Veolia', ' Agility Resourcing', '  United Lincolnshire Hospitals NHS Trust', ' Businesswise Solutions Limited', '  Ampersand Consulting', '  B & S Group', ' Clyde&Co', '  UK Government - Office for National Statistics', '  Care UK Healthcare', ' ALTOUR', '  Lewisham Council', '  Six Degrees', '  Elexon', '  National Citizen Service Trust', '  GCHQ', ' Single Homelessness Prevention Service', '  Specsavers', '  Capgemini', '  Inclusion', ' FXC Intelligence Ltd', '  BCD Travel Corporate', '  Ampersand Consulting', '  Visa', '  Marks & Spencer', '  Royal Liverpool and Broadgreen University NHS Trus   ', '  First Derivatives plc', '  Surrey County Council', '  Cromwell Group', '  PlayStation', ' Dominvs Group', '  Roscom', '  Legal & General Investment Management', '  st solution consulting gmbh', '  B&Q', '  Moody s Investors Service', '  Government Communications Headquarters (GCHQ)', '  The Range', '  Amazon UK Services Ltd ', ' Grayce', '  Thames Water Utilites', '  Norfolk and Norwich University Hospitals NHS Found   ', '  Fitch Solutions', ' Grayce', '  B & S Group', '  Britvic Soft Drinks Ltd', '  MandM Direct', ' i i Pipelines Ltd', ' Amadeus Software Ltd', ' Lloyds UK', ' Man', '  TSYS', ' Contractsonline Ltd', '  Lookers', '  ASDA', '  O  Telefonica', '  Arm', '  Legal & General Investment Management', ' Amadeus Software Ltd', '  TUI', ' Multipanel UK', '  Baker Hughes', '  Network Homes', '  RS Components', ' PurpleBricks', ' Contractsonline Ltd', '  Lookers', '  Moody s Investors Service', '  ASDA', '  O  Telefonica', '  Arm', ' DBS Datamarketing Ltd', '  Capgemini', '  Argus Media', ' CityWirw', '  Ipsos', '  Nielsen', '  Amazon UK Services Ltd ', ' CJCH Solicitors', ' FlexTrade Systems  Inc ', '  Advanced', ' Caresoft', ' Valpak Ltd', ' ISS Corporate Solutions', '  TEAM Energy Auditing Agency', ' SIX', ' FXCM Inc ', '  Hanson Wade', '  HSBC', '  Hertz Europe', '  Financial Conduct Authority', '  Stagecoach Bus', '  Transport for London', ' Clearpoint Recycling', '  Six Degrees', '  RS Components', '  Moody s Investors Service', ' Snowdon Recruitment Limited', '  London Borough of Hounslow', '  sodexo', '  Arcadia Group', ' Discovery Italia', '  National Citizen Service Trust', ' Single Homelessness Prevention Service', '  The University of Manchester', '  NHS Scotland', '  The Keystone Group UK', '  Lloyds Banking Group', '  London Borough of Hounslow', '  RS Components', '  Citi', '  Amphenol Ltd', '  BNP Paribas', ' Multiple Brands', ' HouseMark', '  St John Ambulance Employees', '  Ocado Group', '  tombola', ' Understanding Recruitment', ' ABA Research', ' Agility Resourcing', '  Warwickshire County Council', '  Brammer', '  University of East London', '  Amazon UK Services Ltd ', '  Barclays', '  Kier Group', ' Grayce', ' Black Swan Data Ltd', '  Group Lotus', ' Snowdon Recruitment Limited', '  MDSL', '  The Keystone Group UK', ' Respect Consulting Group', '  JD', '  Charles River Associates', ' Quotient Limited', ' Sentinel', ' Logix Resourcing', '  The AA', '  Verisk', '  sodexo', '  Amazon UK Services Ltd ', ' ECMWF', ' Voneus Ltd', ' Payzone UK LTD', '  Equifax', '  Cornwall Council', '  Turning Point', '  North East Ambulance Service NHS Foundation Trust', '  Kier Group', '  Specsavers', '  Devon Doctors', ' FlexTrade Systems  Inc ', ' Apex Capital Group', '  Lewisham Council', ' Engage Transform Consultancy Ltd', ' Agility Resourcing', ' The Haberdashers  Aske s Boys  School', '  UK Government - House of Commons', '  William Hill', '  Ampersand Consulting', '  Tim Hortons', '  Murphy Group', ' Respect Consulting Group', ' Balyasny', '  PDSA', '  Phoenix Group UK', '  UK Government - National Crime Agency', ' Digital Gurus', ' Operation Fistula', '  easyJet', ' Snowdon Recruitment Limited', '  iZettle', '  KennedyPearce Consulting', ' Lawrence Harvey', '  Rochdale Boroughwide Housing', '  Elexon', '  GCHQ', '  Intel', '  Medpace', ' max  ', '  Marsh & McLennan Companies  Inc ', '  PHS Group', '  Wren Kitchens', '  UK Government - Department for Transport', ' Lloyds UK', ' Opta', ' Apex Capital Group', ' DBS Datamarketing Ltd', '  MUFG', '  TalkTalk', ' Attivo Group', '  Royal Cornwall Hospitals NHS Trust', '  Revolut', '  Accenture', '  Walgreens Boots Alliance', '  Wood Mackenzie', '  University of Cambridge', '  General Dynamics UK', ' Single Homelessness Prevention Service', '  National Citizen Service Trust', ' Valpak Ltd', ' DBS Datamarketing Ltd', ' Ito World', ' The Haberdashers  Aske s Boys  School', '  TalkTalk', ' Textron Specialized Vehicles', ' Owlstone Medical', '  Claranet', '  Deloitte', ' Moneysupermarket Group', ' Ignite Digital', '  Dorset County Hospital NHS Foundation Trust', ' PeopleCheck Ltd', '  Halfords', '  Elexon', ' trueology', '  Greater London Authority', '  Cabot Financial', '  apetito', '  CBRE', '  apetito', ' PeopleFirst Recruitment', '  Beazley', '  JLL', '  Paddy Power Betfair', ' Urban Empire Recruitment', '  NFU Mutual', ' Smarkets', '  ', '  Charles River Associates', ' The Creative Engagement Group', ' Single Homelessness Prevention Service', '  Taylor Wimpey', '  SCC', '  National Grid', '  Efficio Consulting', '  Marston Holding Limited   NSL Ltd', '  Michael Page UK', '  AbbVie', '  ', '  Irwin Mitchell', ' trueology', ' The ASO Co', '  Sky', '  Gymshark', '  UK Government - Department for Education', '  East Sussex County Council', '  Avis Budget Group', '  LUBBORN CHEESE LTD', '  Amazon UK Services Ltd ', ' Apsiz Services Ltd', ' Compass Informatics', ' Interact Consulting', ' Volume Ltd', '  St John Ambulance Employees', '  UBS', ' Doctor Care Anywhere', '  Wood Mackenzie', '  Turner & Townsend', '  Towergate', '  Legal & General Group Plc ', '  Lloyds Banking Group', '  Jet  com and Jet holidays', '  Greater Manchester Police', '  Amazon UK Services Ltd ', '  Government Communications Headquarters (GCHQ)', ' Quadrant Building Control', '  Johnson Controls', '  Towergate', '  Barts Health NHS Trust', '  Kraft Heinz Company', ' D  E  Shaw & Co   L P ', '  Ocado Group', ' Head Resourcing Limited', '  Michael Page UK', '  Dorset County Hospital NHS Foundation Trust', ' Talent For Marketing', '  Gallagher', ' Realex Payments', '  st solution consulting gmbh', ' Chattermill', ' Realex Payments', '  Arcadia Group', '  Inmarsat', ' Quantatative Limited', ' Voneus Ltd', ' The Brattle Group  Inc ', '  sodexo', '  RS Components', '  Moody s Investors Service', '  GP Strategies Corporation', '  Imperial College London', '  Legal & General Group Plc ', '  Matthew Clark', '  Verifile', ' Lawrence Harvey', ' Mediaforce Group', '  Irwin Mitchell', '  The Hyde Group', '  Thales Group', '  Newham Council', '  Discovery Communications  LLC', ' Troy UK', '  Verifile', '  Schroders', ' Apsiz Services Ltd', '  Aviva', ' Consortia', '  Next PLC', ' Businesswise Solutions Limited', '  Reading Borough Council', '  The University of Manchester', '  Arm', ' SB Media Group Ltd', '  Mediaworks', '  The University of Manchester', '  McLaren', '  A Dominion Housing Group Ltd ', ' Incite insight', '  Johnson Controls', '  Sky', '  Acuris', ' Bobtrade', '  Amazon UK Services Ltd ', '  Capita Plc', '  EY', '  MDSL', '  Pearson', '  Capita Plc', '  Brunel University', ' Upland Software', '  University of Cambridge', '  Ampersand Consulting', '  Barts Health NHS Trust', ' Capital Track', '  Kent County Council', '  Government Communications Headquarters (GCHQ)', '  Elexon', ' Fuel Recruitment', ' Quotient Limited', ' M&GPrudential', '  Beds & Bars', '  EY', '  Environment Agency', '  Royal London Group', ' Opta', '  Sports Direct', '  TUI', '  Fujitsu', '  Fiserv  Inc ', '  Cobham Consulting', '  Amazon UK Services Ltd ', '  International SOS', '  IPC Systems  Inc ', '  Cardiff Council', '  Bank of America', '  AXA General Insurance', '  Anglian Water Services Ltd', '  Financial Conduct Authority', '  Barclays', ' Q² Solutions', '  Kindred Group', ' Upland Software', '  Kindred Group', '  Freshfields Bruckhaus Deringer LLP', ' Balyasny', ' The Business of Fashion', '  Informa', '  Hiscox', '  BOEING', ' Lease Less', ' OpenCorporates', ' W&S', '  Tim Hortons UK & Ireland LTD', '  Ransomes Jacobsen', '  Expedia Group', '  Oscar Technology', '  Walgreens Boots Alliance', '  University Hospital Southampton NHS Foundation Tru   ', ' Payments Recruitment Limited', '  Marks & Spencer', '  Eversheds Sutherland', ' wa consultants', '  Metro Bank PLC', '  Sei', '  DMC Healthcare', ' Stark', '  Amazon UK Services Ltd ', '  Sky', '  Pendragon', '  Ipsos', ' Doctor Care Anywhere', '  PLATTS', '  GAME', '  Asos com', '  Amazon UK Services Ltd ', '  Taylor Wimpey', '  MDSL', '  MDSL', ' Solera Nederland', ' Marflow', ' IDPP', '  Cobham Consulting', ' IRESS Limited', '  Amazon UK Services Ltd ', '  Jet  com and Jet holidays', '  Virgin Holidays', '  Serco Group', '  Spotify', ' L&G recruitment', ' MediaCom', '  Flight Centre (UK) Limited', '  AXA UK', ' Chattermill', '  Assystem', '  UK Government - Office for National Statistics', '  Pendragon', '  Ipsos', ' Noriker Power', '  County Broadband Ltd', '  Lorien Resourcing', ' GCE Solutions', '  Superdrug', '  Reading Borough Council', '  RDF Digital', ' Credit Benchmark Limited', ' Single Homelessness Prevention Service', ' Lawrence Harvey', '  GCHQ', '  B&Q', '  UK Government - National Crime Agency', '  Environment Agency', '  Cisco Careers', ' Quadrant Building Control', ' Media Molecule', '  JPMorgan Chase', '  Brewin Dolphin', '  PwC', '  UBS', '  National Citizen Service Trust', ' Single Homelessness Prevention Service', '  GCS Recruitment Specialists Ltd', '  EY', '  Spring', ' The Environment Agency', ' SPYSCAPE', '  South Yorkshire Police', ' FXCM Inc ', ' TalentPool', '  Kent County Council', '  Fiserv  Inc ', '  Macquarie Group Limited', '  McGregor Boyall', ' Bangura Solutions', '  John Lewis & Partners', '  Alexander & Co', '  Nomura Holdings  Inc ', '  Metro Bank PLC', ' enelyst', '  Amey', '  Intouch Games', ' Scientific Laboratory Supplies', '  Towergate', '  SSE plc', ' NC Associates', '  UK Government - Department for Digital  Culture  M   ', '  Amazon UK Services Ltd ', '  InterQuest Group', '  Surrey County Council', ' Williams - F ', ' Mission Without Borders International', '  easyJet', '  Essentra PLC', '  easyJet', '  Kettering General Hospital NHS Foundation Trust', '  Barclays', '  Surrey Satellite Technology Limited', '  Intel', '  PA Consulting Group', ' The Lead Agency', '  One Manchester', '  Ordnance Survey', '  Lloyds Banking Group', ' Owlstone Medical', ' MarkJames Search', '  Croydon College', '  Post Office Ltd', ' Talenting', ' Media Molecule', '  Next PLC', '  Richmond Group', '  Cigna', '  Marsh & McLennan Companies  Inc ', ' Exemplas', ' Solera Nederland', ' Jupiter Management Consultancy (JMC)', '  Michael Page UK', ' Excel LEC Limited', ' Hermes', ' MarkJames Search', '  University Hospital Southampton NHS Foundation Tru   ', '  Macmillan Cancer Support', '  IHS Markit', '  AXA General Insurance', '  Ladbrokes Coral Group', '  Tarmac', ' D R Newitt', '  J P  Morgan', ' Intellimorph', ' BranWell Ford', '  Whitbread', '  Funko', ' cer Financial', '  Hydrogen Group', '  ', '  Reed Business Information', '  Jet  com and Jet holidays', '  East of England Ambulance Service Trust', ' Understanding Recruitment', '  Eversheds Sutherland', ' JONCKERS', '  Tate', '  REPLY', '  McGregor Boyall', ' Consortia', ' Artefact', '  ', '  Tate', '  Travelport', ' Proactive IT Appointments', ' Frontier Economics Limited', '  Stevenage Borough Council', '  Equifax', '  Barker and Stonehouse', ' wa consultants', '  Countrywide', ' Morgan Philips', '  infinite Group', '  Travelport', ' Zazu Digital', '  APCOA PARKING UK', '  The Children s Society', '  PwC', ' E W', '  iZettle', ' The Goat Agency', ' Oodle Finance', '  Columbia Threadneedle Investments', '  Capita IT Resourcing', '  Capital Group', '  Sei', ' Tech T', '  ', ' NC Associates', '  Shop Direct', '  KANTAR', '  EY', '  Lorien Resourcing', ' Southend University Hospital - Nursing and General', '  The Hyde Group', ' Nicholson Glover Consulting', ' BRUIN Financial', '  Visa', '  ', '  GCHQ', ' Lawrence Harvey', '  NSL Ltd', '  Sky', '  Central Employment Agency', ' The Environment Agency', ' TI Platform Management', '  Davies Group', '  Britvic Soft Drinks Ltd', ' ClearMacro', '  Plymouth Community Homes', '  Jet  com and Jet holidays', '  Amaze', '  Michael Page UK', '  Accenture', '  PA Consulting Group', ' Yormedia Solutions Ltd', ' ICF', '  Clinical Professionals', '  SF Group', ' Polar Speed Distribution Ltd', ' Monzo', ' Multiple Brands', ' Viber', '  Ocado Group', ' Recpool Group', '  Mediaworks', '  Saga', ' Broomham Recruitment', '  The Children s Society', ' Citywire', '  Dixons Carphone', ' Opta', '  Whitbread', '  Reed Business Information', '  Capita IT Resourcing', '  UK Government - Ministry of Defence', '  Goldman Sachs', ' Cornwaliis Elt', '  Selina', '  IHS Markit', '  BCD Travel Corporate', '  One Manchester', '  Bank of America', '  Medivet', ' Lloyds UK', '  Estée Lauder Companies', '  Kaplan International', ' Capital Track', '  Stagecoach Bus', ' CACI Limited', ' Lawrence Harvey', '  Booking com', '  Brighton & Hove City Council', ' Haley Bridge', '  ao com', '  Capita IT Resourcing', '  GSK', '  Ashfield Healthcare', '  Lorien Resourcing', '  IHS Markit', '  Marks & Spencer', '  Société Générale', '  Revolut', ' Linux Recruit', '  Parfums Christian Dior UK', ' SPYSCAPE', ' DRW', '  Trade Distribution Ltd', '  JP Morgan Chase', '  Jefferies & Company  Inc ', '  RB', ' NC Associates', ' Fourthline - Connecting Regulatory Expertise', '  Capita IT Resourcing', '  Amazon UK Services Ltd ', ' Energi People UK', ' Ernest Hathaway Associates', '  Intelliflo', ' Honeycomb Group', '  European Bank for Reconstruction and Development', '  Crowder Consulting', '  NFU Mutual', ' Engine Transformation', ' Supersolid', '  Human Capital Ventures', '  Next PLC', '  Arm', ' Grayce', '  Amazon UK Services Ltd ', ' Meredith Brown Associates', ' Pension Protection Fund (PPF)', ' Soldo', '  Dentons', '  City Health Care Partnership CIC', '  Nomura Holdings  Inc ', ' Zell-Em Group', '  BCD Travel Corporate', '  Amey plc', '  Northumbria Healthcare - NHCT Northumbria Healthca   ', ' HR Solutions - Client', '  Centaur Media PLC', '  YOOX NET-A-PORTER GROUP', '  Rux Burton Associates', '  McKesson', '  Amazon UK Services Ltd ', '  SSE plc', ' D  E  Shaw & Co   L P ', '  Risk Solutions', ' Sharegain', '  ', ' Jupiter Management Consultancy (JMC)', '  Equiniti', '  Ocado Group', ' Simbec Orion', ' EBI AI', '  Saga', '  Santander', ' wa consultants', '  Centrica', '  Turner Fox Recruitment', ' Jupiter Asset Management', '  Informa', '  Anthony Nolan', '  HSBC', '  Gazprom', '  Assystem', '  NBCUniversal', '  Handle Recruitment Ltd', ' Darwin Rhodes', '  Jefferies & Company  Inc ', '  Gregory', '  Close Brothers Group', '  Capita Plc', '  Centrica', '  Ampersand Consulting', '  TUI', '  Intouch Games', '  Legal & General Group Plc ', ' E W', ' NCC Education', '  ', '  Checkatrade', '  Jisc', ' New Appointments Group', '  Vodafone co uk', ' SW Locums', ' Protech Recruitment LTD', '  River Island', '  Taylor & Francis Group', ' Verve Search', ' Click Dealer', '  Lloyds Banking Group', '  Allocate Software', ' Quadrant Building Control', ' Metaskil Limited', ' Lawrence Harvey', '  EMIS', '  Vision', '  Clinical Professionals', '  Barclays', ' ADLIB', '  ', '  Kindred Group', '  Waitrose & Partners', '  The AA', '  Babcock', ' Inside Ideas', '  Sherwin-Williams', '  Harrods', ' Cervello Inc', '  SSE plc', '  Flight Centre (UK) Limited', '  House of Commons UK Parliament', '  Black Sun Plc', ' Billion Dollar Boy', '  NES Global Talent', ' Optimove', '  EMIS', '  S&P Global', '  The Royal Marsden NHS Foundation Trust', ' Ameriprise Financial', '  ', '  Sungard Availability Services', '  JLL', '  Refinitiv', '  Dixons Carphone', ' Metaskil Limited', '  Immediate Media Co', '  Compass Group UK & Ireland', '  Oxford University Hospitals NHS Foundation Trust', ' DeadHappy', ' Wade Macdonald', '  SSE plc', '  Atos', '  Amazon UK Services Ltd ', ' Moneysupermarket Group', '  Amphenol Ltd', '  Inspiring Interns', ' Cedar Recruitment Limited', ' DeadHappy', ' Vector Recruitment Limited', ' PeopleFirst Recruitment', ' Carrington Recruitment Solutions', '  PwC', '  Citi', ' Opta', '  Next PLC', '  McLaren', '  Mid Essex Hospital Services NHS Trust', ' The Haberdashers  Aske s School  Elstree', ' BluGem Communications', ' ￼Tangent', '  RDF Digital', '  SF Group', '  First Derivatives plc', ' Soccer Manager', ' Marshall Wolfe', '  McGregor Boyall', '  Euro Car Parts', '  Landmark Information Group', ' ADLIB', '  Kindred Group', ' Ogilvy UK', '  BDO', ' Technical Team Solutions', ' Logikk Limited', '  Opus Recruitment Solutions', ' Geospatial Insight', ' Bitweave', ' Calmin group', '  Mott MacDonald', '  Mott MacDonald', '  REPLY', ' Moneysupermarket Group', '  Next PLC', '  Facebook', '  Liquidnet', '  Groupe Kering', '  EY', '  Sage', ' DesAcc EMEA Ltd', '  QinetiQ', '  Networkers', '  Opus Recruitment Solutions', ' Capricorn Capital Partners UK', ' causaLens', ' decisionLab Ltd', ' Fable Data Limited', '  Mott MacDonald', ' V Group Limited', '  Groupe Kering', '  REPLY', '  Facebook', '  UK Government - Department for International Trade', '  Crowder Consulting', '  BMW Hams Hall Motoren GmbH', ' We Predict', '  ITV Jobs', ' MediaVision', '  Mansell Recruitment', '  Senitor Associates', '  Covance', '  Opus Recruitment Solutions', '  Vodafone co uk', ' Capricorn Capital Partners UK', ' causaLens', ' decisionLab Ltd', ' Fable Data Limited', '  EY', '  Expedia Group', '  Crowder Consulting', '  University of Oxford', ' Stockport Metropolitan Borough Council', ' Frontier Economics Limited', '  UK Government - National Crime Agency', '  LV=Careers', '  Covance', ' Millennium Consulting', ' Smartlytics Consultancy Limited', '  Opus Recruitment Solutions', '  AXA Insurance UK', '  Surrey County Council', '  PRA Health Sciences', '  IBM', '  EDF Energy Limited', ' Osler Diagnostics', '  The Open University UK', '  AstraZeneca', ' SolarWinds', '  Vodafone co uk', '  Statkraft', '  IQVIA', '  Aviva', '  Arup', '  KANTAR', ' Tessella Ltd', '  AstraZeneca', '  AXA Insurance UK', ' MediaVision', '  Senitor Associates', ' SolarWinds', ' causaLens', '  BBC', ' Agility Resourcing', '  PlayStation', '  Guardian News & Media', '  UK Government - Department for International Trade', '  Expedia Group', '  KANTAR', ' Modis Northern Ireland', ' Tessella', ' Tharsus Data', ' Fable Data Limited', ' MediaVision', '  Covance', '  Opus Recruitment Solutions', '  Vodafone co uk', ' SolarWinds', '  AstraZeneca', ' InstaDeep', ' Signifyd', '  AXA Insurance UK', ' Intergen', '  Arup', '  Statkraft', '  EDF Energy Limited', '  National Physical Laboratory', '  Anglian Water Services Ltd', ' causaLens', ' Fable Data Limited', ' Smartlytics Consultancy Limited', '  Covance', ' Cievert', '  Mott MacDonald', '  Ipsos', '  AXA Insurance UK', '  Dixons Carphone', '  Spotify', '  Financial Conduct Authority', ' Agility Resourcing', ' GoCardless', '  UK Government - Department for International Trade', ' Millennium Consulting', '  Vodafone co uk', ' Lloyds UK', '  Blockchain', '  PlayStation', '  IQVIA', ' Zilliant', '  Randox Laboratories', '  EY', ' Agility Resourcing', '  AXA General Insurance', '  Mango Solutions', ' Smartlytics Consultancy Limited', ' STATSports', ' Modis Northern Ireland', '  World Vision International', '  Lonza', ' Chaser Technologies Limited', '  Satellite Applications Catapult', ' Darwin Rhodes', '  Sparta Global', ' Easysoft Ltd', '  Yelp', ' decisionLab Ltd', ' Wade Macdonald', '  Public Health England', '  AXA General Insurance', '  Statkraft', '  PwC', '  EDF Energy Limited', '  AXA Insurance UK', ' Smartlytics Consultancy Limited', '  Expedia Group', '  PwC', '  Ladbrokes Coral Group', ' White Ops', '  Global Radio', ' Bangura Solutions', '  TUI Group', '  AstraZeneca', ' Farfetch', '  Dyson', '  Lonza', '  UK Government - National Crime Agency', '  UCAS', ' Envelop Risk Analytics', '  Bank of America', '  Guardian News & Media', ' Best Graduates', '  Ascential', '  KANTAR', '  Spotify', '  KANTAR', '  EDF Energy Limited', '  BBC', '  Syngenta', '  AWS EMEA SARL (UK Branch)', ' Millennium Consulting', ' Natter ai', '  AstraZeneca', '  public sector resourcing', '  Amazon UK Services Ltd ', '  Facebook', '  Chronomics', '  Syngenta', '  University of Portsmouth', '  Samsung Electronics', ' Agility Resourcing', ' Mint Selection', '  Pets at Home', ' Tessella', '  Expedia Group', ' LivaNova', '  Tesco Bank', '  Public Health Wales NHS Trust', ' Tandem Bank', ' Darwin Rhodes', '  GSK', '  AXA UK', '  UK Government - National Crime Agency', ' Source Code Personnel', '  Ipsos', '  Booking com', '  Jacobs', '  Pets at Home', '  Global Radio', '  Vida', ' CreditDigital', ' Agility Resourcing', '  PwC', '  Sensient Technologies Corporation', ' STEM Graduates', '  Oscar Technology', '  Oscar Technology', ' Curve', '  AXA General Insurance', '  AXA Insurance UK', '  Bruker', '  IQVIA', ' OXIS Energy', ' IDTechEx Ltd', ' GTS Geotech', '  Amazon UK Services Ltd ', '  Amazon UK Services Ltd ', ' In Diverse Company', '  Financial Conduct Authority', '  QBE', '  Mango Solutions', '  Michael Page UK', ' FXC Intelligence Ltd', '  King', ' Capricorn Capital Partners UK', '  Kainos', '  UK Government - National Crime Agency', '  National Physical Laboratory', '  Virgin Media', ' STATSports', ' Tractable', '  CGG', ' Artefact', '  UK Government - Met Office', ' causaLens', '  Marks & Spencer', '  Bottomline Technologies', ' Understanding Recruitment', '  Facebook', ' BioClavis', '  University Hospitals of Leicester NHS Trust', '  BMW Hams Hall Motoren GmbH', '  Legal & General Group Plc ', '  Diamond Light Source', '  ', ' STATSports', ' Eaglecliff Recruitment', '  Merck KGaA', ' Tractable', '  Public Health Wales NHS Trust', ' Tandem Bank', ' Recruit Staff', ' Millennium Consulting', '  Ipsos', '  BGC Partners', '  GSK', '  AXA UK', '  ', ' UMi', '  IQVIA', ' Darwin Rhodes', '  NHS Digital', '  Facebook', '  Ocado Group', '  Ladbrokes Coral Group', ' GoCardless', '  Opus Recruitment Solutions', ' Cazoo', ' Pirbright', '  Amazon UK Services Ltd ', ' Monzo', '  Macquarie Group Limited', '  BGL Group', ' ctrlio Ltd', ' nPlan', '  Third Republic', '  Veolia', ' Dynamix Recruitment Ltd', ' Logix Resourcing', '  Bruker', '  GSK', '  AXA UK', '  STEM Returners', ' Monzo', ' Improbable', '  Fair Finance', ' Opta', '  Total', ' The Bridge', ' Shell', '  IQVIA', '  Apple', '  Twitter', ' NP Group', '  Mango Solutions', ' The Bridge', ' Abzena', ' Aspire Data Recruitment', ' Farfetch', '  Unitemps', ' NP Group', '  O  Telefonica', ' Rentify Ltd ', ' Attest', '  Ageas', ' Monzo', '  Amazon UK Services Ltd ', ' M&GPrudential', '  Sparta Global', '  BGC Partners', '  Ordnance Survey', '  Syngenta', '  ', '  Amazon UK Services Ltd ', '  Deliveroo', ' Urban Empire Recruitment', '  Amazon Dev Centre(Scotland)Ltd', ' causaLens', '  Revolut', ' LivaNova', ' Parallel Consulting', ' ONE NUCLEUS', '  City University London', ' Evotec', '  XL Catlin', ' Bettor Believe', ' Corrosion RADAR', '  Oscar Technology', '  Sky', ' Fen Associates', '  Capgemini', '  Accenture', '  ', '  Spotify', '  Deliveroo', '  Apple', '  McKinsey & Company', '  Beazley', '  ', '  Informa', '  University of Oxford', '  Citi', '  Third Republic', '  Bentley Systems', ' OpenClassrooms - HR Team', '  Financial Times', ' Wade Macdonald', '  Arup', ' Veriteer', '  Informa', '  Fircroft', ' Abzena', '  Client Server', '  Capital One - UK', '  Ascential', ' Agility Resourcing', '  Smiths Detection', ' Quotient Sciences', '  Tractable', '  Revolut', '  Microsoft', ' Rentify Ltd ', '  King s College London', ' Aspire Data Recruitment', '  Funding Circle UK', ' Churchill Frank', '  ', '  Revolut', '  Schroders', ' onezeero', '  FICO', '  Three', '  Syngenta', '  The Collective', ' nPlan', ' Tankard Recruitment', '  Bio Products Laboratory', '  Evi Technologies Limited', ' Quotient Limited', ' Achilles Therapeutics', '  Deloitte', '  Virgin Atlantic', ' Altius Consulting', ' OXIS Energy', '  Mondelēz International', ' Wade Macdonald', '  BNP Paribas', '  Bloomberg', '  Arup', '  Informa', '  Fircroft', ' SPYSCAPE', '  Smiths Detection', ' AI-Adam', '  Parkdean Resorts', '  University of Liverpool', '  Michael Page UK', ' DataSpartan Consulting', ' SPYSCAPE', ' ICF', '  Citi', ' AI-Adam', '  Kindred Group', '  Parkdean Resorts', '  University of Liverpool', ' Technical Team Solutions', '  Michael Page UK', ' Datatech Analytics', '  G-Research', ' Smither Rapra Ltd', '  Amazon UK Services Ltd ', '  Babylon Health', '  King s College London', '  Vodafone', '  ', ' SolarWinds', '  Barclays', ' Churchill Frank', '  ', '  Lonza', '  ', '  IQVIA', '  ', '  ', ' Lawrence Harvey', '  Cancer Research UK', '  Watford General Hospital', '  Financial Conduct Authority', ' Lawrence Harvey', ' ZenShin Talent', '  Oscar Technology', '  AstraZeneca', ' Genetec', '  Bentley Systems', ' SoulTek', '  Mondelēz International', ' PolyAI', '  Arup', ' Man', '  Babylon Health', '  Nektan', '  HSBC', '  Amazon UK Services Ltd ', '  ', '  Government Communications Headquarters (GCHQ)', '  UCAS', '  Cancer Research UK', '  Arup', '  Expedia Group', '  ', '  BBC', '  AECOM', '  ', ' LumiraDx UK Ltd', ' Parallel Consulting', '  Opus Recruitment Solutions', ' DataSpartan Consulting', ' Abzena', '  Apple', '  Opus Recruitment Solutions', '  Babylon Health', '  Charles River Laboratories', '  Deliveroo', ' MagicLab', '  King s College London', ' Source Code Personnel', ' Cazoo', ' Satellite Applications', '  EPAM Systems', '  London School of Hygiene & Tropical Medicine', '  Fircroft', '  Jacobs', '  Amazon UK Services Ltd ', ' Abzena  Cambridge', ' Marshall Wolfe', '  Imperial College London', '  HSBC', ' Toumetis', ' ADARA  Inc ', '  Babylon Health', '  Charles River Laboratories', '  Deliveroo', '  NHS Digital', ' MagicLab', '  Expedia Group', ' Satellite Applications', '  EPAM Systems', '  Jacobs', '  Amazon UK Services Ltd ', ' Abzena  Cambridge', ' Marshall Wolfe', '  HSBC', '  Arup', ' ADARA  Inc ', '  University of Oxford', '  Sartorius Corporation', ' Evotec', '  University of Sheffield', ' ctrlio Ltd', '  Newcastle University', '  Arup', '  ', '  Michael Page UK', '  Babylon Health', '  Oscar Technology', '  ', '  LexisNexis', '  CGG', '  Public Health Wales NHS Trust', '  University of Oxford', '  BlackRock', '  Deliveroo', ' Simon-Kucher & Partners', '  ', '  Revolut', ' Churchill Frank', ' OXIS Energy', '  ', ' i-nexus', '  ', ' Smartlytics Consultancy Limited', '  Veolia Water Technologies', '  Barclays', ' Pitchup com', ' Solera Nederland', '  ', ' Lawrence Harvey', ' Toumetis', ' SolarWinds', ' Eaglecliff Recruitment', '  AXA UK', '  Covance', '  RB', '  Groupe Kering', '  Mott MacDonald', '  REPLY', '  Next PLC', '  Mott MacDonald', '  Liquidnet', '  UK Government - National Crime Agency', '  Facebook', ' Calmin group', ' Fresenius GRD', '  Northrop Grumman UK', '  AXA UK', '  Opus Recruitment Solutions', ' decisionLab Ltd', ' SolarWinds', ' Smartlytics Consultancy Limited', '  Halfords', ' Fable Data Limited', '  AXA UK', '  King s College London', '  Marks & Spencer', '  King', ' Calmin group', '  Nielsen', ' Wayhome', '  Statkraft', '  Mott MacDonald', '  National Physical Laboratory', '  EDF Energy Limited', '  STFC', '  AXA UK', ' Taraz Metrology Ltd', '  Opus Recruitment Solutions', '  Crowder Consulting', '  Expedia Group', '  KANTAR', '  RDF Digital', '  Beazley', ' Frontier Economics Limited', '  Morgan Stanley', '  Mango Solutions', '  LV=Careers', '  GW Pharmaceuticals', ' Simplified Recruitment', ' Circle Recruitment', ' Capricorn Capital Partners UK', ' causaLens', '  Opus Recruitment Solutions', ' decisionLab Ltd', ' Fable Data Limited', '  Beazley', '  Facebook', ' Dynamix Recruitment Ltd', '  Arup', '  Liquidnet', '  ITV Jobs', '  Yelp', '  Mango Solutions', '  Arup', '  Expedia Group', ' Eaglecliff Recruitment', ' Genetec', '  AXA UK', '  Opus Recruitment Solutions', ' Capricorn Capital Partners UK', '  Vodafone co uk', ' causaLens', ' Fable Data Limited', '  Covance', '  AXA UK', '  Arup', '  IBM', ' Chaser Technologies Limited', '  Crowder Consulting', ' Tessella', '  Aviva', '  Coventry Building Society', '  MSD', '  Michael Page UK', '  Michael Page UK', '  Opus Recruitment Solutions', ' Genetec', ' Technical Team Solutions', ' causaLens', ' Capricorn Capital Partners UK', '  Covance', '  Opus Recruitment Solutions', ' Stockport Metropolitan Borough Council', ' We Predict', '  Mott MacDonald', ' Salt Recruitment', '  McLaren', ' M&GPrudential', '  AstraZeneca', '  Amazon UK Services Ltd ', ' Tandem Bank', '  Thales Group', '  Vodafone co uk', ' Technical Team Solutions', ' Millennium Consulting', '  Covance', '  IQVIA', '  AXA Insurance UK', '  BBC', '  AstraZeneca', '  World Vision International', '  AstraZeneca', '  Guardian News & Media', ' Technical Team Solutions', ' Fresenius GRD', '  Opus Recruitment Solutions', ' SolarWinds', ' InstaDeep', '  RDF Digital', '  Cancer Research UK', '  Arup', '  Expedia Group', '  Lonza', '  University of Portsmouth', ' GoCardless', '  Anglian Water Services Ltd', ' Match Digital', '  Vodafone co uk', '  Vodafone', '  PlayStation', '  UK Government - National Crime Agency', '  AXA UK', '  Financial Conduct Authority', '  Yelp', '  AXA Insurance UK', '  Microsoft', '  Expedia Group', ' Cievert', ' Curve', '  EDF Energy Limited', ' Decision Lab Ltd', '  Tesco Bank', '  Vida', '  Deliveroo', ' Smartlytics Consultancy Limited', ' Millennium Consulting', '  Opus Recruitment Solutions', ' causaLens', '  Arup', '  Dyson', '  Total', '  World Vision International', '  Citi', '  Lonza', ' Lloyds UK', '  Sparta Global', '  Arup', '  Syngenta', ' Smartlytics Consultancy Limited', ' Fable Data Limited', '  Mondelēz International', '  Dixons Carphone', ' Mint Selection', '  Facebook', ' Afiniti', '  Centre for Process Innovation', ' Darwin Rhodes', '  TUI', '  Halfords', '  South East Water', '  Opus Recruitment Solutions', ' Match Digital', '  Halfords', ' Bangura Solutions', '  Nielsen', '  PwC', '  Kainos', '  Sky', ' Fen Associates', ' Agility Resourcing', ' Farfetch', '  Citi', ' Eaglecliff Recruitment', ' Smartlytics Consultancy Limited', ' Intergen', '  University of Oxford', ' Signifyd', ' Noriker Power', '  Capgemini', '  Legal & General Group Plc ', '  Mango Solutions', ' Corrosion RADAR', ' Guru Systems', ' Millennium Consulting', ' Stemnovate Limited', '  Ricardo', ' Zilliant', '  AWS EMEA SARL (UK Branch)', '  EY', ' Modis Northern Ireland', '  Michael Page UK', ' Technical Team Solutions', '  AXA Insurance UK', '  Mango Solutions', ' AI-Adam', '  AXA General Insurance', '  GSK', '  Facebook', '  Northgate Public Services', '  Vida', ' Envelop Risk Analytics', '  Centre for Process Innovation', '  Ocado Group', '  UK Government - National Crime Agency', ' The Virtual Forge', ' Evotec', '  EDF Energy Limited', '  Lonza', '  Ageas', ' PredictX', '  Randox Laboratories', ' Shell', ' Tessella Ltd', '  IQVIA', '  Ipsos', '  Digitas', ' Dynamix Recruitment Ltd', '  Dixons Carphone', '  Virgin Media', '  Argos', ' Echobox', '  South East Water', ' Salt Recruitment', '  PwC', ' IDTechEx Ltd', '  Pets at Home', ' Natter ai', ' Dynamix Recruitment Ltd', '  UK Government - National Crime Agency', '  Facebook', '  William Hill', '  Twitter', '  Randox Laboratories', '  HSBC', ' GTN', '  Digitas', ' Understanding Recruitment', '  SGS', '  GSK', '  Halfords', '  South East Water', ' Agility Resourcing', ' Modis Northern Ireland', ' Datatech Analytics', ' Tandem Bank', '  QBE', '  Babylon Health', ' Aspire Data Recruitment', '  AXA General Insurance', '  Nationwide Building Society', ' Shell', '  QBE', '  Babylon Health', ' Aspire Data Recruitment', '  AXA General Insurance', '  Nationwide Building Society', ' Inbeeo', '  Ascential', ' Urban Empire Recruitment', '  ', ' Millennium Consulting', ' White Ops', ' Logix Resourcing', ' Opta', ' Medopad', '  Digitas', '  Micro Focus', ' Rentify Ltd ', '  Sainsburys', '  BBC', '  Oscar Technology', '  Oscar Technology', '  Revolut', ' GTN', ' Agility Resourcing', '  BBC', '  Zenith', ' Opta', '  Mango Solutions', '  Public Health Wales NHS Trust', '  PwC', ' Curve', ' Envato (international   other job posts)', '  EDF Energy Limited', ' Monzo', '  Expedia Group', '  Procter and Gamble', ' GTS Geotech', '  South East Water', '  Deliveroo', '  Kainos', '  Unitemps', '  BlackRock', ' Closer', ' Stemnovate Limited', '  Deliveroo', ' Camlin Group', '  Vodafone co uk', '  Oscar Technology', '  AIG', ' Churchill Frank', ' Parallel Consulting', '  Google', ' Harrison Holgate', '  Notonthehighstreet com', '  ', ' Wade Macdonald', '  Opus Recruitment Solutions', '  Oscar Technology', '  BBC', '  CGG', ' Wade Macdonald', '  ', ' Churchill Frank', '  Abcam', ' RecruitmentRevolution com', ' CDT', ' wa consultants', '  Opus Recruitment Solutions', '  Opus Recruitment Solutions', '  UCAS', ' Toumetis', ' Horizon Search & Selection Ltd', '  Bank of America', '  Financial Times', '  Oxford Biomedica', '  Babylon Health', '  IG Group', ' Solera Nederland', '  ', '  ', ' Blue Pelican', ' NP Group', ' Man', ' Boyce Recruitment', '  Opus Recruitment Solutions', '  Jacobs', '  Sartorius Corporation', '  Lonza', ' ONE NUCLEUS', ' SoulTek', '  British Airways', '  Oscar Technology', '  Booking com', '  Microsoft', ' Bumble', ' DataSpartan Consulting', '  Third Republic', '  Oscar Technology', ' Source Code Personnel', '  ', ' Datatech Analytics', '  ', '  ', '  PERFORM Group', '  Microsoft', ' net-recruit', '  Ipsos', '  Facebook', '  ', ' nPlan', ' DCL Search and Selection', '  GCS Recruitment Specialists Ltd', ' Imogen Moody', '  ', '  Pattonair', '  Fircroft', '  Deloitte', '  Sartorius Corporation', ' Meso Scale Diagnostics', '  Michael Page UK', '  ', '  Blockchain', '  Spectra Analytics', '  Greater London Authority', ' Harrison Holgate', '  Mars', '  Opus Recruitment Solutions', '  Clinical Professionals', ' ATASS Sports', '  University of Oxford', '  ', ' Pharma Scientifix', '  Willis Towers Watson', '  ', '  ', ' causaLens', ' Found', ' Amadeus Software Ltd', '  UBS', '  Marsh & McLennan Companies  Inc ', ' Horizon Search & Selection Ltd', '  Financial Times', ' Quacquarelli Symonds', '  Oxford Biomedica', '  Deloitte', '  Sartorius Corporation', '  Michael Page UK', '  ', '  Blockchain', '  Spectra Analytics', '  Advanced', ' Emotech', ' Smarkets', '  XL Catlin', '  University of Oxford', '  Pall Danaher', '  Apple', '  Covance', '  UK Government - Defence Science and Technology Lab   ', ' ADARA  Inc ', '  Evi Technologies Limited', '  Bio Products Laboratory', '  Badoo', '  Sartorius Stedim Biotech', '  ', 'Nothing_found', '  Ministry of Justice', '  Jacobs', '  AWE', '  Opus Recruitment Solutions', '  Apple', '  Opus Recruitment Solutions', '  Opus Recruitment Solutions', '  Greater London Authority', ' Smarkets', '  AXA UK', '  ', '  Public Health England', '  ', '  Willis Towers Watson', '  Morgan McKinley', '  Arup', ' A  People', ' Altius Consulting', ' Quotient Limited', ' CDT', '  Charles River Laboratories', '  Abcam', '  Mansell Recruitment Group PLC', '  ', '  ', '  Client Server', '  ', ' Ultimate Asset', '  Financial Conduct Authority', '  Covance', '  University of Strathclyde', '  PwC', '  PwC', ' SWIFT', ' Vector Recruitment Limited', '  St  George s University of London', '  British Airways', '  ', '  BlackRock', '  ', ' Quotient Limited', '  Facebook', ' RecruitmentRevolution com', '  Asos com', '  PayPal', ' Emotech', ' Growth Intelligence', '  Opus Recruitment Solutions', ' Agility Resourcing', '  ', ' AI-Adam', ' Fresh Recruits', '  UK Government - Defence Science and Technology Lab   ', ' Star Actuarial Futures', '  Notonthehighstreet com', '  ', ' Burns Sheehan', '  AstraZeneca', '  ', '  ', '  Arup', '  ', '  Opus Recruitment Solutions', '  DXC', '  Redx Pharma', '  GSK', '  AstraZeneca', '  ', '  Sainsburys', ' ZenShin Talent', '  Arup', ' European Molecular Biology Laboratory', '  Samsung Electronics', '  ', ' Lawrence Harvey', ' Emotech', '  Met Office', '  ', '  Bio Products Laboratory', '  Google', '  ', ' ZenShin Talent', '  Opus Recruitment Solutions', ' Nucleome Therapeutics Ltd', '  Microsoft', '  Opus Recruitment Solutions', '  Chronomics', '  Deliveroo', '  AIG', '  Horizon Discovery', ' Smarkets', ' Linux Recruit', '  ', '  Deliveroo', ' Lawrence Harvey', '  Evi Technologies Limited', '  UCB', '  ', '  Wellcome Trust Sanger Institute', '  BBC', '  Opus Recruitment Solutions', '  ', '  Agilent Technologies  Inc ', '  ', '  Microsoft', '  Amazon UK Services Ltd ', '  Apple', '  Pfizer', '  ', '  Source BioScience', '  ', '  Met Office', ' Datatech Analytics', '  Robert Walters', '  Amazon UK Services Ltd ', ' MediaVision', '  ', '  ', '  ', ' RecruitmentRevolution com', ' Quintex Consulting', '  ', ' Aspire Data Recruitment', ' Northpoint Recruitment', ' Darwin Rhodes', '  ', '  AstraZeneca', '  John Innes Centre', ' Fieldwork Robotics Ltd', '  King s College London', ' Aspire Data Recruitment', '  IHS Markit', ' Eames Consulting', ' Aspire Data Recruitment', '  ', ' Lawrence Harvey', '  ', ' Aspire Data Recruitment', ' Flexciton', '  Babylon Health', '  Lonza', '  Arm', ' Datatech Analytics', ' Smartodds', '  ', '  Morson International', '  London School of Hygiene & Tropical Medicine', '  Facebook', '  TUI', ' Wade Macdonald', '  Tesco Underwriting', '  Nestle', '  Oscar Technology', ' Chip s  Board', '  KANTAR', '  PwC', '  ', '  IHS Markit', '  ', '  ', ' Eames Consulting', '  Sei', ' Smartlytics Consultancy Limited', '  Citi', ' Solera Nederland', '  University of Edinburgh', '  Merck KGaA', '  Syneos Health Commercial Solutions', ' Riverbright Recruitment', ' Digital Gurus', ' ADARA  Inc ', '  Transport for London', '  University of Sheffield', '  University of Bedfordshire', '  Cancer Research UK', '  Emerald Group', ' The Trade Desk', ' Aspire Data Recruitment', ' Genestack Ltd', '  Notonthehighstreet com', '  RSPB', '  Radius Payment Solutions', '  Jacobs', '  Facebook', '  STFC', '  Bottomline Technologies', ' Bumble', ' Chip s  Board', ' Thomas Search', '  Hydrogen Group', ' Oxford Nanopore Technologies', '  Middlesex University London', '  Revolut', '  ', ' OpenClassrooms - Mentorship Team', '  Marsh & McLennan Companies  Inc ', '  Jacobs', ' Decibel', '  University of Oxford', ' Smartlytics Consultancy Limited', '  Redline Group', '  TUI', '  DXC', ' Vector Recruitment Limited', '  CBRE', '  Microsoft', ' ONI', '  ', '  University of Cambridge', '  LGC Limited', '  ', ' Datatech Analytics', '  ', '  Roche', ' Datatech Analytics', ' Churchill Frank', ' ONI', ' Lawrence Harvey', '  Welsh Water', '  Opus Recruitment Solutions', '  Morgan McKinley', '  Opus Recruitment Solutions', '  ', '  Opus Recruitment Solutions', '  Le Boat', ' Engage Transform Consultancy Ltd', ' Growth Intelligence', '  PA Consulting Group', ' SmartKem Ltd', ' Datatech Analytics', '  Seagate Technology', '  University of Glasgow', '  St  George s University of London', ' Blue Prism Limited', '  IQVIA', '  Deliveroo', ' OpenClassrooms - Mentorship Team', '  Covance', '  Imperial College London', ' Altius Consulting', '  Lonza', '  AWE', ' Tandem Bank', ' Leyton UK Limited', ' OMass Therapeutics', ' Starcom', '  Arm', '  Oscar Technology', '  Deloitte', '  ', ' RecruitmentRevolution com', ' Tempus Jobsline Ltd', '  ', '  ', '  ', '  ', '  ', ' Woolf Group', '  City University London', ' Metrica Recruitment', '  University of Oxford', '  ', '  ', '  UK Government - Office for National Statistics', '  ', '  Met Office', '  Franklin Bates', '  BBC', ' Mogrify Ltd', ' Datatech Analytics', ' OpenClassrooms - Mentorship Team', ' Talent Source', ' Datatech Analytics', '  Apple', '  Covance', ' Darwin Rhodes', ' Turing Intelligence Technology', '  PwC', '  Norfolk and Norwich University Hospitals NHS Found   ', '  AstraZeneca', ' Russam', ' Metrica Recruitment', '  BT', '  GHD', '  UBS', ' Quantcast', ' Impulse Innovations Limited', ' UK Government - Government Statistical Service', '  IQVIA', '  Macquarie Group Limited', ' Northpoint Recruitment', '  The University of Manchester', '  BNY Mellon', '  Imperial College London', ' PROWLER io', '  La Fosse Associates', ' ONI', '  ', '  RSK', '  HSBC', '  Facebook', ' Lawrence Harvey', '  CK Group', ' Datatech Analytics', '  Spectra Analytics', '  Cambridge University Hospitals NHS Foundation Trus   ', '  IQVIA', '  CGG', ' Quotient Sciences', ' Roke', '  AXA UK', ' SmartKem Ltd', '  RB', '  Mott MacDonald', '  King s College London', '  Facebook', '  Graduate Recruitment Bureau', '  QA Apprenticeships', '  Setfords Solicitors', '  Networkers', ' Fable Data Limited', ' MediaVision', '  PerkinElmer', '  EY', ' Stockport Metropolitan Borough Council', '  Crowder Consulting', '  Expedia Group', '  King', '  ITV Jobs', '  Tesco Bank', '  Charles River Laboratories', '  Nielsen', ' Wayhome', '  National Physical Laboratory', '  Mango Solutions', '  Spotify', ' Moneysupermarket Group', '  Vodafone co uk', ' Wayhome', '  LV=Careers', '  Syneos Health Commercial Solutions', '  Beazley', '  PlayStation', '  Statkraft', ' Cievert', '  Surrey County Council', ' Medialab', '  Northrop Grumman UK', '  Opus Recruitment Solutions', ' Metrica Recruitment', '  Networkers', '  Public Health England', '  REPLY', ' V Group Limited', ' University of the West Scotland', '  IQVIA', '  AstraZeneca', ' Tharsus Data', '  Expedia Group', ' Fable Data Limited', '  Vodafone co uk', ' MediaVision', '  Vodafone co uk', '  IQVIA', '  Next PLC', ' Tharsus Data', '  Public Health England', '  The Open University UK', '  Coventry Building Society', '  Vodafone co uk', ' Fable Data Limited', ' Chaser Technologies Limited', ' GoCardless', '  AstraZeneca', '  UK Government - Department for International Trade', '  Blockchain', '  First Derivatives plc', '  AXA General Insurance', ' Millennium Consulting', '  Deliveroo', '  McLaren', '  Arup', '  Guardian News & Media', '  Jacobs', '  Next PLC', '  Deliveroo', '  King', ' Farfetch', ' InstaDeep', '  Coventry Building Society', ' Lloyds UK', '  University of Portsmouth', '  Syngenta', '  Sparta Global', '  Dyson', ' Noriker Power', '  Tesco Bank', '  IQVIA', '  TUI', '  Cancer Research UK', '  CGG', '  Oscar Technology', '  Lonza', ' Medialab', '  CGG', '  McLaren', '  Oscar Technology', ' Medialab', ' Attest', ' Zarathustra Technologies Ltd ', '  HSBC', '  Microsoft', '  UK Government - National Crime Agency', '  Syngenta', ' Mint Selection', '  Samsung Electronics', '  EDF Energy Limited', '  Dixons Carphone', ' Stemnovate Limited', '  AXA General Insurance', '  Pets at Home', '  Samsung Electronics', '  Global Radio', '  Tesco Bank', '  BBC', ' Fable Data Limited', '  PwC', '  Ipsos', ' CreditDigital', ' Farfetch', '  GSK', '  Booking com', '  Chronomics', ' MediaVision', '  Imperial Brands', ' Osler Diagnostics', '  PwC', '  SSE plc', ' Envelop Risk Analytics', '  SSE plc', '  SSE plc', '  CGG', ' Natter ai', '  Ascential', ' Fen Associates', ' Dynamix Recruitment Ltd', ' AI-Adam', ' AI-Adam', '  AXA General Insurance', '  HSBC', '  Facebook', '  McLaren', ' Oho Group', '  IQVIA', '  AstraZeneca', '  Digitas', '  Dixons Carphone', ' Echobox', '  AXA Insurance UK', '  Merck KGaA', '  Digitas', ' Curve', ' Oho Group', '  Virgin Media', ' SoulTek', ' IDTechEx Ltd', ' Monzo', '  KANTAR', '  Nationwide Building Society', ' Eaglecliff Recruitment', '  NHS Digital', ' Tractable', '  Microsoft', '  Arup', ' Luca Faloni', ' Monzo', '  BMW Hams Hall Motoren GmbH', '  GSK', '  Virgin Atlantic', '  Ministry of Justice', ' Monzo', '  Shop Direct', '  Schroders', ' GTS Geotech', '  Zenith', '  Jacobs', ' Shell', '  PwC', '  Facebook', '  William Hill', '  ', ' Red Sift', ' causaLens', '  UK Government - National Crime Agency', '  AstraZeneca', '  EDF Energy Limited', '  Revolut', ' Kalido', '  Legal & General Group Plc ', '  Ageas', '  Ladbrokes Coral Group', '  Revolut', '  AstraZeneca', '  SGS', '  AstraZeneca', '  Diamond Light Source', '  University of Dundee', '  Opus Recruitment Solutions', '  O  Telefonica', '  ', ' The Virtual Forge', ' Understanding Recruitment', '  PRA Health Sciences', '  Mango Solutions', '  University of Bath', ' PredictX', '  GSK', '  Macquarie Group Limited', '  Public Health Wales NHS Trust', ' Corrosion RADAR', '  Ladbrokes Coral Group', ' STEM Graduates', ' Abzena', ' Prometic Bioseparations Ltd', '  AstraZeneca', ' Tractable', '  ', '  AXA UK', '  BNP Paribas', '  ', '  UK Government - National Crime Agency', '  Kainos', '  King', '  ', ' Osler Diagnostics', ' Lawrence Harvey', '  Mondelēz International', ' Aspire Data Recruitment', '  Accenture', '  McKesson', '  NHS Digital', ' Monzo', '  UCAS', '  Illumina', '  ', '  Financial Conduct Authority', '  Mondelēz International', ' AI-Adam', ' Improbable', ' Monzo', ' Winton Group', '  Micro Focus', '  ', ' ctrlio Ltd', ' STATSports', '  Bruker', ' Aspire Data Recruitment', '  Opus Recruitment Solutions', '  Deliveroo', ' Parallel Consulting', ' The Bridge', '  FICO', '  Abcam', '  Bio Products Laboratory', '  TabCorp Holdings', ' Improbable', ' Genedata', ' AI-Adam', '  ', '  John Innes Centre', '  Opus Recruitment Solutions', ' Callsign', ' Camlin Group', ' OXIS Energy', '  Capgemini', '  Graduate Recruitment Bureau', '  Accenture', '  IQVIA', '  BGC Partners', '  Amazon UK Services Ltd ', '  Amazon UK Services Ltd ', '  Amazon UK Services Ltd ', ' Parallel Consulting', '  UCAS', ' Lawrence Harvey', '  Public Health England', ' Achilles Therapeutics', '  Thermo Fisher Scientific', ' Cleo AI', '  Opus Recruitment Solutions', '  Funding Circle UK', ' AI-Adam', ' Prometic Bioseparations Ltd', '  ', '  Informa', '  ', '  Opus Recruitment Solutions', ' Blink Health', '  Apple', '  Deliveroo', '  City University London', '  Third Republic', '  ', ' Quotient Limited', '  STEM Returners', '  Mondelēz International', ' onezeero', ' Datatech Analytics', ' Datatech Analytics', ' causaLens', ' Echobox', '  Opus Recruitment Solutions', '  Stantec', '  Charles River Laboratories', '  London School of Hygiene & Tropical Medicine', '  Roche', '  Deliveroo', ' UMi', '  Broughton Laboratories', '  AstraZeneca', '  ', ' The Green Recruitment Company', '  Revolut', '  ', '  GSK', ' LoopMe', ' Abzena', ' Monzo', '  Michael Page UK', '  EPAM Systems', '  Evi Technologies Limited', '  AXA Insurance UK', '  TUI', '  Revolut', ' onezeero', ' Parallel Consulting', '  Badoo', '  Opus Recruitment Solutions', ' causaLens', ' Zazu Digital', '  Twitter', '  Mindshare Worldwide', '  Citi', ' Fuse Science Recruitment', '  O  Telefonica', ' Parallel Consulting', '  GSK', '  KANTAR', '  Autodesk', '  Springer Nature', '  Deliveroo', '  Apple', '  Funding Circle UK', '  Capgemini', ' Farfetch', ' Metrica Recruitment', '  Smiths Detection', '  Lonza', '  ', ' Datatech Analytics', '  AXA General Insurance', '  TUI', '  Diamond Light Source Ltd', ' Monzo', '  Sartorius Corporation', ' Solera Nederland', '  EMIS', '  ', '  Arup', ' OpenClassrooms - Mentorship Team', '  BNY Mellon', '  Apple', '  Schroders', '  ', '  PCI Pharma Services', ' Best Graduates', '  The Collective', '  ', ' Winton Group', ' Datatech Analytics', ' The Virtual Forge', '  Amazon UK Services Ltd ', '  iZettle', ' Marshall Wolfe', '  BP', '  UK Government - Office for National Statistics', ' Wade Macdonald', '  Microsoft', '  Johnson & Johnson Family of Companies', ' QTG Consulting', '  ', ' Yodlee', '  BNY Mellon', '  Nestle', '  Fircroft', ' STATSports', '  Facebook', '  Deliveroo', '  Opus Recruitment Solutions', '  Merck KGaA', '  Mars', '  Dyson', '  Microsoft', '  Abcam', '  Deliveroo', '  UK Government - Defence Science and Technology Lab   ', ' Crypton Partner Management', '  Redx Pharma', '  Revolut', '  Risk Solutions', '  Opus Recruitment Solutions', ' ONI', '  Nestle', '  AWS EMEA SARL (UK Branch)', '  Opus Recruitment Solutions', '  ', '  Reed Business Information', '  British Airways', '  Google', '  UCAS', '  The University of Manchester', '  XL Catlin', ' Toumetis', ' HealthyHealth', '  Opus Recruitment Solutions', ' Zühlke', '  Microsoft', '  Oscar Technology', '  BP', '  Risk Solutions', '  Bloomberg', '  Royal Society of Chemistry', '  Bloomberg', ' OnTalento Ltd', '  National Citizen Service Trust', '  British Airways', '  Kirklees Council', '  British Airways', '  TUI', '  Accenture', '  Tesco', '  The Walt Disney Company (Corporate)', '  Michael Page UK', '  Wavemaker', '  Rank Group', '  QVC', ' Modus Property', ' Momentum Design Lab', '  Taylor & Francis Group', '  Metropolitan Police', ' Brand Ignite', '  Knight Frank', '  Bloomberg', '  Riverside', '  NHS Scotland', '  Imperial College London', ' iTechmedia', '  Energy Saving Trust', '  Facebook', '  Discovery Communications  LLC', '  ST CENTRAL', ' Thatcham Research', ' Westland Horticulture Ltd', ' Tradeweb', '  Sage', '  Bloomberg', '  Metropolitan Police', ' Brand Ignite', '  Capital One', '  Knight Frank', '  Booking com', '  Southern Water', '  Capital One - UK', '  IBM', '  British Transport Police', '  HM Revenue and Customs', '  ', '  Refinitiv', '  Hertz Europe', '  Facebook', ' Lagom Strategy', '  QVC', '  Vodafone co uk', '  Concentrix', '  ', '  Peabody', '  Facebook', '  Expedia Group', '  Michael Kors', '  KANTAR', '  Bloomberg', ' Cyber Tech Company', ' Thatcham Research', '  Metropolitan Police', '  Bloomberg', '  Facebook', '  PwC', '  ', ' Barclay Meade', '  Openreach', '  University of Warwick', '  Ocado Group', ' Silverdrum', '  Facebook', '  IQVIA', '  Bloomberg', ' Thatcham Research', '  Metropolitan Police', '  Bloomberg', '  Capital One', ' Lawrence Harvey', '  Trainline', '  Facebook', '  Sky', ' Logix Resourcing', '  Ocado', ' Barclay Meade', '  ', '  Marks & Spencer', '  ', ' EarthSense', '  Sage', ' Thatcham Research', '  Sage', ' Mezzo Labs', ' Pro Sourcing Group', '  Deloitte', '  The Open University UK', ' Engage Transform Consultancy Ltd', ' Lawrence Harvey', '  Cambridge University Press', ' MediaCom', '  Trainline', '  Concentrix', ' Thatcham Research', '  Brighton & Hove City Council', '  London Borough of Enfield', '  Argus Media', '  Mothercare', '  Asos com', ' The Royal Borough of Kingston upon Thames', ' DeadHappy', '  Seren', '  OC&C Strategy Consultants', '  Kier Group', '  TSB Banking', '  L Oreal', '  Croud', '  Dentsu Aegis Network', '  ', ' MVF CAREERS', '  Sky', '  Roche', '  Studio Retail Ltd', ' Clearpath Consultancy', ' Mezzo Labs', '  EY', ' Brand Consultancy', '  Boots', '   Search', ' Cardlytics', '  L E K  Consulting', '  Sage', '  Bloomberg', '  Procter and Gamble', ' Realex Payments', '  Close Brothers Group', '  KPMG', '  Kindred Group', ' Williams - F ', '  Burberry', ' Cimpress Vistaprint', '  BT', '  Concentrix', ' Thatcham Research', '  Equinor UK Limited', '  PlayStation', ' Medallia  Inc ', '  Diageo', ' Lyle & Scott Ltd', '  IQVIA', ' iTechmedia', '  N Brown', '  Wells Fargo', ' Three Whiskey', '  BT', ' Chemistree', '  TSB Banking', '  Experian', '  KPMG', '  Diageo', '  Deloitte', '  Bloomberg', ' Brand Ignite', '  Dentsu Aegis Network', '  Informa', '  River Island', '  Accenture', '  KANTAR', '  PA Consulting Group', ' Contractsonline Ltd', '  Concentrix', '  Capital One - UK', '  PwC', '  TSB Banking', ' kdr Recruitment', '  IQVIA', '  TUI', '  Ocado Group', '  Wells Fargo', '  IHS Markit', '  Freshfields Bruckhaus Deringer LLP', '  EY', '  University of Nottingham', '  GSK', ' Hill Knowlton Strategies', '  Tesco', '  Swinton Group', ' Medallia  Inc ', ' Lawrence Harvey', '  Sparta Global', '  Ralph Lauren', '  Capgemini', '  Informa', '  Asos com', '  Spotify', '  Deutsche Bank', '  Refinitiv', '  Michael Page UK', '  Britvic Soft Drinks Ltd', '  Ocado Group', '  The Candidate', ' La Mer', '  Global Blue', '  American Express Global Business Travel', '  ', '  McLaren', ' English Cricket Board', '  BDO', ' Hokodo', '  Mondelēz International', '  Deloitte', '  TUI', '  Virgin Atlantic', ' EMR Marketing Recruitment', '  Global Blue', ' MarkJames Search', ' Accelerate Bristol', ' Remitly', '  Abellio UK', '  PwC', ' Metrica Recruitment', ' Mezzo Labs', '  ', ' CPP Investment Board', '  EY', '  IQVIA', '  EY', '  GfK', '  Fitch Ratings', '  Guardian News & Media', '  Equinor UK Limited', '  River Island', '  Gymshark', ' Stockport Metropolitan Borough Council', '  ', '  ', '  Refinitiv', ' Starcom', ' Almarose', '  WorkingforEssex com', '  EY', ' Source', '  Amazon UK Services Ltd ', ' Metric Gaming', '  Close Brothers Group', '  Citi', ' Realex Payments', '  UK Government - Ministry of Defence', '  Havas', '  Marsh & McLennan Companies  Inc ', '  Accenture', '  OC&C Strategy Consultants', '  The Candidate', '  Boots', '  Sparta Global', ' AlphaSights Ltd ', '  Corecom Consulting', '  University of Bath', ' Starcom', '  Sparta Global', '  Deutsche Bank', ' EXOS', '  AKQA', ' Graham & Brown', '  Wood Mackenzie', '  Kindred Group', ' Brand Ignite', '  Knight Frank', '  NHS Digital', '  Arcadia Group', '  Facebook', '  EY', '  Checkatrade', '  Simply Business', '  Moody s Investors Service', ' Accelerate Bristol', ' PCR Digital', '  Bloomberg', '  Concentrix', ' Thatcham Research', '  Amazon UK Services Ltd ', ' Lyle & Scott', '  Astellas', ' Source', ' C Space', '  S&P Global', ' Cimpress Vistaprint', '  Nestle', ' Parallel Consulting', '  Gambling Commission', '  NHS Digital', '  GatenbySanderson', ' Draper & Dash', '  Deliveroo', ' MediaCom', '  Facebook', ' Hallam', '  WorkingforEssex com', '  Capgemini', '  Amazon UK Services Ltd ', ' ZX Ventures', '  A S  Watson Group', '  Whitbread', '  Boots', '  The Candidate', '  Trainline', ' Engage Transform Consultancy Ltd', '  EY', ' Oakwell Hampton', '  ', '  Accenture', ' Carter Associates', '  Burberry', ' PCR Digital', '  Marsh & McLennan Companies  Inc ', '  Mott MacDonald', '  Aviva', ' Lawrence Harvey', '  HM Revenue and Customs', '  Capgemini', '  PwC', '  University of Leeds', '  Anglian Home Improvements', '  Boots', '  Endsleigh Insurance Services Limited', ' Draper & Dash', '  Wells Fargo', '  IQVIA', '  Legal & General Group Plc ', '  Bupa', '  AstraZeneca', '  GfK', '  Unilever', '  InterContinental Hotels Group', '  UK Government - Department for International Trade', '  Cosine UK', '  Sky', '  Holland & Barrett', ' Trimble Inc ', '  NHS Digital', '  f ', '  EDF Energy Limited', '  Arm', '  First Central', '  Harrods', ' Cyber Tech Company', ' The Tribe Group', '  Boots', '  Kindred Group', '  Sky', '  Inmarsat', '  BT', '  Deloitte', '  Tesco', '  Capgemini', ' Farfetch', ' Stylus Media Group', '  Gartner', '  Nestle', ' Brand Ignite', ' Accelerate Bristol', '  Clinical Professionals', '  Wood Mackenzie', '  Orion Group', '  ', '  Moody s Investors Service', '  Ocado', '  ', '  IQVIA', '  ', '  Concentrix', '  NHS Digital', '  BT', '  Venturi', '  ', ' Sumner & Scott', '  Funding Circle UK', '  Tesco', ' IMMO Investment Technologies', ' Ultimate Asset', '  ', '  The Stars Group', '  River Island', ' Lawrence Harvey', '  ', '  Concentrix', '  Aon', '  esure Services Limited', '  Avios Group', '  Aviva', '  Schroders', '  Debenhams Head Office', ' Madano', '  tombola', ' Metaview', '  Deloitte', '  Babylon Health', ' AlphaSights Ltd ', '  Publicis Sapient', '  Mediaworks', '  MasterCard', '  Babylon Health', '  KPMG', '  Concentrix', '  Deloitte', ' Source', '  Concentrix', '  BGL Group', '  ', '  Deloitte', ' Chemistree', ' Talie Prowse Ltd', '  FTI Consulting  Inc ', ' Turnitin  LLC', ' IRI UK', '  Aldermore', '  GSK', '  IQVIA', '  Deloitte', '  Mitie', '  Financial Times', '  Lorien Resourcing', '  The Coca-Cola Company', '  PlayStation', '  Advanced', '  Harrods', ' Attest', '  News UK', ' Livescore', '  Facebook', '  Mondelēz International', '  Accenture', '  First Central', '  KPMG', '  PwC', ' Datatech Analytics', ' Fair Recruitment', ' Two Sigma Investments  LLC ', '  ', ' Fixter Ltd', '  ', '  KANTAR', ' In   Consult', '  A S  Watson Group', '  PwC', '  ', '  Seren', ' Tenzo', '  First Central', ' Lawrence Harvey', ' Neuberger Berman', ' DQNA', '  Deutsche Bank', '  NHS Digital', '  Lloyds Banking Group', ' Calmin group', '  ', '  f ', ' Zeelo', '  Amazon UK Services Ltd ', '  ', '  ', '  ', '  Mindshare Worldwide', ' Customer Management Resourcing', ' That Lot', '  Wood Mackenzie', '  Atos', '  ', '  S&P Global', ' ZX Ventures', '  Concentrix', '  N Brown', '  BGL Group', '  BlackRock', '  BT', '  Deloitte', '  ASDA', '  BT', '  Jefferies & Company  Inc ', '  Deloitte', '  Croud', ' MBN Solutions', '  Dentsu Aegis Network', '  Hargreaves Lansdown', '  Michael Page UK', '  Connect Health', '  IQVIA', '  Aon', '  BT', '  ', '  InterContinental Hotels Group', '  ', '  Simply Business', '  Wood Mackenzie', '  Flannels Fashion', ' Sainoo', ' Freshminds Talent', '  Atos', '  ', '  EY', '  Informa', '  Arup', '  Deloitte', ' EBI AI', '  Microsoft', '  Legal & General Group Plc ', '  Boots', '  PwC', '  Deloitte', '  ', '  Sainsburys', '  ', '  ', '  IQVIA', '  Anglian Home Improvements', '  Lloyds Banking Group', ' Farfetch', '  BT', ' AESOP Corporate', ' Yodlee', '  Havas', '  Deloitte', ' Turnitin  LLC', ' Douglas Jackson', ' Neuberger Berman', ' Frugi', '  HSBC', '  Pennine Care NHS Foundation Trust', '  PwC', '  EY', '  Wood Mackenzie', '  Marsh & McLennan Companies  Inc ', ' Butler Rose Ltd', '  Sky', '  Marsh & McLennan Companies  Inc ', ' Excel LEC Limited', ' MaxAd', '  tombola', '  Ericsson', ' EBI AI', ' Cabot Financial (Europe) Limited', '  Jet  com and Jet holidays', '  Deloitte', '  ', ' UK Government - MI ', '  ZS Associates', '  Holland & Barrett', ' Thatcham Research', '  Concentrix', '  IQVIA', ' Station  ', '  OTA Insight', '  Norfolk County Council', ' Parallel Consulting', '  Spotify', '  KANTAR', '  Barclays', ' Jamie Oliver Restaurant Group', '  HM Revenue and Customs', '  Mindshare Worldwide', '  REPLY', '  Scania', '  IQVIA', '  ', '  PA Consulting', ' Profitero', '  AllSaints', '  S&P Global', '  Deloitte', '  ', '  IQVIA', '  Marsh & McLennan Companies  Inc ', '  Deloitte', '  Public Sector Resourcing', '  Aimia', '  Flight Directors', ' Brand Ignite', '  Concentrix', ' Thatcham Research', ' Talie Prowse Ltd', '  Simply Business', '  Endsleigh Insurance Services Limited', '  Procter and Gamble', '  Bupa', '  PwC', ' Merkle One', ' Aberdeen', ' Parmenion', ' Walt Disney Direct-to-Consumer and International', '  Knight Frank', ' Datatech Analytics', ' Customer Management Resourcing', '  ', '  EY', '  Claire s', '  Mattel', '  Jagex', ' Lloyds UK', '  Spotify', '  UK Government - Department for Work and Pensions', '  KPMG', '  Wickes', ' Rockstar London', '  Concentrix', ' Thatcham Research', '  The Range', '  Whitbread', '  ', '  Euromoney Institutional Investor', '  ST CENTRAL', ' Chemistree', '  Salesforce', '  PwC', '  Gartner', '  Amazon Digital UK Limited', '  Hachette UK', ' Lawrence Harvey', '  Nektan', '  Capgemini', '  Deutsche Bank', '  Equinix', ' Ishka Limited', '  A S  Watson Group', '  ', '  Anglia Ruskin University', '  Microsoft', '  Aon', '  S&P Global', '  ASDA', ' Parallel Consulting', '  KANTAR', '  ', ' Datatech Analytics', ' Graham & Brown', '  Informa', ' Royal Society of Wildlife Trusts', '  KPMG', '  British Airways', '  Spotify', '  PwC', ' CACI Limited', '  ', '  ', ' Fresh Recruits', ' Moneysupermarket Group', '  ', ' AESOP Corporate', '  Deloitte', '  DLA Piper', ' Freshminds Talent', '  Poly', ' Datatech Analytics', '  ', '  Babcock', ' Jamie Oliver Restaurant Group', ' Datatech Analytics', '  Wilmington PLC', '  Wilmington PLC', '  PwC', ' MBN Solutions', '  AstraZeneca', ' Profitero', '  Guardian News & Media', '  Procter and Gamble', '  Wood Mackenzie', '  ', '  Deloitte', '  CBRE', ' TalentPool', ' Respect Consulting Group', '  ', ' Guru Systems', ' Farfetch', '  Arm', '  Wilmington PLC', ' Luno', '  S&P Global', '  KPMG', ' Datatech Analytics', '  Abcam', ' Engine Transformation', ' Fresh Recruits', '  Paddy Power Betfair', '  Barclays', ' V Group Limited', '  PwC', ' Afiniti', '  Lubrizol Corporation', '  AKQA', '  SAP', '   Search', '  ', '  ', '  Unilever', '  AXA General Insurance', '  University of Birmingham', '  EY', '  ', '  Boehringer Ingelheim', ' IRI UK', '  American Express', '  EY', '  ', ' Barbour (J Barbour & Sons Ltd)', ' Datatech Analytics', '  Sky', '  McKinsey & Company', '  ', '  Deloitte', '  Visa', '  Morgan Stanley', '  easyJet', '  Gallagher', '  PepsiCo', '  Accenture', '  Google', ' General Mills - Europe Australasia', ' Red Sofa London', '  Sage', '  BT', '  ', '  Halfords', '  ', '  Ikea', ' Forensic Risk Alliance', '  ', ' AlgoLib', '  Flight Directors', '  CDK Global', ' ADLIB', '  Ralph Lauren', '  IQVIA', '  Deloitte', '  Sky', '  Keepmoat Homes', '  KANTAR', ' TalentPool', '  CBRE', '  TUI', '  Addison Lee PLC', ' Ambitious Resources Ltd', ' Srija Software Solutions Ltd', '  Arcadia Group', '  S&P Global', '  Capgemini', ' MaxAd', '  Holland & Barrett', '  Michael Page UK', '  BT', '  Spotify', '  McKesson', '  Philip Morris International', ' EXOS', '  ', ' Walt Disney Direct-to-Consumer and International', '  PLATTS', '  DLA Piper', '  First Derivatives plc', '  KANTAR', '  Wood Mackenzie', '  Amazon Online UK Limited', '  IQVIA', '  Beazley', ' Language Insight', ' Language Insight', ' Language Insight', ' Language Insight', '  Kindred Group', '  EY', '  Canon', ' keaga com', '  Moody s Investors Service', ' Lawrence Harvey', '  Gallagher', ' Better Placed', '  ', '  Kitopi', '  mercer', '  Collinson', '  Gymshark', '  ', '  Deloitte', '  Accenture', '  Oasis', '  Verastar Limited', '  Nielsen', ' Maddox Events', '  ITV Jobs', '  Home Group Limited', '  KANTAR', '  Bupa', ' Guru Systems', '  Global Blue', ' Tradeweb', '  Sainsburys', '  IQVIA', '  easyJet', '  ', '  ', '  Procter and Gamble', '  University of Birmingham', '  PwC', '  Autodesk', '  Travelopia', '  Tech Data Corporation', '  Deutsche Bank', '  Scania', '  Oracle', ' Datatech Analytics', '  NTT Data UK', '  Ricardo', '  Swiss Re', '  KPMG', ' Nuveen', '  UBS', '  Aviva', '  The Economist Group', '  Amazon EU SARL (UK Branch)', ' AXAIM Client Group', '  Argos', '  British Antarctic Survey', '  ', '  Paddy Power Betfair', '  ', ' Qualtrics', ' Quarter', '  Next PLC', '  Willis Towers Watson', ' Red Sofa London', '  Abcam', '  Philip Morris International', '  TUI', '  Marsh & McLennan Companies  Inc ', ' Operation Fistula', '  ', ' Forensic Risk Alliance', '  Saga', '  Refinitiv', '  PwC', ' Lawrence Harvey', '  AXA Insurance UK', ' Twenty Recruitment Group', ' Forward', '  PwC', '  News UK', '  Amazon UK Services Ltd ', '  Tesco', '  Amazon UK Services Ltd ', ' The Practice Group', '  Hall & Partners', ' Tandem Bank', ' Monzo', ' Thought Machine', '  CBRE', '  Concentrix', '  Spotify', '  World Vision International', '  Marks & Spencer', '  BlackRock', '  Gymshark', '  Equifax', '  Jet  com and Jet holidays', '  Concentrix', '  Refinitiv', '  ', ' Sprinklr', '  Covance', ' Credit Suisse Campus', '  Wood Mackenzie', '  Capgemini', '  Capgemini', '  AVRillo', ' Browns Fashion', '  UK Government - Department for Work and Pensions', ' Prolific', ' Datatech Analytics', '  Philip Morris International', '  PA Consulting Group', '  Deloitte', '  ZS Associates', '  HomeServe', '  Capgemini', ' English Cricket Board', ' Douglas Jackson Limited', '  GfK', '  Reed Business Information', ' Insight Consultancy', '  KANTAR', '  Concentrix', ' Maddox Events', '  Phillips   ', ' Estée Lauder - Brand', ' Datatech Analytics', '  Vodafone', ' Digital Gurus', '  ', '  Vodafone co uk', '  Deliveroo', '  ', '  ', '  Blue Pelican', ' Helm   ', ' Man', '  ', ' Carter Associates', '  ST CENTRAL', '  VRBO', ' KAYAK', ' InMoment', '  IQVIA', '  Refinitiv', '  PepsiCo', ' FXC Intelligence Ltd', ' Farfetch', ' IRI UK', '  ', '  JP Morgan Chase', ' Doctor Care Anywhere', '  Royal Society of Chemistry', '  Numatic International Limited', ' essity', '  Centrica', '  The University of Manchester', '  Evi Technologies Limited', '  University of Sheffield', '  Evi Technologies Limited', '  Ocado Group', '  Apple', '  Arm', '  Apple', '  Durham University', ' Capricorn Capital Partners UK', ' Bulletproof', ' Cabot Financial (Europe) Limited', '  Oliver Bernard', '  Lockheed Martin Corporation', '  Royal Society of Chemistry', ' causaLens', '  Royal Society of Chemistry', '  Vodafone co uk', '  Apple', ' QTG Consulting', '  Google', '  University of Bristol', '  University of Oxford', '  University of Leeds', '  Evi Technologies Limited', '  CGG', '  University of Sheffield', '  Arm', ' Tradeweb', ' Metrica Recruitment', ' Socius Technologies', '  Matchtech', ' Derwent   Aquarium Amusements', ' Metrica Recruitment', '  Matchtech', '  Amazon Dev Centre(Scotland)Ltd', ' Decision Lab Ltd', '  University of Southampton', '  Microsoft', '  Microsoft', ' ElectronRx', ' JD com', ' University of the West Scotland', '  CGG', '  Dyson', '  Oxford Innovation', '  Dyson', '  CGI', ' Logikk Limited', '  Dyson', '  Centrica', ' Blue Prism Limited', '  University of Lincoln', '  University of Oxford', '  Evi Technologies Limited', ' PROWLER io', '  Imperial College London', '  Microsoft', '  National Physical Laboratory', '  Chronomics', '  The Four Horseshoes', ' CGI', ' Lockheed Martin Corporation', ' Logikk Limited', ' Metrica Recruitment', ' Prescribing Support Services (PSS)', ' Prime Digital Advanced CCTV', ' Chronomics', ' Blue Prism Limited', ' Amazon UK Services Ltd ', ' Microsoft', ' Ricardo', ' The University of Manchester', ' Riverbright Recruitment', ' Evi Technologies Limited', ' Man', ' Dyson', ' Dyson', ' Metrica Recruitment', '  Lemon Groundwork Solutions', ' Geospatial Insight', ' REG UK', '  Amazon UK Services Ltd ', '  Coventry University', '  University of Cambridge', '  University of Oxford', '  Asos com', '  The University of Manchester', '  Transport for London', ' Engage Transform Consultancy Ltd', ' Prescribing Support Services (PSS)', '  Dyson', ' Cabot Financial (Europe) Limited', ' Tando', '  Lemon Groundwork Solutions', '  Imperial College London', '  Dyson', '  J P  Morgan', '  Amazon UK Services Ltd ', ' MARKETMATE', '  Microsoft', '  WorldRemit', '  McLaren', '  Imperial College London', ' PROWLER io', '  Centrica', '  Royal Society of Chemistry', ' Tando', ' Geospatial Insight', ' Taraz Metrology Ltd', ' Technical Team Solutions', ' decisionLab Ltd', '  Lemon Groundwork Solutions', '  Amazon UK Services Ltd ', ' PROWLER io', '  Arm', '  University of Aberdeen', '  Asos com', '  Nationwide Building Society', '  University of Cambridge', ' University of the West Scotland', '  Oliver Bernard', '  Oliver Bernard', ' Taraz Metrology Ltd', '  University of Cambridge', '  REPLY', ' PROWLER io', '  Iron Mountain', '  G-Research', '  King s College London', '  Microsoft', ' ThirdEye Labs', '  Oliver Bernard', ' Geospatial Insight', ' Taraz Metrology Ltd', '  Oliver Bernard', '  Microsoft', '  Asos com', ' Pharmatics', '  The University of Manchester', '  Babylon Health', '  Arm', '  The University of Manchester', '  AIG', '  Oliver Bernard', '  Oliver Bernard', ' Technical Team Solutions', ' Brave Software Inc ', '  Arm', ' Cambridge Cancer Genomics', '  University of Oxford', '  Apple', '  Microsoft', '  King s College London', '  University of Aberdeen', ' decisionLab Ltd', '  Apple', '  University of Oxford', ' Nucleome Therapeutics Ltd', '  King s College London', ' OakNorth Bank', '  University of Lincoln', '  Facebook', '  Dyson', '  University of the Arts London', ' Tractable', '  Apple', '  Citi', '  University of Warwick', '  AIG', '  Microsoft', ' OakNorth Bank', ' Nucleome Therapeutics Ltd', ' DataSpartan Consulting', '  University of Leeds', '  Asos com', ' Smartia', ' Understanding Recruitment', '  Barclays', '  Regal Gaming', '  Mott MacDonald', ' Geospatial Insight', '  Lemon Groundwork Solutions', ' decisionLab Ltd', '  Leeds Beckett University', '  Coventry University', '  Facebook', '  G-Research', ' Lawrence Harvey', ' Cambridge Cancer Genomics', ' Haybrook IT Resourcing', ' Mintec Quality Systems', '  Apple', '  Citi', ' Derwent   Aquarium Amusements', '  Dyson', '  ', ' Seldon', '  Regal Gaming', '  University of Edinburgh', ' AI-Adam', '  Deliveroo', '  Microsoft', '  IQVIA', ' Red  ', ' Taraz Metrology Ltd', ' Geospatial Insight', ' decisionLab Ltd', '  Revolut', '  Ocado Group', ' Newton Colmore Consulting Ltd', '  Regal Gaming', '  Oscar Technology', '  Regal Gaming', '  Apple', '  Dyson', ' nPlan', '  JPMorgan Chase & Co ', '  Accenture', '  The University of Manchester', '  Babylon Health', '  Babylon Health', ' Attest', ' Seldon', '  Dyson', ' Black Swan Data Ltd', '  Aviva', '  Bank of America', '  BNP Paribas', '  EF', '  Liquidnet', ' Seldon', '  ', '  Equinor UK Limited', '  University of Cambridge', ' PROWLER io', ' Taraz Metrology Ltd', '  IC Resources', ' Haybrook IT Resourcing', '  Havas', '  AWS EMEA SARL (UK Branch)', ' Understanding Recruitment', ' Globality  Inc ', '  Oliver Bernard', '  Amazon UK Services Ltd ', ' Akeso & Company', '  Ordnance Survey', '  University of Bristol', ' O C S ', ' Calmin group', '  Dyson', '  Booz Allen Hamilton', '  Ladbrokes', '  EF', '  ', ' White Ops', ' OpenRent', ' UK Government - MI ', '  Havas', '  Civica', ' Tractable', '  ', ' Geospatial Insight', ' Taraz Metrology Ltd', '  Lemon Groundwork Solutions', ' Wade Macdonald', '  DMGT', '  Microsoft', ' Man', ' Red  ', '  Microsoft', ' SoulTek', '  Microsoft', ' Quanticate ltd', ' decisionLab Ltd', '  Iron Mountain', '  Amazon Dev Centre(Scotland)Ltd', ' Wayhome', '  University of the Arts London', '  Nielsen', ' Internal Job Board', ' Octavius Finance', '  HM Courts and Tribunals Service', '  Loughborough University', ' Echobox', '  Dyson', ' Applause IT Ltd', '  ', '  ', '   M', '  Matchtech', ' Man', ' Seldon', '  ', '  ', '  EY', ' Astroscreen', '  JPMorgan Chase', ' WeTrack Software Limited', ' MathWorks', ' The Virtual Forge', ' Medopad', '  Goldsmiths  University of London', '  Twitter', '  PA Consulting Group', '  Revolut', '  Dyson', ' Graphcore', '  University of Warwick', ' Deep Planet', '  IC Resources', '  Apple', ' Aspire Data Recruitment', '  Groupe Kering', ' Glocomms', '  YOOX NET-A-PORTER GROUP', '  University of Cambridge', '  Samworth Brothers', '  Samsung Electronics', '  Air Products', '  Revolut', ' Auction Technology Group', '  University of Cambridge', ' Metrica Recruitment', '  Microsoft', '  Regal Gaming', '  IQVIA', ' Cambridge Bio-Augmentation Systems', ' Wade Macdonald', '  Amazon Dev Centre (London) Ltd', '  University of Cambridge', '  Multimatic', ' Geospatial Insight', '  Dyson', '  Ocado Group', ' Winston Fox', ' Cambridge Cancer Genomics', ' Black Swan Data Ltd', ' nPlan', ' Calmin group', '  Goldsmiths  University of London', ' D&B', '  ', '  Evolution Recruitment Solutions', ' decisionLab Ltd', ' MI ', ' Glocomms', '  Evi Technologies Limited', '  University of Oxford', '  ', '  Regal Gaming', '  JP Morgan Chase', '   M', '  AstraZeneca', ' sync money', ' SLAMcore', ' O C S ', '  UK Government - Met Office', '  GfK', '  Chronomics', '  Facebook', '  Coventry University', '  Mears Group', '  REPLY', '  Loughborough University', ' Yoobic', '  Newcastle University', '  University of Exeter', '  Facebook', ' MathWorks', '  Regal Gaming', '  Apple', '  Regal Gaming', '  ', ' Akeso & Company', ' Glocomms', ' Metrica Recruitment', '  University of Oxford', ' Bryden Wood', '  Schroders', '  Samsung Electronics', '  Google', ' ONI', '  University of Oxford', '  Refinitiv', ' Smartlytics Consultancy Limited', '  Mondelēz International', '  GfK', '  University of Oxford', '  Intuit', ' Linux Recruit', '  Nesta', '  Facebook', '  Volt Europe', '  Babylon Health', ' Quin', ' Eligo Recruitment Ltd', ' InstaDeep', '  Hain Daniels Group', ' ZenShin Talent', ' Fixter Ltd', '  ', '  HSBC', ' Metrica Recruitment', ' wa consultants', ' UK Connect', '  LV=Careers', ' Withers', '  Regal Gaming', '  Babylon Health', ' Attest', '  NHS Digital', '  Roche', '  University of Oxford', '  University of Surrey', ' Altius Consulting', '  Twitter', '  Volt Europe', '  Thermo Fisher Scientific', '  Caterpillar', '  University of Warwick', ' Yodlee', ' AI-Adam', ' RoboTech recruitment', '  Evi Technologies Limited', '  Lemon Groundwork Solutions', '  The Stars Group', ' Deep Planet', '  Volt Europe', '  The University of Manchester', ' Sensyne Health', ' Wayve', '  REPLY', ' Emma Technologies LTD', ' Star Actuarial Futures', '  Diaverum', ' ONE NUCLEUS', '  Nottingham Trent University', ' Creative Personnel', ' Eligo Recruitment Ltd', '  University of Bristol', '  ', '  HSBC', '  NBCUniversal', '  Deliveroo', '  Met Office', '  GSK', '  Direct Line Group', '  Leeds Beckett University', ' Staff   ', ' Newton Colmore Consulting Ltd', '  Onfido', '  AWS EMEA SARL (UK Branch)', '  Nottingham Trent University', ' Geospatial Insight', '  Gear Music', '  UK Government - Met Office', ' V Group Limited', '  Plexus', ' Winston Fox', ' MathWorks', '  Evi Technologies Limited', '  University of Nottingham', '  Caterpillar', ' Linux Recruit', '  Facebook', '  GCS Recruitment Specialists Ltd', '  AstraZeneca', '  Autodesk', ' JD com', '  NHS Digital', '  Barclays', '  IBM', '  Oliver Bernard', '  Financial Conduct Authority', '  Arm', '  King s College London', ' ZenShin Talent', ' CloudNC', '  University of Birmingham', ' MagicLab', '  Canon', '  Hain Daniels Group', '  ST CENTRAL', '  University of Warwick', ' Exscientia', '  AXA General Insurance', ' Man', ' Digital   ', ' Northpoint Recruitment', '  Venturi', '  University of Oxford', '  PlayStation', ' nPlan', '  Regal Gaming', '  ST CENTRAL', '  Mars', '  ao com', ' Emma Technologies LTD', '  UK Government - National Crime Agency', '  AWS EMEA SARL (UK Branch)', '  University of Oxford', ' Tandem Bank', '  Heriot Watt University', '  Dunelm', '  University of Warwick', '  ', '  AXA Insurance UK', '  Volt Europe', '  HSBC', '  Cummins Inc ', '  STERIS', '  Mars', '  Aviva', '  The University of Manchester', '  ', ' Fieldwork Robotics Ltd', '  Reed Business Information', ' The Green Recruitment Company', '  Beazley', '  University of Nottingham', '  University of Oxford', '  AstraZeneca', '  University of Bristol', '  Cisco Careers', '  Financial Conduct Authority', '  Goldsmiths University', '  Microsoft', '  Regal Gaming', '  University of Edinburgh', '  GfK', '  University of Sheffield', ' Persha Studia', '  NFU Mutual', '  Roche', '  Redline Group', ' Hazy', '  Citi', '  Visa', '  Chronomics', 'Nothing_found', ' Man', ' SEGULA Technologies', ' Cubica', ' Smarkets', ' Tandem Bank', '  Robert Gordon University', '  University of Warwick', ' PROWLER io', ' Tractable', ' PROWLER IO LIMITED', '  Samsung Electronics', '  Mears Group', '  Damart', '  University of Sheffield', '  Babylon Health', '  Flight Centre (UK) Limited', '  Vodafone', ' Echobox', '  Samsung Electronics', '  Flight Centre', '  University of Edinburgh', ' Bangura Solutions', '  Cisco Careers', ' Fixter Ltd', ' Linux Recruit', ' Digital   ', '  ', '  UK Government - Office for National Statistics', ' HireVue', '  La Fosse Associates', '  University of Bolton', '  University of Worcester', '  Menzies Distribution', ' European Molecular Biology Laboratory', '  Colas Rail UK', ' Nucleome Therapeutics Ltd', '  University of Sheffield', ' Northpoint Recruitment', '  IQVIA', '  Royal HaskoningDHV', '  Pennine Acute Hospitals NHS Trust', ' wa consultants', '  STERIS', '  Splunk', '  AstraZeneca', '  HMGCC', '  Mars', ' Tesonet', '  Qualcomm', '  University of Exeter', ' GrayMeta Inc ', ' Bangura Solutions', ' Doctor Care Anywhere', '  HMGCC', '  Met Office', '  Sky', '  Nottingham Trent University', '  WYG Group Ltd', ' Synopsys', ' Emotech', '  BGL Group', '  JP Morgan Chase', ' Wayhome', '  G-Research', ' Echobox', '  Diaverum', '  Splunk', ' causaLens', ' Echobox', '  University of Nottingham', '  UK Government - Office for National Statistics', ' GrayMeta Inc ', ' AlgoLib', '  Micro Focus', '  Microsoft', '  City University London', ' wa consultants', '  Samsung Electronics', ' Cambridge Quantum Computing', '  Google', '  Volt Europe', '  STERIS', ' PROWLER IO LIMITED', '  Newcastle University', ' Tesonet', ' O C S ', ' Cambridge Cancer Genomics', '  ', ' Matilda s planet', ' Digital Gurus', ' Withers', '  PlayStation', '  Anglian Water Services Ltd', '  Bunzl Cleaning & Hygiene Supplies', '  AIG', '  Babylon Health', ' re&m', '  University of Sheffield', '  HM Courts and Tribunals Service', ' European Molecular Biology Laboratory', '  Venturi', '  Samsung Electronics', ' concirrus', '  AIG', '  thebigword', '  Bank of America', '  TiVo', '  Harvey Nichols', '  HSBC', '  Dyson', '  Bedford Hospital NHS Trust', '  Aviva', '  Diaverum', '  Dunelm', ' TTP', '  NoteMachine', '  Onfido', '  Global Radio', '  The University of Manchester', ' wa consultants', '  University of Oxford', '  Makers', '  Venturi', ' re&m', '  City University London', ' Cookpad Ltd', ' Thomas Search', '  Dunelm', ' FXCM Inc ', '  Tulip Ltd', '  Microsoft', ' European Molecular Biology Laboratory', ' European Bioinformatics Institute (EMBL-EBI)', ' Echobox', ' Mint Selection', ' Ennovision Technology Solutions', '  eBay Inc ', '  IHS Markit', '  Refinitiv', ' Nucleome Therapeutics Ltd', '  Newcastle University', '  Roche', ' Darwin Rhodes', '  DXC', '  National Safety Supplies', ' Turing Intelligence Technology', '  University of Warwick', '  Mondelēz International', '  Cisco Careers', '  Wipro Limited', '  University of Birmingham', '  BAE Systems Applied Intelligence', '  STERIS', '  University of Sheffield', '  Austin Fraser', ' ATP Projects', ' Man', '  Canon', '  AXA UK', '  Pets at Home', '  Kier Group', '  DXC', '  Roche', '  Schroders', '  IQVIA', '  TestLink', '  Ocado Group', ' Exscientia', ' Afiniti', ' Farfetch', '  Menzies Distribution', '  Deloitte', ' Advantage Employment & Training Solutions Ltd', '  Enterprise Rent-A-Car', '  University of Oxford', '  Canon', ' Emotech', '  Spectra Analytics', ' TTP', '  East Kent Hospitals University NHS Foundation Trus   ', '  Samsung Electronics', '  Apple', '  Admiral Insurance', ' Corrosion RADAR', ' Consortia', ' Sentinel', '  Anglian Water Services Ltd', '  JPMorgan Chase', ' Emotech', '  Qualcomm', '  PwC', '  Ipsos', ' Man', ' Parallel Consulting', ' Veridium', ' Zencargo', ' PROWLER io', '  Deloitte', '  Google', ' Yoobic', ' Cloud Technology Solutions', '  ZOE', '  AXA UK', '  UK Government - Defence Science and Technology Lab   ', '  Diaverum', '  STERIS', '  IQVIA', '  Ladbrokes', '  University of Warwick', ' FXCM Inc ', '  Vodafone', ' Bangura Solutions', '  Michael Page UK', '  Facebook', ' SoulTek', ' Secret Intelligence Service', ' General and Medical Healthcare', '  HomeServe', '  Dunelm', '  BAE Systems Applied Intelligence', '  AXA Insurance UK', '  University of Sheffield', '  Menzies Distribution', ' wa consultants', ' Within u ', '  Microsoft', '  Page Personnel - UK', ' Klydo', ' iCat Solutions Ltd', '  University of West of Scotland', ' Quantcast', '  McLaren', '  Beazley', '  PwC', ' Smartia', ' Decoded', '  Samsung Electronics', ' Wefarm', ' Privitar', ' Octavius Finance', '  William Hill', ' WorkFusion', '  Leeds Beckett University', '  Expedia Group', ' Within u ', ' Quantcast', '  Virgin Media', '  Ocado Group', '  University of Cambridge', '  Hewlett Packard Enterprise', '  ao com', '  Tractable', '  University of Cambridge', ' Cambridge Heartwear', ' Kalido', '  SAS Institute', ' Engage Transform Consultancy Ltd', ' Yoobic', '  Capital on Tap', ' decisionLab Ltd', '  TestLink', '  William Hill', '  Financial Times', '  Samsung Electronics', '  ', ' Wefarm', ' Zarathustra Technologies Ltd ', ' Pantri Bach Cafe', '  SDL', '  GSK', '  Microsoft', ' Lawrence Harvey', ' Man', '  Nationwide Building Society', ' E-Resourcing', '  Third Republic', '  TestLink Services Ltd', '  MSD', '  University of Nottingham', '  HSBC', ' Churchill Frank', ' FPSG', '  Forsyth Barnes', '  Mitrefinch Ltd', '  EDF Energy Limited', ' Sentinel', '  Nottinghamshire Healthcare NHS Foundation Trust', ' Glocomms', '  Buzz Group', ' Hazy', ' Aspire Data Recruitment', '  ', '  ', '  Mondelēz International', ' Northpoint Recruitment', '  MSD', '  Sage', '  Mango Solutions', '  Atkins', ' Tractable', '  University of Southampton', '  Heriot Watt University', '  Michael Page UK', '  Mango Solutions', ' Synopsys', ' Rely AI', ' OpenRent', '  Leeds Beckett University', '  Micro Focus', '  Army Jobs', '  University of Sheffield', ' Noriker Power', ' Tractable', ' Farfetch', '  Slater and Gordon', '  Revolut', '  Arm', ' Urban Empire Recruitment', '  G-Research', '  KANTAR', '  ', '  The Hut Group', '  University of Birmingham', '  Ocado Group', ' Zencargo', ' Synopsys', '  EDF Trading', '  IQVIA', '  Macquarie Group Limited', '  Collinson', ' Cambridge Cancer Genomics', ' Capricorn Capital Partners UK', ' Improbable', '  Dunelm', '  G-Research', '  Arm', '  University of Bristol', '  Balfour Beatty', '  G-Research', '  PwC', ' The Virtual Forge', '  Transport for London', '  Atkins', '  The University of Manchester', ' Red Sift', '  University of Oxford', '  Revolut', ' Agility Resourcing', '  McLaren', '  Zenith', '  Oliver James Associates', '  Facebook', '  Apple', ' Astex Pharmaceuticals', '  The Hut Group', '  Optare', '  Chronomics', ' Huckletree', ' Futureheads Recruitment', ' Arctic Shores', ' Zencargo', '  Thales Group', ' UltraSoC', ' Consortia', ' Astroscreen', '  Investec', '  Barclays', ' Oho Group', '  University of Oxford', '  Risk Solutions', '  AXA General Insurance', '  Deutsche Bank', '  Samworth Brothers', '  ', '  University of Bristol', '  University of Oxford', ' CitizenMe', ' Futureheads Recruitment', ' Provention', '  University of Liverpool', ' Zest Scientific', ' BenevolentAI', '  HSBC', '  Doubletree by Hilton Dartford Bridge', ' Syntasa UK', ' Moneysupermarket Group', ' Speechmatics (Cantab Research Ltd)', '  Adobe', '  Oracle', ' Cambridge Heartwear', ' OpenRent', ' Laser Crystal Ltd', ' Churchill Frank', '  Michael Page UK', ' V Group Limited', ' White Ops', '  Dyson', '  Arm']\n"
     ]
    }
   ],
   "source": [
    "print(companies)"
   ]
  },
  {
   "cell_type": "code",
   "execution_count": 53,
   "metadata": {},
   "outputs": [
    {
     "data": {
      "text/html": [
       "<div>\n",
       "<style scoped>\n",
       "    .dataframe tbody tr th:only-of-type {\n",
       "        vertical-align: middle;\n",
       "    }\n",
       "\n",
       "    .dataframe tbody tr th {\n",
       "        vertical-align: top;\n",
       "    }\n",
       "\n",
       "    .dataframe thead th {\n",
       "        text-align: right;\n",
       "    }\n",
       "</style>\n",
       "<table border=\"1\" class=\"dataframe\">\n",
       "  <thead>\n",
       "    <tr style=\"text-align: right;\">\n",
       "      <th></th>\n",
       "      <th>company</th>\n",
       "      <th>date</th>\n",
       "      <th>description</th>\n",
       "      <th>extraction_date</th>\n",
       "      <th>full_description</th>\n",
       "      <th>job_title</th>\n",
       "      <th>jobtype</th>\n",
       "      <th>location</th>\n",
       "      <th>other_deets</th>\n",
       "      <th>salary</th>\n",
       "      <th>salary_high</th>\n",
       "      <th>salary_low</th>\n",
       "    </tr>\n",
       "  </thead>\n",
       "  <tbody>\n",
       "  </tbody>\n",
       "</table>\n",
       "</div>"
      ],
      "text/plain": [
       "Empty DataFrame\n",
       "Columns: [company, date, description, extraction_date, full_description, job_title, jobtype, location, other_deets, salary, salary_high, salary_low]\n",
       "Index: []"
      ]
     },
     "execution_count": 53,
     "metadata": {},
     "output_type": "execute_result"
    }
   ],
   "source": [
    "ads.loc[(ads['company']=='harnham')]"
   ]
  },
  {
   "cell_type": "code",
   "execution_count": null,
   "metadata": {},
   "outputs": [],
   "source": [
    "import numpy as np\n",
    "import datetime\n",
    "\n",
    "ads = ads.drop(['description', 'other_deets'], axis=1)\n",
    "ads.columns = ['company', 'job_title',  'salary','location','duration', 'description', 'jobtype','salary_low', 'salary_high']\n",
    "\n",
    "\n",
    "#industry: which industry sector\n",
    "    \n",
    "ads['industry'] = np.nan\n",
    "\n",
    "#education: required level and subject of education\n",
    "\n",
    "ads['education'] = np.nan\n",
    "\n",
    "#**career: **\n",
    "ads['career'] = np.nan\n",
    "\n",
    "#duration: How long the job had been advertised for at time of scraping\n",
    "ads['duration'] = np.nan\n",
    "\n",
    "\n",
    "\n",
    "# salary average\n",
    "#salary hour/week/year\n",
    "# duration "
   ]
  }
 ],
 "metadata": {
  "kernelspec": {
   "display_name": "Python 3",
   "language": "python",
   "name": "python3"
  },
  "language_info": {
   "codemirror_mode": {
    "name": "ipython",
    "version": 3
   },
   "file_extension": ".py",
   "mimetype": "text/x-python",
   "name": "python",
   "nbconvert_exporter": "python",
   "pygments_lexer": "ipython3",
   "version": "3.7.3"
  }
 },
 "nbformat": 4,
 "nbformat_minor": 4
}
