{
 "cells": [
  {
   "cell_type": "code",
   "execution_count": 1,
   "metadata": {},
   "outputs": [],
   "source": [
    "import pandas as pd\n",
    "import numpy as np\n",
    "from datetime import datetime"
   ]
  },
  {
   "cell_type": "code",
   "execution_count": 2,
   "metadata": {},
   "outputs": [
    {
     "data": {
      "text/plain": [
       "'/Users/jamoth/DSR/DataScienceJobs'"
      ]
     },
     "execution_count": 2,
     "metadata": {},
     "output_type": "execute_result"
    }
   ],
   "source": [
    "import os.path\n",
    "path = os.getcwd()\n",
    "parent_folder, current_folder = os.path.split(path)\n",
    "parent_folder"
   ]
  },
  {
   "cell_type": "code",
   "execution_count": 3,
   "metadata": {},
   "outputs": [],
   "source": [
    "df1 = pd.read_csv(parent_folder+'/data/indeed_de_2019_10_24_15_28.csv', sep='\\t', index_col=0)\n",
    "df2 = pd.read_csv(parent_folder+'/data/indeed_de_2019_10_24_16_10.csv', sep='\\t', index_col=0)\n",
    "df3 = pd.read_csv(parent_folder+'/data/indeed_de_2019_10_24_16_23.csv', sep='\\t', index_col=0)\n",
    "df4 = pd.read_csv(parent_folder+'/data/indeed_de_2019_10_25_14_43.csv', sep='\\t', index_col=0)\n",
    "df5 = pd.read_csv(parent_folder+'/data/indeed_de_2019_10_25_19_46.csv', sep='\\t', index_col=0)\n",
    "df6 = pd.read_csv(parent_folder+'/data/indeed_de_2019_11_04_21_54.csv', sep='\\t', index_col=0)"
   ]
  },
  {
   "cell_type": "code",
   "execution_count": 4,
   "metadata": {},
   "outputs": [
    {
     "name": "stdout",
     "output_type": "stream",
     "text": [
      "(4216, 7)\n",
      "(2831, 7)\n",
      "(885, 7)\n",
      "(4123, 8)\n",
      "(3453, 8)\n",
      "(3428, 8)\n"
     ]
    }
   ],
   "source": [
    "print(df1.shape)\n",
    "print(df2.shape)\n",
    "print(df3.shape)\n",
    "print(df4.shape)\n",
    "print(df5.shape)\n",
    "print(df6.shape)"
   ]
  },
  {
   "cell_type": "code",
   "execution_count": 5,
   "metadata": {},
   "outputs": [],
   "source": [
    "df1['url'] = 'Not available'\n",
    "df2['url'] = 'Not available'\n",
    "df3['url'] = 'Not available'"
   ]
  },
  {
   "cell_type": "code",
   "execution_count": 6,
   "metadata": {},
   "outputs": [],
   "source": [
    "df1['extraction_date'] = datetime(2019, 10, 24)\n",
    "df2['extraction_date'] = datetime(2019, 10, 24)\n",
    "df3['extraction_date'] = datetime(2019, 10, 24)\n",
    "df4['extraction_date'] = datetime(2019, 10, 25)\n",
    "df5['extraction_date'] = datetime(2019, 10, 25)\n",
    "df6['extraction_date'] = datetime(2019, 11, 4)"
   ]
  },
  {
   "cell_type": "code",
   "execution_count": null,
   "metadata": {},
   "outputs": [],
   "source": []
  },
  {
   "cell_type": "code",
   "execution_count": 7,
   "metadata": {},
   "outputs": [],
   "source": [
    "df = df1.append(df2, ignore_index=True)\n",
    "df = df.append(df3, ignore_index=True)\n",
    "df = df.append(df4, ignore_index=True)\n",
    "df = df.append(df5, ignore_index=True)\n",
    "df = df.append(df6, ignore_index=True)"
   ]
  },
  {
   "cell_type": "code",
   "execution_count": 8,
   "metadata": {},
   "outputs": [],
   "source": [
    "df.rename(columns={\"title\": \"job_title\"})\n",
    "df.company = df.company.str.strip()\n",
    "df.description = df.description.str.strip()"
   ]
  },
  {
   "cell_type": "code",
   "execution_count": null,
   "metadata": {},
   "outputs": [],
   "source": []
  },
  {
   "cell_type": "code",
   "execution_count": 9,
   "metadata": {},
   "outputs": [],
   "source": [
    "df.salary = df.salary.str.strip()\n",
    "df['salary_low'] = df['salary'].str.split('-', n = 1, expand = True)[0]\n",
    "df['salary_high'] = df['salary'].str.split('-', n = 1, expand = True)[1]"
   ]
  },
  {
   "cell_type": "code",
   "execution_count": 10,
   "metadata": {},
   "outputs": [],
   "source": [
    "df['job_type'] = 'Not available'\n",
    "df['industry'] = 'Not available'\n",
    "df['education'] = 'Not available'\n",
    "df['career'] = 'Not available'"
   ]
  },
  {
   "cell_type": "code",
   "execution_count": null,
   "metadata": {},
   "outputs": [],
   "source": []
  },
  {
   "cell_type": "code",
   "execution_count": 11,
   "metadata": {},
   "outputs": [],
   "source": [
    "#df.to_csv(parent_folder + '/data/indeed_de_all.csv', index=True, sep='\\t')"
   ]
  },
  {
   "cell_type": "code",
   "execution_count": 18,
   "metadata": {},
   "outputs": [],
   "source": []
  },
  {
   "cell_type": "code",
   "execution_count": 19,
   "metadata": {},
   "outputs": [],
   "source": []
  },
  {
   "cell_type": "code",
   "execution_count": 13,
   "metadata": {},
   "outputs": [],
   "source": []
  },
  {
   "cell_type": "code",
   "execution_count": null,
   "metadata": {},
   "outputs": [],
   "source": []
  }
 ],
 "metadata": {
  "kernelspec": {
   "display_name": "Python 3",
   "language": "python",
   "name": "python3"
  },
  "language_info": {
   "codemirror_mode": {
    "name": "ipython",
    "version": 3
   },
   "file_extension": ".py",
   "mimetype": "text/x-python",
   "name": "python",
   "nbconvert_exporter": "python",
   "pygments_lexer": "ipython3",
   "version": "3.7.4"
  }
 },
 "nbformat": 4,
 "nbformat_minor": 4
}
