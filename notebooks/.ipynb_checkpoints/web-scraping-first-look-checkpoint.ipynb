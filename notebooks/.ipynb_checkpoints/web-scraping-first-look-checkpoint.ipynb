{
 "cells": [
  {
   "cell_type": "code",
   "execution_count": null,
   "metadata": {},
   "outputs": [],
   "source": [
    "!pip install -Uq requests bs4\n",
    "\n",
    "import requests, bs4"
   ]
  },
  {
   "cell_type": "code",
   "execution_count": null,
   "metadata": {},
   "outputs": [],
   "source": [
    "url = 'https://www.indeed.co.uk/data-jobs-in-e8'\n",
    "\n",
    "#  GET request\n",
    "res = requests.get(url)\n",
    "\n",
    "#  we get back a bunch of \n",
    "res.content[:500]"
   ]
  },
  {
   "cell_type": "markdown",
   "metadata": {},
   "source": [
    "Using the *Inspect Elements* of Chrome, we can identify the class of these click cards \n",
    "- `div` elements\n",
    "- `jobsearch-SerpJobCard unifiedRow row result clickcard`\n",
    "\n",
    "![](assets/f1.png)\n",
    "\n",
    "Let's use beautiful soup to find all `div`'s with this class:"
   ]
  },
  {
   "cell_type": "code",
   "execution_count": null,
   "metadata": {},
   "outputs": [],
   "source": [
    "soup = bs4.BeautifulSoup(res.content)\n",
    "\n",
    "mydivs = soup.findAll(\"div\", {\"class\": \"jobsearch-SerpJobCard\"})"
   ]
  },
  {
   "cell_type": "markdown",
   "metadata": {},
   "source": [
    "We can also see a class that has the salaries:\n",
    "\n",
    "![](assets/f2.png)"
   ]
  },
  {
   "cell_type": "code",
   "execution_count": null,
   "metadata": {},
   "outputs": [],
   "source": [
    "soup.findAll(\"div\", {\"class\": \"salarySnippet\"})"
   ]
  },
  {
   "cell_type": "markdown",
   "metadata": {},
   "source": [
    "A final element that is useful to find are all the links `<a>` in a page:"
   ]
  },
  {
   "cell_type": "code",
   "execution_count": null,
   "metadata": {},
   "outputs": [],
   "source": [
    "links = soup.findAll(\"a\")\n",
    "\n",
    "links"
   ]
  },
  {
   "cell_type": "code",
   "execution_count": null,
   "metadata": {},
   "outputs": [],
   "source": []
  }
 ],
 "metadata": {
  "kernelspec": {
   "display_name": "Python 3",
   "language": "python",
   "name": "python3"
  },
  "language_info": {
   "codemirror_mode": {
    "name": "ipython",
    "version": 3
   },
   "file_extension": ".py",
   "mimetype": "text/x-python",
   "name": "python",
   "nbconvert_exporter": "python",
   "pygments_lexer": "ipython3",
   "version": "3.6.8"
  }
 },
 "nbformat": 4,
 "nbformat_minor": 4
}
